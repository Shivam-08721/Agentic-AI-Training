{
 "cells": [
  {
   "cell_type": "markdown",
   "metadata": {},
   "source": [
    "\n",
    "# 🧰 Day 2: API Access and Python Requests Library Hands-on\n",
    "In this Notebook, we going to explore\n",
    "- What is API and its concepts\n",
    "- What is python request library\n",
    "- Basic HTTP requests-get requests with param, post requests with data, response status code\n",
    "- Create .env file and add Openrouter API key to .env file\n",
    "- Making First call to LLM using requests and understanding its response"
   ]
  },
  {
   "cell_type": "markdown",
   "metadata": {},
   "source": [
    "## What is an API?\n",
    "- An API, or Application Programming Interface, is a set of rules that defines how applications or devices can connect and communicate with each other.\n",
    "APIs enable:\n",
    "\n",
    "    * **Integration**: Allowing different applications to work together.\n",
    "    * **Data Sharing**: Facilitating the transfer of data between systems."
   ]
  },
  {
   "cell_type": "markdown",
   "metadata": {},
   "source": [
    "### 📖 Understanding API \n",
    "| Concept            | Description / Purpose                                                                                                                                                                                                                                                                                                                                                           |\n",
    "| :----------------- | :------------------------------------------------------------------------------------------------------------------------------------------------------------------------------------------------------------------------------------------------------------------------------------------------------------------------------------------------------------------------------ |\n",
    "| **API URL (Base URL)** | The **foundational address** for an API service. It's the **common starting point** for all requests to that specific API.                                                                                                                                                                                                                                                                |\n",
    "| **Endpoint** | A **specific path** appended to the API URL that represents a **particular resource** or **function** available through the API. It tells the server what specific action or data you are requesting. <br> **Example:** If Base URL is `https://api.example.com/v1`, an endpoint might be `/users` or `/products/123`.                                                                             |\n",
    "| **Headers** | **Key-value pairs** sent in the request (and received in the response) that provide **metadata** about the **request or response**. They include things like **authentication tokens, content type, user agent information, and caching instructions**. <br> **Common Headers:** `Authorization`, `Content-Type`, `Accept`, `User-Agent`.                                                      |\n",
    "| **Data (Body/Payload)** | The **main content or payload** sent in the request, typically used with HTTP methods like `POST`, `PUT`, `PATCH`. This contains the actual information you want to send to the server (e.g., new user details, data to be updated). <br> **Format:** Often JSON or XML.                                                                                                            |\n",
    "| **Query Parameters** | **Key-value pairs appended to the URL after a `?`** (and separated by `&`) that provide **additional filtering, sorting, or pagination criteria** for the request. They are typically used with `GET` requests to modify the response. <br> **Example:** `https://api.example.com/v1/products?category=electronics&limit=10&page=2` (`category`, `limit`, `page` are query params). |\n",
    "| **Response** | The **data sent back by the API server** in reply to your request. It includes: <br> - **Status Code:** An HTTP status code (e.g., 200 OK, 404 Not Found, 500 Internal Server Error) indicating the result of the request. <br> - **Headers:** Metadata about the response. <br> - **Body (Payload):** The actual data requested, typically in JSON or XML format.                    |"
   ]
  },
  {
   "cell_type": "markdown",
   "metadata": {},
   "source": [
    "****"
   ]
  },
  {
   "cell_type": "markdown",
   "metadata": {},
   "source": [
    "## Introduction to the Python Requests Library\n",
    "- The requests library is a simple, yet **powerful, HTTP library for Python**. It allows you to **send HTTP/1.1 requests** easily.\n",
    "- It offers intuitive **methods** like **get, post, put, delete** corresponding to HTTP verbs. \n",
    "- You provide a URL and optional data/parameters, and it handles the underlying HTTP complexities.\n",
    "- The **response** from the server is **returned as a Response object**, containing **status codes, headers, and the content** (text, bytes, or JSON). \n",
    "- It's a user-friendly way to interact with web services and APIs in Python."
   ]
  },
  {
   "cell_type": "markdown",
   "metadata": {},
   "source": [
    "## Basic HTTP requests with GET, POST methods, Response and status code\n",
    "Lets install python request, make a simple python request call and explore its components\n",
    "##### Note: Please select kernel/virtual environment, before executing the code"
   ]
  },
  {
   "cell_type": "code",
   "execution_count": 39,
   "metadata": {},
   "outputs": [
    {
     "name": "stderr",
     "output_type": "stream",
     "text": [
      "\n",
      "[notice] A new release of pip available: 22.3.1 -> 25.1.1\n",
      "[notice] To update, run: python.exe -m pip install --upgrade pip\n"
     ]
    }
   ],
   "source": [
    "! pip install -q requests"
   ]
  },
  {
   "cell_type": "markdown",
   "metadata": {},
   "source": [
    "#### Import dependencies"
   ]
  },
  {
   "cell_type": "code",
   "execution_count": 1,
   "metadata": {},
   "outputs": [],
   "source": [
    "import requests"
   ]
  },
  {
   "cell_type": "markdown",
   "metadata": {},
   "source": [
    "#### GET request\n",
    "- Purpose: Retrieves data from a server."
   ]
  },
  {
   "cell_type": "code",
   "execution_count": 5,
   "metadata": {},
   "outputs": [
    {
     "name": "stdout",
     "output_type": "stream",
     "text": [
      "Status Code: 200\n",
      "--------------------\n",
      "URL with Params: https://jsonplaceholder.typicode.com/posts\n",
      "--------------------\n"
     ]
    }
   ],
   "source": [
    "# Base URL and endpoint \n",
    "url = \"https://jsonplaceholder.typicode.com/posts\"\n",
    "\n",
    "\n",
    "# Make GET request with params\n",
    "response = requests.get(url)\n",
    "\n",
    "# Print status code and JSON response\n",
    "print(\"Status Code:\", response.status_code)\n",
    "print('-'*20)\n",
    "print(\"URL with Params:\", response.url)\n",
    "print('-'*20)\n"
   ]
  },
  {
   "cell_type": "code",
   "execution_count": 9,
   "metadata": {
    "scrolled": true
   },
   "outputs": [
    {
     "data": {
      "text/plain": [
       "[{'userId': 1,\n",
       "  'id': 1,\n",
       "  'title': 'sunt aut facere repellat provident occaecati excepturi optio reprehenderit',\n",
       "  'body': 'quia et suscipit\\nsuscipit recusandae consequuntur expedita et cum\\nreprehenderit molestiae ut ut quas totam\\nnostrum rerum est autem sunt rem eveniet architecto'},\n",
       " {'userId': 1,\n",
       "  'id': 2,\n",
       "  'title': 'qui est esse',\n",
       "  'body': 'est rerum tempore vitae\\nsequi sint nihil reprehenderit dolor beatae ea dolores neque\\nfugiat blanditiis voluptate porro vel nihil molestiae ut reiciendis\\nqui aperiam non debitis possimus qui neque nisi nulla'},\n",
       " {'userId': 1,\n",
       "  'id': 3,\n",
       "  'title': 'ea molestias quasi exercitationem repellat qui ipsa sit aut',\n",
       "  'body': 'et iusto sed quo iure\\nvoluptatem occaecati omnis eligendi aut ad\\nvoluptatem doloribus vel accusantium quis pariatur\\nmolestiae porro eius odio et labore et velit aut'},\n",
       " {'userId': 1,\n",
       "  'id': 4,\n",
       "  'title': 'eum et est occaecati',\n",
       "  'body': 'ullam et saepe reiciendis voluptatem adipisci\\nsit amet autem assumenda provident rerum culpa\\nquis hic commodi nesciunt rem tenetur doloremque ipsam iure\\nquis sunt voluptatem rerum illo velit'},\n",
       " {'userId': 1,\n",
       "  'id': 5,\n",
       "  'title': 'nesciunt quas odio',\n",
       "  'body': 'repudiandae veniam quaerat sunt sed\\nalias aut fugiat sit autem sed est\\nvoluptatem omnis possimus esse voluptatibus quis\\nest aut tenetur dolor neque'},\n",
       " {'userId': 1,\n",
       "  'id': 6,\n",
       "  'title': 'dolorem eum magni eos aperiam quia',\n",
       "  'body': 'ut aspernatur corporis harum nihil quis provident sequi\\nmollitia nobis aliquid molestiae\\nperspiciatis et ea nemo ab reprehenderit accusantium quas\\nvoluptate dolores velit et doloremque molestiae'},\n",
       " {'userId': 1,\n",
       "  'id': 7,\n",
       "  'title': 'magnam facilis autem',\n",
       "  'body': 'dolore placeat quibusdam ea quo vitae\\nmagni quis enim qui quis quo nemo aut saepe\\nquidem repellat excepturi ut quia\\nsunt ut sequi eos ea sed quas'},\n",
       " {'userId': 1,\n",
       "  'id': 8,\n",
       "  'title': 'dolorem dolore est ipsam',\n",
       "  'body': 'dignissimos aperiam dolorem qui eum\\nfacilis quibusdam animi sint suscipit qui sint possimus cum\\nquaerat magni maiores excepturi\\nipsam ut commodi dolor voluptatum modi aut vitae'},\n",
       " {'userId': 1,\n",
       "  'id': 9,\n",
       "  'title': 'nesciunt iure omnis dolorem tempora et accusantium',\n",
       "  'body': 'consectetur animi nesciunt iure dolore\\nenim quia ad\\nveniam autem ut quam aut nobis\\net est aut quod aut provident voluptas autem voluptas'},\n",
       " {'userId': 1,\n",
       "  'id': 10,\n",
       "  'title': 'optio molestias id quia eum',\n",
       "  'body': 'quo et expedita modi cum officia vel magni\\ndoloribus qui repudiandae\\nvero nisi sit\\nquos veniam quod sed accusamus veritatis error'},\n",
       " {'userId': 2,\n",
       "  'id': 11,\n",
       "  'title': 'et ea vero quia laudantium autem',\n",
       "  'body': 'delectus reiciendis molestiae occaecati non minima eveniet qui voluptatibus\\naccusamus in eum beatae sit\\nvel qui neque voluptates ut commodi qui incidunt\\nut animi commodi'},\n",
       " {'userId': 2,\n",
       "  'id': 12,\n",
       "  'title': 'in quibusdam tempore odit est dolorem',\n",
       "  'body': 'itaque id aut magnam\\npraesentium quia et ea odit et ea voluptas et\\nsapiente quia nihil amet occaecati quia id voluptatem\\nincidunt ea est distinctio odio'},\n",
       " {'userId': 2,\n",
       "  'id': 13,\n",
       "  'title': 'dolorum ut in voluptas mollitia et saepe quo animi',\n",
       "  'body': 'aut dicta possimus sint mollitia voluptas commodi quo doloremque\\niste corrupti reiciendis voluptatem eius rerum\\nsit cumque quod eligendi laborum minima\\nperferendis recusandae assumenda consectetur porro architecto ipsum ipsam'},\n",
       " {'userId': 2,\n",
       "  'id': 14,\n",
       "  'title': 'voluptatem eligendi optio',\n",
       "  'body': 'fuga et accusamus dolorum perferendis illo voluptas\\nnon doloremque neque facere\\nad qui dolorum molestiae beatae\\nsed aut voluptas totam sit illum'},\n",
       " {'userId': 2,\n",
       "  'id': 15,\n",
       "  'title': 'eveniet quod temporibus',\n",
       "  'body': 'reprehenderit quos placeat\\nvelit minima officia dolores impedit repudiandae molestiae nam\\nvoluptas recusandae quis delectus\\nofficiis harum fugiat vitae'},\n",
       " {'userId': 2,\n",
       "  'id': 16,\n",
       "  'title': 'sint suscipit perspiciatis velit dolorum rerum ipsa laboriosam odio',\n",
       "  'body': 'suscipit nam nisi quo aperiam aut\\nasperiores eos fugit maiores voluptatibus quia\\nvoluptatem quis ullam qui in alias quia est\\nconsequatur magni mollitia accusamus ea nisi voluptate dicta'},\n",
       " {'userId': 2,\n",
       "  'id': 17,\n",
       "  'title': 'fugit voluptas sed molestias voluptatem provident',\n",
       "  'body': 'eos voluptas et aut odit natus earum\\naspernatur fuga molestiae ullam\\ndeserunt ratione qui eos\\nqui nihil ratione nemo velit ut aut id quo'},\n",
       " {'userId': 2,\n",
       "  'id': 18,\n",
       "  'title': 'voluptate et itaque vero tempora molestiae',\n",
       "  'body': 'eveniet quo quis\\nlaborum totam consequatur non dolor\\nut et est repudiandae\\nest voluptatem vel debitis et magnam'},\n",
       " {'userId': 2,\n",
       "  'id': 19,\n",
       "  'title': 'adipisci placeat illum aut reiciendis qui',\n",
       "  'body': 'illum quis cupiditate provident sit magnam\\nea sed aut omnis\\nveniam maiores ullam consequatur atque\\nadipisci quo iste expedita sit quos voluptas'},\n",
       " {'userId': 2,\n",
       "  'id': 20,\n",
       "  'title': 'doloribus ad provident suscipit at',\n",
       "  'body': 'qui consequuntur ducimus possimus quisquam amet similique\\nsuscipit porro ipsam amet\\neos veritatis officiis exercitationem vel fugit aut necessitatibus totam\\nomnis rerum consequatur expedita quidem cumque explicabo'},\n",
       " {'userId': 3,\n",
       "  'id': 21,\n",
       "  'title': 'asperiores ea ipsam voluptatibus modi minima quia sint',\n",
       "  'body': 'repellat aliquid praesentium dolorem quo\\nsed totam minus non itaque\\nnihil labore molestiae sunt dolor eveniet hic recusandae veniam\\ntempora et tenetur expedita sunt'},\n",
       " {'userId': 3,\n",
       "  'id': 22,\n",
       "  'title': 'dolor sint quo a velit explicabo quia nam',\n",
       "  'body': 'eos qui et ipsum ipsam suscipit aut\\nsed omnis non odio\\nexpedita earum mollitia molestiae aut atque rem suscipit\\nnam impedit esse'},\n",
       " {'userId': 3,\n",
       "  'id': 23,\n",
       "  'title': 'maxime id vitae nihil numquam',\n",
       "  'body': 'veritatis unde neque eligendi\\nquae quod architecto quo neque vitae\\nest illo sit tempora doloremque fugit quod\\net et vel beatae sequi ullam sed tenetur perspiciatis'},\n",
       " {'userId': 3,\n",
       "  'id': 24,\n",
       "  'title': 'autem hic labore sunt dolores incidunt',\n",
       "  'body': 'enim et ex nulla\\nomnis voluptas quia qui\\nvoluptatem consequatur numquam aliquam sunt\\ntotam recusandae id dignissimos aut sed asperiores deserunt'},\n",
       " {'userId': 3,\n",
       "  'id': 25,\n",
       "  'title': 'rem alias distinctio quo quis',\n",
       "  'body': 'ullam consequatur ut\\nomnis quis sit vel consequuntur\\nipsa eligendi ipsum molestiae et omnis error nostrum\\nmolestiae illo tempore quia et distinctio'},\n",
       " {'userId': 3,\n",
       "  'id': 26,\n",
       "  'title': 'est et quae odit qui non',\n",
       "  'body': 'similique esse doloribus nihil accusamus\\nomnis dolorem fuga consequuntur reprehenderit fugit recusandae temporibus\\nperspiciatis cum ut laudantium\\nomnis aut molestiae vel vero'},\n",
       " {'userId': 3,\n",
       "  'id': 27,\n",
       "  'title': 'quasi id et eos tenetur aut quo autem',\n",
       "  'body': 'eum sed dolores ipsam sint possimus debitis occaecati\\ndebitis qui qui et\\nut placeat enim earum aut odit facilis\\nconsequatur suscipit necessitatibus rerum sed inventore temporibus consequatur'},\n",
       " {'userId': 3,\n",
       "  'id': 28,\n",
       "  'title': 'delectus ullam et corporis nulla voluptas sequi',\n",
       "  'body': 'non et quaerat ex quae ad maiores\\nmaiores recusandae totam aut blanditiis mollitia quas illo\\nut voluptatibus voluptatem\\nsimilique nostrum eum'},\n",
       " {'userId': 3,\n",
       "  'id': 29,\n",
       "  'title': 'iusto eius quod necessitatibus culpa ea',\n",
       "  'body': 'odit magnam ut saepe sed non qui\\ntempora atque nihil\\naccusamus illum doloribus illo dolor\\neligendi repudiandae odit magni similique sed cum maiores'},\n",
       " {'userId': 3,\n",
       "  'id': 30,\n",
       "  'title': 'a quo magni similique perferendis',\n",
       "  'body': 'alias dolor cumque\\nimpedit blanditiis non eveniet odio maxime\\nblanditiis amet eius quis tempora quia autem rem\\na provident perspiciatis quia'},\n",
       " {'userId': 4,\n",
       "  'id': 31,\n",
       "  'title': 'ullam ut quidem id aut vel consequuntur',\n",
       "  'body': 'debitis eius sed quibusdam non quis consectetur vitae\\nimpedit ut qui consequatur sed aut in\\nquidem sit nostrum et maiores adipisci atque\\nquaerat voluptatem adipisci repudiandae'},\n",
       " {'userId': 4,\n",
       "  'id': 32,\n",
       "  'title': 'doloremque illum aliquid sunt',\n",
       "  'body': 'deserunt eos nobis asperiores et hic\\nest debitis repellat molestiae optio\\nnihil ratione ut eos beatae quibusdam distinctio maiores\\nearum voluptates et aut adipisci ea maiores voluptas maxime'},\n",
       " {'userId': 4,\n",
       "  'id': 33,\n",
       "  'title': 'qui explicabo molestiae dolorem',\n",
       "  'body': 'rerum ut et numquam laborum odit est sit\\nid qui sint in\\nquasi tenetur tempore aperiam et quaerat qui in\\nrerum officiis sequi cumque quod'},\n",
       " {'userId': 4,\n",
       "  'id': 34,\n",
       "  'title': 'magnam ut rerum iure',\n",
       "  'body': 'ea velit perferendis earum ut voluptatem voluptate itaque iusto\\ntotam pariatur in\\nnemo voluptatem voluptatem autem magni tempora minima in\\nest distinctio qui assumenda accusamus dignissimos officia nesciunt nobis'},\n",
       " {'userId': 4,\n",
       "  'id': 35,\n",
       "  'title': 'id nihil consequatur molestias animi provident',\n",
       "  'body': 'nisi error delectus possimus ut eligendi vitae\\nplaceat eos harum cupiditate facilis reprehenderit voluptatem beatae\\nmodi ducimus quo illum voluptas eligendi\\net nobis quia fugit'},\n",
       " {'userId': 4,\n",
       "  'id': 36,\n",
       "  'title': 'fuga nam accusamus voluptas reiciendis itaque',\n",
       "  'body': 'ad mollitia et omnis minus architecto odit\\nvoluptas doloremque maxime aut non ipsa qui alias veniam\\nblanditiis culpa aut quia nihil cumque facere et occaecati\\nqui aspernatur quia eaque ut aperiam inventore'},\n",
       " {'userId': 4,\n",
       "  'id': 37,\n",
       "  'title': 'provident vel ut sit ratione est',\n",
       "  'body': 'debitis et eaque non officia sed nesciunt pariatur vel\\nvoluptatem iste vero et ea\\nnumquam aut expedita ipsum nulla in\\nvoluptates omnis consequatur aut enim officiis in quam qui'},\n",
       " {'userId': 4,\n",
       "  'id': 38,\n",
       "  'title': 'explicabo et eos deleniti nostrum ab id repellendus',\n",
       "  'body': 'animi esse sit aut sit nesciunt assumenda eum voluptas\\nquia voluptatibus provident quia necessitatibus ea\\nrerum repudiandae quia voluptatem delectus fugit aut id quia\\nratione optio eos iusto veniam iure'},\n",
       " {'userId': 4,\n",
       "  'id': 39,\n",
       "  'title': 'eos dolorem iste accusantium est eaque quam',\n",
       "  'body': 'corporis rerum ducimus vel eum accusantium\\nmaxime aspernatur a porro possimus iste omnis\\nest in deleniti asperiores fuga aut\\nvoluptas sapiente vel dolore minus voluptatem incidunt ex'},\n",
       " {'userId': 4,\n",
       "  'id': 40,\n",
       "  'title': 'enim quo cumque',\n",
       "  'body': 'ut voluptatum aliquid illo tenetur nemo sequi quo facilis\\nipsum rem optio mollitia quas\\nvoluptatem eum voluptas qui\\nunde omnis voluptatem iure quasi maxime voluptas nam'},\n",
       " {'userId': 5,\n",
       "  'id': 41,\n",
       "  'title': 'non est facere',\n",
       "  'body': 'molestias id nostrum\\nexcepturi molestiae dolore omnis repellendus quaerat saepe\\nconsectetur iste quaerat tenetur asperiores accusamus ex ut\\nnam quidem est ducimus sunt debitis saepe'},\n",
       " {'userId': 5,\n",
       "  'id': 42,\n",
       "  'title': 'commodi ullam sint et excepturi error explicabo praesentium voluptas',\n",
       "  'body': 'odio fugit voluptatum ducimus earum autem est incidunt voluptatem\\nodit reiciendis aliquam sunt sequi nulla dolorem\\nnon facere repellendus voluptates quia\\nratione harum vitae ut'},\n",
       " {'userId': 5,\n",
       "  'id': 43,\n",
       "  'title': 'eligendi iste nostrum consequuntur adipisci praesentium sit beatae perferendis',\n",
       "  'body': 'similique fugit est\\nillum et dolorum harum et voluptate eaque quidem\\nexercitationem quos nam commodi possimus cum odio nihil nulla\\ndolorum exercitationem magnam ex et a et distinctio debitis'},\n",
       " {'userId': 5,\n",
       "  'id': 44,\n",
       "  'title': 'optio dolor molestias sit',\n",
       "  'body': 'temporibus est consectetur dolore\\net libero debitis vel velit laboriosam quia\\nipsum quibusdam qui itaque fuga rem aut\\nea et iure quam sed maxime ut distinctio quae'},\n",
       " {'userId': 5,\n",
       "  'id': 45,\n",
       "  'title': 'ut numquam possimus omnis eius suscipit laudantium iure',\n",
       "  'body': 'est natus reiciendis nihil possimus aut provident\\nex et dolor\\nrepellat pariatur est\\nnobis rerum repellendus dolorem autem'},\n",
       " {'userId': 5,\n",
       "  'id': 46,\n",
       "  'title': 'aut quo modi neque nostrum ducimus',\n",
       "  'body': 'voluptatem quisquam iste\\nvoluptatibus natus officiis facilis dolorem\\nquis quas ipsam\\nvel et voluptatum in aliquid'},\n",
       " {'userId': 5,\n",
       "  'id': 47,\n",
       "  'title': 'quibusdam cumque rem aut deserunt',\n",
       "  'body': 'voluptatem assumenda ut qui ut cupiditate aut impedit veniam\\noccaecati nemo illum voluptatem laudantium\\nmolestiae beatae rerum ea iure soluta nostrum\\neligendi et voluptate'},\n",
       " {'userId': 5,\n",
       "  'id': 48,\n",
       "  'title': 'ut voluptatem illum ea doloribus itaque eos',\n",
       "  'body': 'voluptates quo voluptatem facilis iure occaecati\\nvel assumenda rerum officia et\\nillum perspiciatis ab deleniti\\nlaudantium repellat ad ut et autem reprehenderit'},\n",
       " {'userId': 5,\n",
       "  'id': 49,\n",
       "  'title': 'laborum non sunt aut ut assumenda perspiciatis voluptas',\n",
       "  'body': 'inventore ab sint\\nnatus fugit id nulla sequi architecto nihil quaerat\\neos tenetur in in eum veritatis non\\nquibusdam officiis aspernatur cumque aut commodi aut'},\n",
       " {'userId': 5,\n",
       "  'id': 50,\n",
       "  'title': 'repellendus qui recusandae incidunt voluptates tenetur qui omnis exercitationem',\n",
       "  'body': 'error suscipit maxime adipisci consequuntur recusandae\\nvoluptas eligendi et est et voluptates\\nquia distinctio ab amet quaerat molestiae et vitae\\nadipisci impedit sequi nesciunt quis consectetur'},\n",
       " {'userId': 6,\n",
       "  'id': 51,\n",
       "  'title': 'soluta aliquam aperiam consequatur illo quis voluptas',\n",
       "  'body': 'sunt dolores aut doloribus\\ndolore doloribus voluptates tempora et\\ndoloremque et quo\\ncum asperiores sit consectetur dolorem'},\n",
       " {'userId': 6,\n",
       "  'id': 52,\n",
       "  'title': 'qui enim et consequuntur quia animi quis voluptate quibusdam',\n",
       "  'body': 'iusto est quibusdam fuga quas quaerat molestias\\na enim ut sit accusamus enim\\ntemporibus iusto accusantium provident architecto\\nsoluta esse reprehenderit qui laborum'},\n",
       " {'userId': 6,\n",
       "  'id': 53,\n",
       "  'title': 'ut quo aut ducimus alias',\n",
       "  'body': 'minima harum praesentium eum rerum illo dolore\\nquasi exercitationem rerum nam\\nporro quis neque quo\\nconsequatur minus dolor quidem veritatis sunt non explicabo similique'},\n",
       " {'userId': 6,\n",
       "  'id': 54,\n",
       "  'title': 'sit asperiores ipsam eveniet odio non quia',\n",
       "  'body': 'totam corporis dignissimos\\nvitae dolorem ut occaecati accusamus\\nex velit deserunt\\net exercitationem vero incidunt corrupti mollitia'},\n",
       " {'userId': 6,\n",
       "  'id': 55,\n",
       "  'title': 'sit vel voluptatem et non libero',\n",
       "  'body': 'debitis excepturi ea perferendis harum libero optio\\neos accusamus cum fuga ut sapiente repudiandae\\net ut incidunt omnis molestiae\\nnihil ut eum odit'},\n",
       " {'userId': 6,\n",
       "  'id': 56,\n",
       "  'title': 'qui et at rerum necessitatibus',\n",
       "  'body': 'aut est omnis dolores\\nneque rerum quod ea rerum velit pariatur beatae excepturi\\net provident voluptas corrupti\\ncorporis harum reprehenderit dolores eligendi'},\n",
       " {'userId': 6,\n",
       "  'id': 57,\n",
       "  'title': 'sed ab est est',\n",
       "  'body': 'at pariatur consequuntur earum quidem\\nquo est laudantium soluta voluptatem\\nqui ullam et est\\net cum voluptas voluptatum repellat est'},\n",
       " {'userId': 6,\n",
       "  'id': 58,\n",
       "  'title': 'voluptatum itaque dolores nisi et quasi',\n",
       "  'body': 'veniam voluptatum quae adipisci id\\net id quia eos ad et dolorem\\naliquam quo nisi sunt eos impedit error\\nad similique veniam'},\n",
       " {'userId': 6,\n",
       "  'id': 59,\n",
       "  'title': 'qui commodi dolor at maiores et quis id accusantium',\n",
       "  'body': 'perspiciatis et quam ea autem temporibus non voluptatibus qui\\nbeatae a earum officia nesciunt dolores suscipit voluptas et\\nanimi doloribus cum rerum quas et magni\\net hic ut ut commodi expedita sunt'},\n",
       " {'userId': 6,\n",
       "  'id': 60,\n",
       "  'title': 'consequatur placeat omnis quisquam quia reprehenderit fugit veritatis facere',\n",
       "  'body': 'asperiores sunt ab assumenda cumque modi velit\\nqui esse omnis\\nvoluptate et fuga perferendis voluptas\\nillo ratione amet aut et omnis'},\n",
       " {'userId': 7,\n",
       "  'id': 61,\n",
       "  'title': 'voluptatem doloribus consectetur est ut ducimus',\n",
       "  'body': 'ab nemo optio odio\\ndelectus tenetur corporis similique nobis repellendus rerum omnis facilis\\nvero blanditiis debitis in nesciunt doloribus dicta dolores\\nmagnam minus velit'},\n",
       " {'userId': 7,\n",
       "  'id': 62,\n",
       "  'title': 'beatae enim quia vel',\n",
       "  'body': 'enim aspernatur illo distinctio quae praesentium\\nbeatae alias amet delectus qui voluptate distinctio\\nodit sint accusantium autem omnis\\nquo molestiae omnis ea eveniet optio'},\n",
       " {'userId': 7,\n",
       "  'id': 63,\n",
       "  'title': 'voluptas blanditiis repellendus animi ducimus error sapiente et suscipit',\n",
       "  'body': 'enim adipisci aspernatur nemo\\nnumquam omnis facere dolorem dolor ex quis temporibus incidunt\\nab delectus culpa quo reprehenderit blanditiis asperiores\\naccusantium ut quam in voluptatibus voluptas ipsam dicta'},\n",
       " {'userId': 7,\n",
       "  'id': 64,\n",
       "  'title': 'et fugit quas eum in in aperiam quod',\n",
       "  'body': 'id velit blanditiis\\neum ea voluptatem\\nmolestiae sint occaecati est eos perspiciatis\\nincidunt a error provident eaque aut aut qui'},\n",
       " {'userId': 7,\n",
       "  'id': 65,\n",
       "  'title': 'consequatur id enim sunt et et',\n",
       "  'body': 'voluptatibus ex esse\\nsint explicabo est aliquid cumque adipisci fuga repellat labore\\nmolestiae corrupti ex saepe at asperiores et perferendis\\nnatus id esse incidunt pariatur'},\n",
       " {'userId': 7,\n",
       "  'id': 66,\n",
       "  'title': 'repudiandae ea animi iusto',\n",
       "  'body': 'officia veritatis tenetur vero qui itaque\\nsint non ratione\\nsed et ut asperiores iusto eos molestiae nostrum\\nveritatis quibusdam et nemo iusto saepe'},\n",
       " {'userId': 7,\n",
       "  'id': 67,\n",
       "  'title': 'aliquid eos sed fuga est maxime repellendus',\n",
       "  'body': 'reprehenderit id nostrum\\nvoluptas doloremque pariatur sint et accusantium quia quod aspernatur\\net fugiat amet\\nnon sapiente et consequatur necessitatibus molestiae'},\n",
       " {'userId': 7,\n",
       "  'id': 68,\n",
       "  'title': 'odio quis facere architecto reiciendis optio',\n",
       "  'body': 'magnam molestiae perferendis quisquam\\nqui cum reiciendis\\nquaerat animi amet hic inventore\\nea quia deleniti quidem saepe porro velit'},\n",
       " {'userId': 7,\n",
       "  'id': 69,\n",
       "  'title': 'fugiat quod pariatur odit minima',\n",
       "  'body': 'officiis error culpa consequatur modi asperiores et\\ndolorum assumenda voluptas et vel qui aut vel rerum\\nvoluptatum quisquam perspiciatis quia rerum consequatur totam quas\\nsequi commodi repudiandae asperiores et saepe a'},\n",
       " {'userId': 7,\n",
       "  'id': 70,\n",
       "  'title': 'voluptatem laborum magni',\n",
       "  'body': 'sunt repellendus quae\\nest asperiores aut deleniti esse accusamus repellendus quia aut\\nquia dolorem unde\\neum tempora esse dolore'},\n",
       " {'userId': 8,\n",
       "  'id': 71,\n",
       "  'title': 'et iusto veniam et illum aut fuga',\n",
       "  'body': 'occaecati a doloribus\\niste saepe consectetur placeat eum voluptate dolorem et\\nqui quo quia voluptas\\nrerum ut id enim velit est perferendis'},\n",
       " {'userId': 8,\n",
       "  'id': 72,\n",
       "  'title': 'sint hic doloribus consequatur eos non id',\n",
       "  'body': 'quam occaecati qui deleniti consectetur\\nconsequatur aut facere quas exercitationem aliquam hic voluptas\\nneque id sunt ut aut accusamus\\nsunt consectetur expedita inventore velit'},\n",
       " {'userId': 8,\n",
       "  'id': 73,\n",
       "  'title': 'consequuntur deleniti eos quia temporibus ab aliquid at',\n",
       "  'body': 'voluptatem cumque tenetur consequatur expedita ipsum nemo quia explicabo\\naut eum minima consequatur\\ntempore cumque quae est et\\net in consequuntur voluptatem voluptates aut'},\n",
       " {'userId': 8,\n",
       "  'id': 74,\n",
       "  'title': 'enim unde ratione doloribus quas enim ut sit sapiente',\n",
       "  'body': 'odit qui et et necessitatibus sint veniam\\nmollitia amet doloremque molestiae commodi similique magnam et quam\\nblanditiis est itaque\\nquo et tenetur ratione occaecati molestiae tempora'},\n",
       " {'userId': 8,\n",
       "  'id': 75,\n",
       "  'title': 'dignissimos eum dolor ut enim et delectus in',\n",
       "  'body': 'commodi non non omnis et voluptas sit\\nautem aut nobis magnam et sapiente voluptatem\\net laborum repellat qui delectus facilis temporibus\\nrerum amet et nemo voluptate expedita adipisci error dolorem'},\n",
       " {'userId': 8,\n",
       "  'id': 76,\n",
       "  'title': 'doloremque officiis ad et non perferendis',\n",
       "  'body': 'ut animi facere\\ntotam iusto tempore\\nmolestiae eum aut et dolorem aperiam\\nquaerat recusandae totam odio'},\n",
       " {'userId': 8,\n",
       "  'id': 77,\n",
       "  'title': 'necessitatibus quasi exercitationem odio',\n",
       "  'body': 'modi ut in nulla repudiandae dolorum nostrum eos\\naut consequatur omnis\\nut incidunt est omnis iste et quam\\nvoluptates sapiente aliquam asperiores nobis amet corrupti repudiandae provident'},\n",
       " {'userId': 8,\n",
       "  'id': 78,\n",
       "  'title': 'quam voluptatibus rerum veritatis',\n",
       "  'body': 'nobis facilis odit tempore cupiditate quia\\nassumenda doloribus rerum qui ea\\nillum et qui totam\\naut veniam repellendus'},\n",
       " {'userId': 8,\n",
       "  'id': 79,\n",
       "  'title': 'pariatur consequatur quia magnam autem omnis non amet',\n",
       "  'body': 'libero accusantium et et facere incidunt sit dolorem\\nnon excepturi qui quia sed laudantium\\nquisquam molestiae ducimus est\\nofficiis esse molestiae iste et quos'},\n",
       " {'userId': 8,\n",
       "  'id': 80,\n",
       "  'title': 'labore in ex et explicabo corporis aut quas',\n",
       "  'body': 'ex quod dolorem ea eum iure qui provident amet\\nquia qui facere excepturi et repudiandae\\nasperiores molestias provident\\nminus incidunt vero fugit rerum sint sunt excepturi provident'},\n",
       " {'userId': 9,\n",
       "  'id': 81,\n",
       "  'title': 'tempora rem veritatis voluptas quo dolores vero',\n",
       "  'body': 'facere qui nesciunt est voluptatum voluptatem nisi\\nsequi eligendi necessitatibus ea at rerum itaque\\nharum non ratione velit laboriosam quis consequuntur\\nex officiis minima doloremque voluptas ut aut'},\n",
       " {'userId': 9,\n",
       "  'id': 82,\n",
       "  'title': 'laudantium voluptate suscipit sunt enim enim',\n",
       "  'body': 'ut libero sit aut totam inventore sunt\\nporro sint qui sunt molestiae\\nconsequatur cupiditate qui iste ducimus adipisci\\ndolor enim assumenda soluta laboriosam amet iste delectus hic'},\n",
       " {'userId': 9,\n",
       "  'id': 83,\n",
       "  'title': 'odit et voluptates doloribus alias odio et',\n",
       "  'body': 'est molestiae facilis quis tempora numquam nihil qui\\nvoluptate sapiente consequatur est qui\\nnecessitatibus autem aut ipsa aperiam modi dolore numquam\\nreprehenderit eius rem quibusdam'},\n",
       " {'userId': 9,\n",
       "  'id': 84,\n",
       "  'title': 'optio ipsam molestias necessitatibus occaecati facilis veritatis dolores aut',\n",
       "  'body': 'sint molestiae magni a et quos\\neaque et quasi\\nut rerum debitis similique veniam\\nrecusandae dignissimos dolor incidunt consequatur odio'},\n",
       " {'userId': 9,\n",
       "  'id': 85,\n",
       "  'title': 'dolore veritatis porro provident adipisci blanditiis et sunt',\n",
       "  'body': 'similique sed nisi voluptas iusto omnis\\nmollitia et quo\\nassumenda suscipit officia magnam sint sed tempora\\nenim provident pariatur praesentium atque animi amet ratione'},\n",
       " {'userId': 9,\n",
       "  'id': 86,\n",
       "  'title': 'placeat quia et porro iste',\n",
       "  'body': 'quasi excepturi consequatur iste autem temporibus sed molestiae beatae\\net quaerat et esse ut\\nvoluptatem occaecati et vel explicabo autem\\nasperiores pariatur deserunt optio'},\n",
       " {'userId': 9,\n",
       "  'id': 87,\n",
       "  'title': 'nostrum quis quasi placeat',\n",
       "  'body': 'eos et molestiae\\nnesciunt ut a\\ndolores perspiciatis repellendus repellat aliquid\\nmagnam sint rem ipsum est'},\n",
       " {'userId': 9,\n",
       "  'id': 88,\n",
       "  'title': 'sapiente omnis fugit eos',\n",
       "  'body': 'consequatur omnis est praesentium\\nducimus non iste\\nneque hic deserunt\\nvoluptatibus veniam cum et rerum sed'},\n",
       " {'userId': 9,\n",
       "  'id': 89,\n",
       "  'title': 'sint soluta et vel magnam aut ut sed qui',\n",
       "  'body': 'repellat aut aperiam totam temporibus autem et\\narchitecto magnam ut\\nconsequatur qui cupiditate rerum quia soluta dignissimos nihil iure\\ntempore quas est'},\n",
       " {'userId': 9,\n",
       "  'id': 90,\n",
       "  'title': 'ad iusto omnis odit dolor voluptatibus',\n",
       "  'body': 'minus omnis soluta quia\\nqui sed adipisci voluptates illum ipsam voluptatem\\neligendi officia ut in\\neos soluta similique molestias praesentium blanditiis'},\n",
       " {'userId': 10,\n",
       "  'id': 91,\n",
       "  'title': 'aut amet sed',\n",
       "  'body': 'libero voluptate eveniet aperiam sed\\nsunt placeat suscipit molestias\\nsimilique fugit nam natus\\nexpedita consequatur consequatur dolores quia eos et placeat'},\n",
       " {'userId': 10,\n",
       "  'id': 92,\n",
       "  'title': 'ratione ex tenetur perferendis',\n",
       "  'body': 'aut et excepturi dicta laudantium sint rerum nihil\\nlaudantium et at\\na neque minima officia et similique libero et\\ncommodi voluptate qui'},\n",
       " {'userId': 10,\n",
       "  'id': 93,\n",
       "  'title': 'beatae soluta recusandae',\n",
       "  'body': 'dolorem quibusdam ducimus consequuntur dicta aut quo laboriosam\\nvoluptatem quis enim recusandae ut sed sunt\\nnostrum est odit totam\\nsit error sed sunt eveniet provident qui nulla'},\n",
       " {'userId': 10,\n",
       "  'id': 94,\n",
       "  'title': 'qui qui voluptates illo iste minima',\n",
       "  'body': 'aspernatur expedita soluta quo ab ut similique\\nexpedita dolores amet\\nsed temporibus distinctio magnam saepe deleniti\\nomnis facilis nam ipsum natus sint similique omnis'},\n",
       " {'userId': 10,\n",
       "  'id': 95,\n",
       "  'title': 'id minus libero illum nam ad officiis',\n",
       "  'body': 'earum voluptatem facere provident blanditiis velit laboriosam\\npariatur accusamus odio saepe\\ncumque dolor qui a dicta ab doloribus consequatur omnis\\ncorporis cupiditate eaque assumenda ad nesciunt'},\n",
       " {'userId': 10,\n",
       "  'id': 96,\n",
       "  'title': 'quaerat velit veniam amet cupiditate aut numquam ut sequi',\n",
       "  'body': 'in non odio excepturi sint eum\\nlabore voluptates vitae quia qui et\\ninventore itaque rerum\\nveniam non exercitationem delectus aut'},\n",
       " {'userId': 10,\n",
       "  'id': 97,\n",
       "  'title': 'quas fugiat ut perspiciatis vero provident',\n",
       "  'body': 'eum non blanditiis soluta porro quibusdam voluptas\\nvel voluptatem qui placeat dolores qui velit aut\\nvel inventore aut cumque culpa explicabo aliquid at\\nperspiciatis est et voluptatem dignissimos dolor itaque sit nam'},\n",
       " {'userId': 10,\n",
       "  'id': 98,\n",
       "  'title': 'laboriosam dolor voluptates',\n",
       "  'body': 'doloremque ex facilis sit sint culpa\\nsoluta assumenda eligendi non ut eius\\nsequi ducimus vel quasi\\nveritatis est dolores'},\n",
       " {'userId': 10,\n",
       "  'id': 99,\n",
       "  'title': 'temporibus sit alias delectus eligendi possimus magni',\n",
       "  'body': 'quo deleniti praesentium dicta non quod\\naut est molestias\\nmolestias et officia quis nihil\\nitaque dolorem quia'},\n",
       " {'userId': 10,\n",
       "  'id': 100,\n",
       "  'title': 'at nam consequatur ea labore ea harum',\n",
       "  'body': 'cupiditate quo est a modi nesciunt soluta\\nipsa voluptas error itaque dicta in\\nautem qui minus magnam et distinctio eum\\naccusamus ratione error aut'}]"
      ]
     },
     "execution_count": 9,
     "metadata": {},
     "output_type": "execute_result"
    }
   ],
   "source": [
    "# Print the JSON response\n",
    "response.json()"
   ]
  },
  {
   "cell_type": "markdown",
   "metadata": {},
   "source": [
    "#### GET request with params\n",
    "- Purpose: Retrieves data from a server with filter."
   ]
  },
  {
   "cell_type": "code",
   "execution_count": 10,
   "metadata": {},
   "outputs": [
    {
     "name": "stdout",
     "output_type": "stream",
     "text": [
      "Status Code: 200\n",
      "--------------------\n",
      "URL with Params: https://jsonplaceholder.typicode.com/posts?userId=1\n",
      "--------------------\n"
     ]
    }
   ],
   "source": [
    "# Base URL and endpoint \n",
    "url = \"https://jsonplaceholder.typicode.com/posts\"\n",
    "\n",
    "# Query parameters\n",
    "params = {\n",
    "    'userId': 1\n",
    "    }\n",
    "\n",
    "# Headers\n",
    "headers = {'content-Type':'application/json'}\n",
    "\n",
    "# Make GET request with params\n",
    "response = requests.get(url, params=params, headers = headers)\n",
    "\n",
    "# Print status code and JSON response\n",
    "print(\"Status Code:\", response.status_code)\n",
    "print('-'*20)\n",
    "print(\"URL with Params:\", response.url)\n",
    "print('-'*20)"
   ]
  },
  {
   "cell_type": "code",
   "execution_count": 12,
   "metadata": {},
   "outputs": [
    {
     "data": {
      "text/plain": [
       "[{'userId': 1,\n",
       "  'id': 1,\n",
       "  'title': 'sunt aut facere repellat provident occaecati excepturi optio reprehenderit',\n",
       "  'body': 'quia et suscipit\\nsuscipit recusandae consequuntur expedita et cum\\nreprehenderit molestiae ut ut quas totam\\nnostrum rerum est autem sunt rem eveniet architecto'},\n",
       " {'userId': 1,\n",
       "  'id': 2,\n",
       "  'title': 'qui est esse',\n",
       "  'body': 'est rerum tempore vitae\\nsequi sint nihil reprehenderit dolor beatae ea dolores neque\\nfugiat blanditiis voluptate porro vel nihil molestiae ut reiciendis\\nqui aperiam non debitis possimus qui neque nisi nulla'},\n",
       " {'userId': 1,\n",
       "  'id': 3,\n",
       "  'title': 'ea molestias quasi exercitationem repellat qui ipsa sit aut',\n",
       "  'body': 'et iusto sed quo iure\\nvoluptatem occaecati omnis eligendi aut ad\\nvoluptatem doloribus vel accusantium quis pariatur\\nmolestiae porro eius odio et labore et velit aut'},\n",
       " {'userId': 1,\n",
       "  'id': 4,\n",
       "  'title': 'eum et est occaecati',\n",
       "  'body': 'ullam et saepe reiciendis voluptatem adipisci\\nsit amet autem assumenda provident rerum culpa\\nquis hic commodi nesciunt rem tenetur doloremque ipsam iure\\nquis sunt voluptatem rerum illo velit'},\n",
       " {'userId': 1,\n",
       "  'id': 5,\n",
       "  'title': 'nesciunt quas odio',\n",
       "  'body': 'repudiandae veniam quaerat sunt sed\\nalias aut fugiat sit autem sed est\\nvoluptatem omnis possimus esse voluptatibus quis\\nest aut tenetur dolor neque'},\n",
       " {'userId': 1,\n",
       "  'id': 6,\n",
       "  'title': 'dolorem eum magni eos aperiam quia',\n",
       "  'body': 'ut aspernatur corporis harum nihil quis provident sequi\\nmollitia nobis aliquid molestiae\\nperspiciatis et ea nemo ab reprehenderit accusantium quas\\nvoluptate dolores velit et doloremque molestiae'},\n",
       " {'userId': 1,\n",
       "  'id': 7,\n",
       "  'title': 'magnam facilis autem',\n",
       "  'body': 'dolore placeat quibusdam ea quo vitae\\nmagni quis enim qui quis quo nemo aut saepe\\nquidem repellat excepturi ut quia\\nsunt ut sequi eos ea sed quas'},\n",
       " {'userId': 1,\n",
       "  'id': 8,\n",
       "  'title': 'dolorem dolore est ipsam',\n",
       "  'body': 'dignissimos aperiam dolorem qui eum\\nfacilis quibusdam animi sint suscipit qui sint possimus cum\\nquaerat magni maiores excepturi\\nipsam ut commodi dolor voluptatum modi aut vitae'},\n",
       " {'userId': 1,\n",
       "  'id': 9,\n",
       "  'title': 'nesciunt iure omnis dolorem tempora et accusantium',\n",
       "  'body': 'consectetur animi nesciunt iure dolore\\nenim quia ad\\nveniam autem ut quam aut nobis\\net est aut quod aut provident voluptas autem voluptas'},\n",
       " {'userId': 1,\n",
       "  'id': 10,\n",
       "  'title': 'optio molestias id quia eum',\n",
       "  'body': 'quo et expedita modi cum officia vel magni\\ndoloribus qui repudiandae\\nvero nisi sit\\nquos veniam quod sed accusamus veritatis error'}]"
      ]
     },
     "execution_count": 12,
     "metadata": {},
     "output_type": "execute_result"
    }
   ],
   "source": [
    "# Print the JSON response\n",
    "response.json()"
   ]
  },
  {
   "cell_type": "markdown",
   "metadata": {},
   "source": [
    "#### POST method request with data\n",
    "- Purpose: Submits data to a server to create a new resource or perform an action."
   ]
  },
  {
   "cell_type": "code",
   "execution_count": 42,
   "metadata": {},
   "outputs": [
    {
     "name": "stdout",
     "output_type": "stream",
     "text": [
      "Status Code: 201\n",
      "--------------------------------------------------\n",
      "Response JSON:\n",
      "{'title': 'Foo', 'body': 'Bar content here', 'userId': 1, 'id': 101}\n"
     ]
    }
   ],
   "source": [
    "import requests\n",
    "\n",
    "# Base URL and endpoint for creating a post\n",
    "url = \"https://jsonplaceholder.typicode.com/posts\"\n",
    "\n",
    "# Headers\n",
    "headers = {\n",
    "    \"Content-Type\": \"application/json\",\n",
    "    \"Authorization\": \"Bearer YOUR_TOKEN_HERE\"\n",
    "}\n",
    "\n",
    "# JSON data to send \n",
    "data = {\n",
    "    \"title\": \"Foo\",\n",
    "    \"body\": \"Bar content here\",\n",
    "    \"userId\": 1\n",
    "}\n",
    "\n",
    "# Make POST request\n",
    "response = requests.post(url, json=data, headers=headers)\n",
    "\n",
    "# Print status code and returned data\n",
    "print(\"Status Code:\", response.status_code)\n",
    "print('-'*50)\n",
    "print(\"Response JSON:\")\n",
    "print(response.json())"
   ]
  },
  {
   "cell_type": "markdown",
   "metadata": {},
   "source": [
    "### Difference between GET requests with params, POST requests with json/data\n",
    "| Feature                | GET with `params`                    | POST with `json`          |\n",
    "| ---------------------- | ------------------------------------ | ------------------------- |\n",
    "| Data location          | URL query string                     | Request body              |\n",
    "| Primary purpose        | Retrieve data                        | Create/modify data        |\n",
    "| Caching                | Can be cached                        | Not cached                |\n",
    "| Data length            | Limited by URL length (\\~2000 chars) | No strict limit (in body) |\n",
    "| Secure for credentials | ❌ No                                 | ✅ Yes (when over HTTPS)   |\n",
    "| Visibility             | Data visible in URL                  | Hidden from URL (in body) |"
   ]
  },
  {
   "cell_type": "markdown",
   "metadata": {},
   "source": [
    "### Different request methods\n",
    "| Method | Definition                                                                 | Common Use Cases                         |\n",
    "|--------|----------------------------------------------------------------------------|-----------------------------------------|\n",
    "| `GET`  | Retrieve data from a specified resource.                                    | Fetching web pages, APIs, files.        |\n",
    "| `POST` | Submit data to be processed (e.g., form data, files).                       | Submitting forms, creating resources.   |\n",
    "| `PUT`  | Replace the entire resource at the specified URI.                           | Updating resources (full replacement).  |\n",
    "| `DELETE`| Remove the specified resource.                                              | Deleting records/files.                 |\n",
    "| `HEAD` | Same as `GET`, but retrieves only headers (no response body).               | Checking resource metadata/headers.     |\n",
    "| `PATCH`| Partially update a resource (only modified fields).                         | Partial updates (e.g., API fields).     |\n",
    "| `OPTIONS`| Describe communication options for the target resource (CORS configuration).| Checking supported methods/headers.     |\n"
   ]
  },
  {
   "cell_type": "markdown",
   "metadata": {},
   "source": [
    "### Headers keys and its purpose\n",
    "| Header          | Purpose                                                                                                         |\n",
    "| --------------- | --------------------------------------------------------------------------------------------------------------- |\n",
    "| `Content-Type`  | Specifies the format of the data you're sending (`application/json`, `application/x-www-form-urlencoded`, etc.) |\n",
    "| `Accept`        | Tells the server what response format you want (`application/json`, `text/html`, etc.)                          |\n",
    "| `Authorization` | Used for sending API keys, tokens (Bearer, Basic auth, etc.)                                                    |\n",
    "| `User-Agent`    | Identifies the client (browser, app, script, etc.)                                                              |\n",
    "| `Referer`       | Tells the server where the request originated from                                                              |"
   ]
  },
  {
   "cell_type": "markdown",
   "metadata": {},
   "source": [
    "### Handling Responses\n",
    "- response.status_code: HTTP status code (200 for OK, 404 for Not Found, etc.).\n",
    "- response.json(): Parse JSON content.\n",
    "- response.text: Get the response content as a string.\n",
    "- response.headers: Access response headers."
   ]
  },
  {
   "cell_type": "markdown",
   "metadata": {},
   "source": [
    "### Response Status code\n",
    "| Status Code | Category      | Meaning                                     | Common Use                                                               |\n",
    "| :---------- | :------------ | :------------------------------------------ | :----------------------------------------------------------------------- |\n",
    "| **1xx** | **Informational** | Request received, continuing process.       | **Rarely seen** by end-users.                                                |\n",
    "| 100         | Informational | Continue                                    | The server has received the request headers and the client should proceed to send the request body. |\n",
    "| **2xx** | **Success** | The action was successfully received, understood, and accepted. | Indicates a **successful operation**.                                        |\n",
    "| 200         | Success       | OK                                          | Standard response for successful HTTP requests.                          |\n",
    "| 201         | Success       | Created                                     | The request has been fulfilled and resulted in a new resource being created. |\n",
    "| 204         | Success       | No Content                                  | The server successfully processed the request, but is not returning any content. |\n",
    "| **3xx** | **Redirection** | Further action needs to be taken to complete the request. | Used for **URL redirects**.                                                  |\n",
    "| 301         | Redirection   | Moved Permanently                             | The requested resource has been assigned a new permanent URI.            |\n",
    "| 302         | Redirection   | Found (Temporary Redirect)                  | The requested resource is temporarily under a different URI.             |\n",
    "| 304         | Redirection   | Not Modified                                | The resource has not been modified since the version specified by the request headers. (Caching). |\n",
    "| **4xx** | **Client Error** | The request contains bad syntax or cannot be fulfilled. | Indicates an error originating from the client.                          |\n",
    "| 400         | Client Error  | Bad Request                                 | The server cannot or will not process the request due to an apparent client error. |\n",
    "| 401         | Client Error  | Unauthorized                                | Authentication is required and has failed or has not yet been provided. |\n",
    "| 403         | Client Error  | Forbidden                                   | The server understood the request but refuses to authorize it. (e.g., insufficient permissions). |\n",
    "| 404         | Client Error  | Not Found                                   | The requested resource could not be found on the server.                 |\n",
    "| 405         | Client Error  | Method Not Allowed                          | The method specified in the request (e.g., GET, POST) is not allowed for the resource identified by the URI. |\n",
    "| 429         | Client Error  | Too Many Requests                           | The user has sent too many requests in a given amount of time (\"rate limiting\"). |\n",
    "| **5xx** | **Server Error** | The server failed to fulfill an apparently valid request. | Indicates an error on the server side.                                   |\n",
    "| 500         | Server Error  | Internal Server Error                       | A generic error message, given when an unexpected condition was encountered and no more specific message is suitable. |\n",
    "| 502         | Server Error  | Bad Gateway                                 | The server, while acting as a gateway or proxy, received an invalid response from an inbound server. |\n",
    "| 503         | Server Error  | Service Unavailable                         | The server is currently unable to handle the request due to temporary overloading or maintenance. |\n",
    "| 504         | Server Error  | Gateway Timeout                             | The server, while acting as a gateway or proxy, did not receive a timely response from an upstream server. |"
   ]
  },
  {
   "cell_type": "markdown",
   "metadata": {},
   "source": [
    "***"
   ]
  },
  {
   "cell_type": "markdown",
   "metadata": {},
   "source": [
    "## 🔐 Create .env file and add Openrouter API key to .env file\n",
    "\n",
    "We’ll use `.env` files and the `python-dotenv` package to manage secrets like API keys.\n",
    "\n",
    "#### What is .env File?\n",
    "* The .env file is a plain text file used to store environment variables that are specific to a project.\n",
    "* Inside the .env file, variables are defined as key-value pairs, one per line, typically in the format KEY=VALUE.\n",
    "\n",
    "#### Why Use .env Files?\n",
    "* Keep sensitive data out of source code\n",
    "* Easy to manage different configurations for development/production\n",
    "* Follows security best practices"
   ]
  },
  {
   "cell_type": "markdown",
   "metadata": {},
   "source": [
    "#### Step 1: Create `.env` \n",
    "\n",
    "Open notepad or create a file in vscode and put below content and save it as `.env` file in the root of your project directory\n",
    "Or add below content in newline if `.env` already available.\n",
    "```\n",
    "# OpenRouter API Configuration for OpenAI SDK\n",
    "OPENROUTER_API_KEY=your_api_key_here\n",
    "\n",
    "# Base URL for OpenRouter API\n",
    "OPENROUTER_BASE_URL=https://openrouter.ai/api/v1\n",
    "\n",
    "# Optional: Application identification for OpenRouter rankings\n",
    "# HTTP_REFERER=https://your-site.com\n",
    "# X_TITLE=Your App Name\n",
    "```\n",
    "\n",
    "This file should be added to `.gitignore`.\n",
    "\n",
    "##### Note: Replace `your_api_key_here`with API key generated in Openrouter"
   ]
  },
  {
   "cell_type": "markdown",
   "metadata": {},
   "source": [
    "#### Step 2: create `.gitignore` and dd `.env` to `.gitignore`\n",
    "\n",
    "Open notepad or create a new file in vscode and put below content and save it as `.env` file in the root of your project directory.\n",
    "Or add below content in newline if `.gitignore` already available.\n",
    "\n",
    "```\n",
    ".env\n",
    "```"
   ]
  },
  {
   "cell_type": "markdown",
   "metadata": {},
   "source": [
    "#### Step 3: Lets check we can access API key from `.env` file"
   ]
  },
  {
   "cell_type": "markdown",
   "metadata": {},
   "source": [
    "##### Installing dependencies"
   ]
  },
  {
   "cell_type": "code",
   "execution_count": 43,
   "metadata": {},
   "outputs": [
    {
     "name": "stderr",
     "output_type": "stream",
     "text": [
      "\n",
      "[notice] A new release of pip available: 22.3.1 -> 25.1.1\n",
      "[notice] To update, run: python.exe -m pip install --upgrade pip\n"
     ]
    }
   ],
   "source": [
    "! pip install -q python-dotenv"
   ]
  },
  {
   "cell_type": "markdown",
   "metadata": {},
   "source": [
    "##### Import dependencies"
   ]
  },
  {
   "cell_type": "code",
   "execution_count": 15,
   "metadata": {},
   "outputs": [],
   "source": [
    "from dotenv import load_dotenv\n",
    "import os"
   ]
  },
  {
   "cell_type": "code",
   "execution_count": 16,
   "metadata": {},
   "outputs": [
    {
     "name": "stdout",
     "output_type": "stream",
     "text": [
      "API Key Loaded: True\n"
     ]
    }
   ],
   "source": [
    "load_dotenv()\n",
    "api_key = os.getenv(\"OPENROUTER_API_KEY\")\n",
    "print(\"API Key Loaded:\", bool(api_key))"
   ]
  },
  {
   "cell_type": "markdown",
   "metadata": {},
   "source": [
    "Note: If API key loaded returns false, this mean\n",
    "* API key not provided\n",
    "* jupyter notebook not able to read the updated .env, restart the jupyter notebook "
   ]
  },
  {
   "cell_type": "markdown",
   "metadata": {},
   "source": [
    "****"
   ]
  },
  {
   "cell_type": "markdown",
   "metadata": {},
   "source": [
    "## Making Your First LLM call using Python requests\n",
    "\n",
    "- Now we call to LLM and check its response.\n"
   ]
  },
  {
   "cell_type": "markdown",
   "metadata": {},
   "source": [
    "#### Step 1: Get API key, Openrouter url from `.env` file and assign it to variable"
   ]
  },
  {
   "cell_type": "code",
   "execution_count": 46,
   "metadata": {},
   "outputs": [
    {
     "name": "stdout",
     "output_type": "stream",
     "text": [
      "✅ OpenAI API Key loaded from .env file.\n"
     ]
    }
   ],
   "source": [
    "load_dotenv()\n",
    "\n",
    "API_KEY = os.getenv(\"OPENROUTER_API_KEY\")\n",
    "OPENROUTER_BASE_URL = os.getenv(\"OPENROUTER_BASE_URL\")\n",
    "\n",
    "if API_KEY:\n",
    "    print(\"✅ OpenAI API Key loaded from .env file.\")\n",
    "else:\n",
    "    print(\"❌ OpenAI API Key not found in .env file.\")"
   ]
  },
  {
   "cell_type": "markdown",
   "metadata": {},
   "source": [
    "#### Step 2: Declare variable like URL, data, headers"
   ]
  },
  {
   "cell_type": "code",
   "execution_count": null,
   "metadata": {},
   "outputs": [
    {
     "name": "stdout",
     "output_type": "stream",
     "text": [
      "API URL: https://openrouter.ai/api/v1/chat/completions\n"
     ]
    }
   ],
   "source": [
    "headers = {\n",
    "    \"Authorization\": f\"Bearer {API_KEY}\",\n",
    "    \"Content-Type\": \"application/json\"\n",
    "}\n",
    "\n",
    "# Simulated OpenAI API request\n",
    "\n",
    "url = OPENROUTER_BASE_URL + \"/chat/completions\"  #OPENROUTER_BASE_URL=https://openrouter.ai/api/v1, endpoint =\"/chat/completions\"\n",
    "print(\"API URL:\", url)\n",
    "\n",
    "data = {\n",
    "    \"model\": \"openai/gpt-3.5-turbo\",\n",
    "    \"messages\": [\n",
    "        {\"role\": \"user\", \"content\": \"what is the Tallest mountain on earth?\"}\n",
    "    ],\n",
    "    \"max_tokens\": 50\n",
    "}\n"
   ]
  },
  {
   "cell_type": "markdown",
   "metadata": {},
   "source": [
    "#### Step 3: Initiate the POST request call"
   ]
  },
  {
   "cell_type": "code",
   "execution_count": 21,
   "metadata": {},
   "outputs": [
    {
     "name": "stdout",
     "output_type": "stream",
     "text": [
      "✅ Status: 200\n",
      "🧠 Response:\n",
      " {'id': 'gen-1749090716-vC52karQqp76ZNNK3NUS', 'provider': 'OpenAI', 'model': 'openai/gpt-3.5-turbo', 'object': 'chat.completion', 'created': 1749090716, 'choices': [{'logprobs': None, 'finish_reason': 'stop', 'native_finish_reason': 'stop', 'index': 0, 'message': {'role': 'assistant', 'content': 'Mount Everest, located in the Himalayas on the border of Nepal and China, is the tallest mountain on earth with a height of 29,031.7 feet (8,848.86 meters) above sea level.', 'refusal': None, 'reasoning': None}}], 'system_fingerprint': None, 'usage': {'prompt_tokens': 16, 'completion_tokens': 45, 'total_tokens': 61, 'prompt_tokens_details': {'cached_tokens': 0}, 'completion_tokens_details': {'reasoning_tokens': 0}}}\n"
     ]
    }
   ],
   "source": [
    "try:\n",
    "    response = requests.post(url, headers=headers, json=data)\n",
    "    print(\"✅ Status:\", response.status_code)\n",
    "    print(\"🧠 Response:\\n\", response.json())\n",
    "except Exception as e:\n",
    "    print(\"❌ API call failed:\", e)\n"
   ]
  },
  {
   "cell_type": "markdown",
   "metadata": {},
   "source": [
    "#### 📬 What Does a Response Look Like?\n",
    "\n",
    "LLM APIs response structure:\n",
    "\n",
    "```json\n",
    "{\n",
    "    'id': 'gen-1749002670-fs2k0cNyGYC2ABipRp4A', \n",
    "    'provider': 'OpenAI',\n",
    "    'model': 'openai/gpt-3.5-turbo', \n",
    "    'object': 'chat.completion', \n",
    "    'created': 1749002670, \n",
    "    'choices': [\n",
    "        {'logprobs': None, \n",
    "        'finish_reason': 'stop', \n",
    "        'native_finish_reason': 'stop',\n",
    "        'index': 0, \n",
    "        'message': {\n",
    "                    'role': 'assistant', \n",
    "                    'content': 'Mount Everest, located in the Himalayas on the border between Nepal and China, is the tallest mountain on Earth. It stands at a height of 29,032 feet (8,848 meters) above sea level.', 'refusal': None, 'reasoning': None\n",
    "                   }\n",
    "        }\n",
    "        ], \n",
    "    'system_fingerprint': None, \n",
    "    'usage': {\n",
    "                'prompt_tokens': 16,  //what is the Tallest mountain on earth?\n",
    "                'completion_tokens': 44, \n",
    "                'total_tokens': 60, \n",
    "                'prompt_tokens_details': {'cached_tokens': 0}, \n",
    "                'completion_tokens_details': {\n",
    "                                                'reasoning_tokens': 0\n",
    "                                            }\n",
    "            }\n",
    "}\n",
    "\n"
   ]
  },
  {
   "cell_type": "markdown",
   "metadata": {},
   "source": [
    "#### 🧩 Step 4: Parsing JSON Responses\n",
    "\n",
    "Let’s extract specific values from the JSON."
   ]
  },
  {
   "cell_type": "code",
   "execution_count": 23,
   "metadata": {},
   "outputs": [
    {
     "name": "stdout",
     "output_type": "stream",
     "text": [
      "User's Question: what is the Tallest mountain on earth?\n",
      "🧠 Assistant's Response:\n",
      " Mount Everest, located in the Himalayas on the border of Nepal and China, is the tallest mountain on earth with a height of 29,031.7 feet (8,848.86 meters) above sea level.\n"
     ]
    }
   ],
   "source": [
    "response_json =  response.json()\n",
    "\n",
    "answer = response_json[\"choices\"][0][\"message\"][\"content\"]\n",
    "print(\"User's Question: what is the Tallest mountain on earth?\")\n",
    "print(\"🧠 Assistant's Response:\\n\", answer)"
   ]
  },
  {
   "cell_type": "markdown",
   "metadata": {},
   "source": [
    "### What is a Token?\n",
    "- In LLMs, a token is the basic unit of text the model processes. \n",
    "- It's often a whole word, part of a word, or a punctuation mark.\n",
    "- Models understand language by breaking text into these tokens. \n",
    "- Tokens are the fundamental currency of LLMs, determining both their processing capacity and the cost of using them.\n",
    "- Pricing and context limits are based on token counts.\n",
    "\n",
    "Example 1:\n",
    "- The sentence **\"Hello, world!\"** might be tokenized as:\n",
    "    * \"Hello\"\n",
    "    * \",\"\n",
    "    * \" \" (space)\n",
    "    * \"world\"\n",
    "    * \"!\"\n",
    "- This would be 5 tokens.\n",
    "\n",
    "Example 2:\n",
    "- The word **\"unbelievable\"** might be tokenized as:\n",
    "    * \"un\"\n",
    "    * \"believ\"\n",
    "    * \"able\"\n",
    "- This would be 3 tokens."
   ]
  },
  {
   "cell_type": "markdown",
   "metadata": {},
   "source": [
    "***"
   ]
  },
  {
   "cell_type": "code",
   "execution_count": null,
   "metadata": {},
   "outputs": [],
   "source": []
  }
 ],
 "metadata": {
  "kernelspec": {
   "display_name": "Python 3 (ipykernel)",
   "language": "python",
   "name": "python3"
  },
  "language_info": {
   "codemirror_mode": {
    "name": "ipython",
    "version": 3
   },
   "file_extension": ".py",
   "mimetype": "text/x-python",
   "name": "python",
   "nbconvert_exporter": "python",
   "pygments_lexer": "ipython3",
   "version": "3.11.3"
  }
 },
 "nbformat": 4,
 "nbformat_minor": 4
}
