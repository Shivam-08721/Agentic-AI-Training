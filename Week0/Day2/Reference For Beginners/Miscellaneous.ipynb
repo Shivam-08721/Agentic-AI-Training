{
 "cells": [
  {
   "cell_type": "code",
   "execution_count": null,
   "id": "2517862f-a0be-4676-bd5f-ccb71a22ee51",
   "metadata": {},
   "outputs": [],
   "source": [
    "4. create \".gitignore\" folder and Day2_images. use below code\n",
    "\n",
    "gitignore_path = os.path.join(os.getcwd(), \".gitignore\")\n",
    "\n",
    "# Check if .gitignore exists, if not create it\n",
    "if not os.path.exists(gitignore_path):\n",
    "    with open(gitignore_path, \"w\") as f:\n",
    "        f.write(\"Day2_images/*\")\n",
    "else:\n",
    "    with open(gitignore_path, \"a\") as f:\n",
    "        f.write(\"\\nDay2_images/*\")\n",
    "\n",
    "\n",
    "5. Enter commit message in the text box and click “Commit”\n",
    "- Note: Select “Yes” on pop up, to confirm stating the commit\n",
    "\n",
    "6. Check the changes, now Day2_images will not in the changes to push to the repository\n",
    "\n",
    "display(Image(filename=images['vscode_source_control_changes_after_gitignore']))"
   ]
  },
  {
   "cell_type": "code",
   "execution_count": null,
   "id": "e53876d9-9c72-4ec3-ba7f-1d9a24e903ee",
   "metadata": {},
   "outputs": [],
   "source": [
    "\n",
    "\n",
    "\n",
    "| Section          | What to Look For                                   | In Example                   |\n",
    "| ---------------- | -------------------------------------------------- | ---------------------------- |\n",
    "| **URL**          | Domain of API                                      | `/data/2.5/weather`          |\n",
    "| **Endpoint**     | URL you should hit                                 | `/data/2.5/weather`          |\n",
    "| **Method**       | GET / POST / PUT / DELETE                          | `GET`                        |\n",
    "| **Query Params** | What data to pass in URL (q=city, appid=key, etc.) | `q=Chennai&appid=...`        |\n",
    "| **Headers**      | Sometimes needed for authorization/content-type    |` Bearer abc123`              |\n",
    "| **Response**     | JSON format showing city, temp, weather, etc.      | `data[\"weather\"][0][\"desc\"]` |"
   ]
  },
  {
   "cell_type": "code",
   "execution_count": null,
   "id": "20c17e8f-71cd-430b-80b9-322e6dc844ed",
   "metadata": {},
   "outputs": [],
   "source": [
    "#### Example (Book Store API):\n",
    "Base URL: \n",
    "```\n",
    "https://api.bookstore.com/v1\n",
    "```\n",
    "\n",
    "Endpoint:\n",
    "```\n",
    "POST /books \n",
    "```\n",
    "\n",
    "Headers:\n",
    "```\n",
    "Content-Type: application/json\n",
    "Authorization: Bearer YOUR_API_KEY\n",
    "```\n",
    "\n",
    "Body:\n",
    "```json\n",
    "  {\n",
    "  \"title\": \"1984\",\n",
    "  \"author\": \"George Orwell\",\n",
    "  \"published_year\": 1949\n",
    "}\n",
    "```\n",
    "\n",
    "Response - 1:\n",
    "```json\n",
    "{\n",
    "  \"id\": 5,\n",
    "  \"message\": \"Book added successfully\"\n",
    "}\n",
    "```\n",
    "Response - 2:\n",
    "```json\n",
    "{\n",
    "  \"id\": 5,\n",
    "  \"error\": \"Book already exists\"\n",
    "}\n",
    "```\n",
    "\n"
   ]
  },
  {
   "cell_type": "code",
   "execution_count": null,
   "id": "0680ace9-afb5-490a-864f-7330c9328ee4",
   "metadata": {},
   "outputs": [],
   "source": [
    "\n",
    "\n",
    "#### ✅ Testing API Connectivity\n",
    "\n",
    "Let’s test if your environment can reach the internet and access APIs.\n",
    "\n",
    "We’ll use a simple public HTTP test endpoint.\n",
    "\n",
    "try:\n",
    "    response = requests.get(\"https://httpbin.org/get\")\n",
    "    if response.status_code == 200:\n",
    "        print(\"✅ Internet & API access working.\")\n",
    "    else:\n",
    "        print(\"⚠️ Received response but not 200 OK.\")\n",
    "except Exception as e:\n",
    "    print(\"❌ Error accessing API:\", e)\n"
   ]
  }
 ],
 "metadata": {
  "kernelspec": {
   "display_name": "Demo_venv",
   "language": "python",
   "name": "demo"
  },
  "language_info": {
   "codemirror_mode": {
    "name": "ipython",
    "version": 3
   },
   "file_extension": ".py",
   "mimetype": "text/x-python",
   "name": "python",
   "nbconvert_exporter": "python",
   "pygments_lexer": "ipython3",
   "version": "3.11.3"
  }
 },
 "nbformat": 4,
 "nbformat_minor": 5
}
