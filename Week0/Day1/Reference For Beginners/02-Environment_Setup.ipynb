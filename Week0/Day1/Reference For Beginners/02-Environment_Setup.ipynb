{
 "cells": [
  {
   "cell_type": "markdown",
   "id": "7dc5aa6e",
   "metadata": {
    "id": "7dc5aa6e"
   },
   "source": [
    "\n",
    "# **Day 1 - Development Environment Setup**\n",
    "Welcome to Day 1 of our pre-workshop. Today, we'll set up a Python development environment on **Ubuntu** and **Windows**, configure virtual environments, and get you ready for the course.\n"
   ]
  },
  {
   "cell_type": "markdown",
   "id": "5ffab72e-7fb8-4cd9-b45a-21ef186c0a3c",
   "metadata": {},
   "source": [
    "****"
   ]
  },
  {
   "cell_type": "markdown",
   "id": "fe3d1e41",
   "metadata": {
    "id": "fe3d1e41"
   },
   "source": [
    "## ✅ Session 1: Python Environment Basics"
   ]
  },
  {
   "cell_type": "markdown",
   "id": "347e0531",
   "metadata": {},
   "source": [
    "\n",
    "### Installing Python 3.11+ on Ubuntu\n",
    "\n",
    "Let’s begin by ensuring Python 3.11+ is installed on your Ubuntu system. You can follow the steps below in your terminal.\n",
    "\n",
    "```bash\n",
    "> $ sudo add-apt-repository ppa:deadsnakes/ppa -y\n",
    "> $ sudo apt update\n",
    "> $ sudo apt install python3.11 python3.11-venv python3.11-dev python3-pip -y\n",
    "```\n",
    "\n",
    "#### Python Path (if required version is not mapped)\n",
    "```bash\n",
    "> $ python -V\n",
    "```\n",
    "If python is mapped to anyother version \n",
    "\n",
    "```bash\n",
    "> $ alias python=python3.11\n",
    "```"
   ]
  },
  {
   "cell_type": "markdown",
   "id": "ed044cce-e915-45dc-9353-03a5a6eac8c0",
   "metadata": {},
   "source": [
    "---"
   ]
  },
  {
   "cell_type": "markdown",
   "id": "f70ddee2",
   "metadata": {
    "id": "f70ddee2"
   },
   "source": [
    "\n",
    "### Installing Python 3.11+ on Windows\n",
    "#### Step 1: Download the Python Installer\n",
    "1. Go to the official Python website: https://www.python.org/downloads/windows/ in a browser\n",
    "2. Look for the **“Windows installer (64-bit)”** if you have a 64-bit operating system, or **“Windows installer (32-bit)”** if you have a 32-bit operating system.\n",
    "    - Note ⚠️: How to check your Windows version:\n",
    "       * Press the **“Windows key + R”** to open the Run dialog.\n",
    "       * Type **“msinfo32”** and press Enter.\n",
    "       * In the **“System Information”** window, look for the **“System Type”** entry. It will say either **“x64-based PC”** (for 64-bit) or **“x86-based PC”** (for 32-bit).\n",
    "3. Click on the appropriate **“.exe”** installer file to download it.\n",
    "\n",
    "#### Step 2: Run the Python Installer\n",
    "4. Once the download is complete, locate the downloaded **“.exe”** file in your Downloads folder (or wherever your browser saves downloads).\n",
    "5. Double-click the **“.exe”** file to run the Python installer. **“Install Python”** window will appear.\n",
    "    - Note ⚠️: During installation, check **“Add Python to PATH”**.\n",
    "6. You have two installation options: select **“Install Now”**, This installs Python with the most common features to the default location.\n",
    "7. Windows may ask for administrator permissions. Click **“Yes”** to allow the installation to proceed\n",
    "8. Once the installation is complete, you will see a **“Setup was successful”** message. Click **“Close”**.\n",
    "\n",
    "#### Add Python PATH in Windows (After Installation if skipped setting up path)\n",
    "###### Find Python installation path:\n",
    "1. Open **“C:”** in File Explorer\n",
    "2. Goto **“C:\\Users\\<YourUsername>\\AppData\\Local\\Programs\\Python\\”**\n",
    "    - Note ⚠️: By Default, AppData folder will be hidden. To view Hidden folder\n",
    "        *  Goto **“C:\\Users\\<YourUsername>”**\n",
    "        *  select **“view”** in tool bar\n",
    "        *  select **“show”** and select **“Hidden items”**\n",
    "        *  **“AppData”** will appear\n",
    "4. Overlook below in **“C:\\Users\\<YourUsername>\\AppData\\Local\\Programs\\Python\\Python310\\”**\n",
    "        1. python.exe\n",
    "        2. A Scripts folder containing pip.exe and other tools\n",
    "5. Copy both these paths:\n",
    "        * Main Python folder: **“C:\\Users\\<YourUsername>\\AppData\\Local\\Programs\\Python\\Python310\\”**\n",
    "        * Scripts folder: **“C:\\Users\\<YourUsername>\\AppData\\Local\\Programs\\Python\\Python310\\Scripts\\”**\n",
    "6. Add to Environment Variables:\n",
    "    1. Press the **“Windows key”**.\n",
    "    2. Type **“env”** and select **“Edit the system environment variables”**\n",
    "    3. In the **“System Properties”** window, click the **“Environment Variables”** button.\n",
    "    4. Under **“User Variables”**, select **“Path”**, then click **“Edit”**\n",
    "    5. Click New, and paste both **“Main Python folder”** and **“Scripts folder”**"
   ]
  },
  {
   "cell_type": "markdown",
   "id": "8c9aeb7c-efbd-4711-a76e-0e188753c36b",
   "metadata": {},
   "source": [
    "***"
   ]
  },
  {
   "cell_type": "markdown",
   "id": "be28242c",
   "metadata": {
    "id": "be28242c"
   },
   "source": [
    "\n",
    "### What is PATH and Why It Matters?\n",
    "\n",
    "PATH is an environment variable that tells your OS where to find installed programs. If Python isn't in the PATH, commands like `python` won’t work.\n",
    "\n",
    "✅ On Ubuntu, we configured this automatically.\n",
    "\n",
    "✅ On Windows, ensure you checked “Add to PATH” during installation.\n"
   ]
  },
  {
   "cell_type": "markdown",
   "id": "60b6ec9d-4ae5-47b9-ab98-5156ad6c3a80",
   "metadata": {},
   "source": [
    "***"
   ]
  },
  {
   "cell_type": "markdown",
   "id": "54598b9a",
   "metadata": {},
   "source": [
    "### Verifying installation\n",
    "#### Checking Python on Ubuntu:\n",
    "1. Open the Terminal **“Ctrl + Alt + T”** or by searching for **“Terminal”**\n",
    "2. Execute the Python version command\n",
    "```bash\n",
    "> $ python3 --version\n",
    "```\n",
    "3. Interpret the output\n",
    "    - If Python is installed, you will see output similar to this: **“Python 3.11.xx”**\n",
    "    - If Python is not installed, you will likely see an error message like:\n",
    "        * **“Command 'python3' not found, but can be installed with: sudo apt install python3”**\n",
    "        * This indicates that Python is not in your system's PATH or is not installed.\n",
    "\n",
    "#### Checking Python on Windows:\n",
    "1. Open the Command Prompt: Search for **“cmd”** in the Start Menu and click on **“Command Prompt”**.\n",
    "2. Execute the Python version command\n",
    "```bash\n",
    ">  python --version\n",
    "```\n",
    "3. Interpret the output\n",
    "    - If Python is installed, you will see output similar to this: **“Python 3.11.xx”**\n",
    "    - If Python is not installed, you will likely see an error message like:\n",
    "        * **“'python' is not recognized as an internal or external command, operable program or batch file”**.\n",
    "        * This means that Python is not installed or its installation directory was not added to your system's PATH environment variable during installation."
   ]
  },
  {
   "cell_type": "markdown",
   "id": "a5a59431-1310-4e16-8c8b-6734a7e50833",
   "metadata": {},
   "source": [
    "***"
   ]
  },
  {
   "cell_type": "markdown",
   "id": "zbA8Wu1Hk6al",
   "metadata": {
    "id": "zbA8Wu1Hk6al"
   },
   "source": [
    "## **Virtual Environment**\n",
    "\n",
    "### Why Use Virtual Environments in Python?\n",
    "\n",
    "*   Isolated Dependencies: Each project has its own packages and versions.\n",
    "*   Avoid Conflicts: Run multiple projects with different library versions safely.\n",
    "*   Clean and Organized: Keep your global Python clean and lightweight.\n",
    "*   Easy Collaboration: Share requirements.txt to replicate the same setup."
   ]
  },
  {
   "cell_type": "markdown",
   "id": "3e879aea",
   "metadata": {
    "id": "3e879aea"
   },
   "source": [
    "## Setting Up Virtual Environments\n",
    "Virtual environments help us manage dependencies per project.\n",
    "\n",
    "We'll start with the built-in `venv` module. \n"
   ]
  },
  {
   "cell_type": "markdown",
   "id": "87e814b5",
   "metadata": {
    "id": "87e814b5"
   },
   "source": [
    "#### On Ubuntu\n",
    "```bash\n",
    "# To create a Virtual Environment\n",
    "> $ python -m venv {folder path/virtualEnv Name}\n",
    "\n",
    "# To Activate\n",
    "> $ source {folder path/virtualEnv Name}/bin/activate\n",
    "\n",
    "# To Deactivate\n",
    "> $ deactivate\n",
    "\n",
    "```\n",
    "- Note ⚠️: Keep separate folder for all virtual environments or keep a virtual environment foler in each project"
   ]
  },
  {
   "cell_type": "markdown",
   "id": "892831c6",
   "metadata": {},
   "source": [
    "#### On Windows (Command Prompt)\n",
    "```bash\n",
    "# To create a Virtual Environment\n",
    "> $ python -m venv {folder path\\virtualEnv Name}\n",
    "\n",
    "# To Activate\n",
    "> $ {folder path\\virtualEnv Name}\\Scripts\\activate\n",
    "\n",
    "# To Deactivate\n",
    "> $ deactivate\n",
    "```\n",
    "- Note ⚠️: Keep separate folder for all virtual environments or keep a virtual environment foler in each project"
   ]
  },
  {
   "cell_type": "markdown",
   "id": "716f7460-15b1-442b-80ed-6dadc704e85d",
   "metadata": {},
   "source": [
    "***"
   ]
  },
  {
   "cell_type": "markdown",
   "id": "9cb83a02",
   "metadata": {
    "id": "9cb83a02"
   },
   "source": [
    "#### 📦 Python Package Management Overview - pip\n",
    "What is pip?\n",
    "\n",
    "`pip` stands for **\"Pip Installs Packages\"** and is the **official package manager for Python**.\n",
    "\n",
    "- It allows you to **download, install, upgrade, and remove** third-party libraries.\n",
    "- It pulls packages from the **Python Package Index (PyPI)**.\n",
    "- pip is **lightweight**, **fast**, and widely adopted in the Python community.\n",
    "\n",
    "👉 We prefer using `pip` over other package managers like `conda` for this course because:\n",
    "- PyPI has a broader set of packages.\n",
    "- pip works seamlessly in `venv` environments.\n",
    "- There's extensive **community support** and examples.\n",
    "\n",
    "[ We prefer using pip than conda, because of the extensive community support on packages ]\n",
    "\n",
    "#### Check if pip is installed\n",
    "```bash\n",
    "> $ pip3 --version\n",
    "```"
   ]
  },
  {
   "cell_type": "markdown",
   "id": "667f1297",
   "metadata": {},
   "source": [
    "### Basic pip commands\n",
    "\n",
    "| Task                       | Command                            | Example                       |\n",
    "| -------------------------- | ---------------------------------- | ----------------------------- |\n",
    "| Install a package          | `pip install <package>`            | `pip install requests`        |\n",
    "| Install a specific version | `pip install <package>==<version>` | `pip install pandas==1.3.5`   |\n",
    "| Upgrade a package          | `pip install --upgrade <package>`  | `pip install --upgrade numpy` |\n",
    "| Uninstall a package        | `pip uninstall <package>`          | `pip uninstall flask`         |\n",
    "| List installed packages    | `pip list`                         | —                             |\n",
    "| Show package details       | `pip show <package>`               | `pip show requests`           |\n"
   ]
  },
  {
   "cell_type": "markdown",
   "id": "841de174",
   "metadata": {
    "id": "841de174"
   },
   "source": [
    "#### Using Conda [ **Optional** ]\n",
    "If you're using Anaconda/Miniconda, you can use Conda to manage environments:\n",
    "\n",
    "```bash\n",
    "# To create a Virtual Environment\n",
    "> $ conda create -n myenv python=3.10\n",
    "\n",
    "# To Activate\n",
    "> $ conda activate myenv\n",
    "\n",
    "# To Deactivate\n",
    "> $ conda deactivate\n",
    "```\n"
   ]
  },
  {
   "cell_type": "markdown",
   "id": "8W7DhDRyvKsG",
   "metadata": {
    "id": "8W7DhDRyvKsG"
   },
   "source": [
    "## Jupyter Notebook installation\n",
    "What is pip?\n",
    "\n",
    "Jupyter Notebook provides an interactive and flexible environment for working with Python (and other languages) in a way that seamlessly blends code, data, and narrative, making it an indispensable tool for data scientists, researchers, educators, and anyone who works with code and data\n",
    "\n",
    "```bash\n",
    "# Activate virtual environment\n",
    "> $ {folder path\\virtualEnv Name}\\Scripts\\activate\n",
    "\n",
    "# Install\n",
    "> $ pip install jupyter\n",
    "```\n",
    "\n",
    "### Kernal Setup \n",
    "- Jupyter Notebook needs a kernel (the engine) to run your code.  The kernel handles the actual computation and communicates the output back to the notebook.\n",
    "- To attach (or use) an existing virtual environment (venv) in a Jupyter Notebook (.ipynb), you need to register the venv as a Jupyter kernel.\n",
    "\n",
    "```bash\n",
    "# Install ipykernel\n",
    "> $ pip install ipykernel\n",
    "\n",
    "# Register the Environment as a Jupyter Kernel\n",
    "> $ python -m ipykernel install --user --name={virtual_env_name} --display-name {virtual_env_name}\n",
    "\n",
    "# To list all the kernels installed\n",
    "> $ jupyter kernelspec list\n",
    "\n",
    "# To remove a kernel\n",
    "> $ jupyter kernelspec uninstall {virtual_env_name}\n",
    "\n",
    "# Open jupyter notebook \n",
    "> $ jupyter notebook\n",
    "\n",
    "# Browser will open with Notebook - http://localhost:8888/tree\n",
    "\n",
    "```\n",
    "\n",
    "#### Kernel Selection\n",
    "1. Goto http://localhost:8888/tree in a browser\n",
    "2. Click **\"New\"** to create a jupyter notebook.\n",
    "3. select created kernal or existing kernal from the drop down.\n",
    "4. To change kernel in notebook: Go to Kernel → Change Kernel → {virtual_env_name}"
   ]
  },
  {
   "cell_type": "markdown",
   "id": "f8d89eef-91d4-425a-851d-5b6005ab18cf",
   "metadata": {},
   "source": [
    "#### Basic Notebook Operations\n",
    "|Task              | How to do it                     |\n",
    "| ----------------- | -------------------------------- |\n",
    "| Add code cell     | `+ Code` or click below any cell |\n",
    "| Add markdown cell | `+ Markdown`                     |\n",
    "| Run a cell        | Click ▶️ or press `Shift+Enter`  |\n",
    "| Delete a cell     | Click trash icon or right-click  |\n",
    "| Move cells        | Use up/down arrows or drag       |\n"
   ]
  },
  {
   "cell_type": "markdown",
   "id": "c0e968dc-a6dc-4690-8c91-f7748d2d4077",
   "metadata": {},
   "source": [
    "#### ▶️ Running Code Cells"
   ]
  },
  {
   "cell_type": "markdown",
   "id": "b446adf3-90b1-4050-86dc-e4c891272b5e",
   "metadata": {},
   "source": [
    "a = 5\n",
    "b = 10\n",
    "print(\"Sum:\", a + b)"
   ]
  },
  {
   "cell_type": "markdown",
   "id": "1711934a-b632-46d3-a146-09eb0798ccbc",
   "metadata": {
    "scrolled": true
   },
   "source": [
    "***"
   ]
  },
  {
   "cell_type": "markdown",
   "id": "364b416b-e2ab-4f3b-bf6c-afb869eaa01a",
   "metadata": {},
   "source": [
    "### Markdown Cells (Documentation - Use Markdown to write notes, titles, or explanations)\n",
    "Hit Shift+Enter to run and see output right below the cell."
   ]
  },
  {
   "cell_type": "markdown",
   "id": "21e0f6b6-b93f-4bbc-9e84-a7007acc4930",
   "metadata": {},
   "source": [
    "#### To create a Title cell use **\"#\"** like below"
   ]
  },
  {
   "cell_type": "markdown",
   "id": "f35aec92-ebac-4547-ae00-bf7d26dbbf1c",
   "metadata": {},
   "source": [
    "# This is a title "
   ]
  },
  {
   "cell_type": "markdown",
   "id": "4193c8e5-9722-4528-a572-40f0c8b87de5",
   "metadata": {},
   "source": [
    "#### To create a sub Title cell use **\"##\"** like below"
   ]
  },
  {
   "cell_type": "markdown",
   "id": "49c17a75-3fbf-4a9f-9c82-47e6d0be5f2b",
   "metadata": {},
   "source": [
    "## Subtitle"
   ]
  },
  {
   "cell_type": "markdown",
   "id": "4538a310-c7e0-4ed8-9ace-d4f4bbe49958",
   "metadata": {},
   "source": [
    "#### To create bullet points use **\"-\"** like below"
   ]
  },
  {
   "cell_type": "markdown",
   "id": "b1841cf7-a3f5-4678-a0d6-9d30b763228f",
   "metadata": {},
   "source": [
    "- Bullet points"
   ]
  },
  {
   "cell_type": "markdown",
   "id": "133f70b8-319f-4782-b55e-83431a8ec0e1",
   "metadata": {},
   "source": [
    "#### To create bold text enclose the text with double asteric at starting and ending of text"
   ]
  },
  {
   "cell_type": "markdown",
   "id": "856fe2ad-508e-48c5-ade0-0e173a23a34d",
   "metadata": {},
   "source": [
    "**Bold** "
   ]
  },
  {
   "cell_type": "markdown",
   "id": "cb12e5cd-a8bb-44e9-a319-0db226f162a3",
   "metadata": {},
   "source": [
    "#### To create italic text enclose the text with sind asteric at starting and ending of text"
   ]
  },
  {
   "cell_type": "markdown",
   "id": "aae2a328-c43d-4e06-88be-05895501810a",
   "metadata": {},
   "source": [
    "*Italic*"
   ]
  },
  {
   "cell_type": "markdown",
   "id": "1a7e0471-07d8-4772-99ee-639621247758",
   "metadata": {},
   "source": [
    "#### To create code blow use **`** at starting and ending of text"
   ]
  },
  {
   "cell_type": "markdown",
   "id": "1fc34fb8-a54d-44b2-91f1-2482cc178308",
   "metadata": {},
   "source": [
    "`code`"
   ]
  },
  {
   "cell_type": "markdown",
   "id": "145c81c8-8009-4c9e-9ad1-dde568321412",
   "metadata": {},
   "source": [
    "***"
   ]
  },
  {
   "cell_type": "markdown",
   "id": "a5cbcd53",
   "metadata": {
    "id": "a5cbcd53"
   },
   "source": [
    "## 📚 Session 2: Course-Specific Environment Configuration"
   ]
  },
  {
   "cell_type": "markdown",
   "id": "71c015d5",
   "metadata": {
    "id": "71c015d5"
   },
   "source": [
    "### 📦 Installing from requirements.txt\n",
    "\n",
    "Use a `requirements.txt` file to install application dependencies. This file lists all the packages with versions required for the course.\n",
    "\n",
    "- Note ⚠️: A requirements.txt file is already shared in zip\n",
    "\n",
    "```bash\n",
    "# After activating your environment, run the command to install all the packages listed in requirements.txt\n",
    "> $ pip install -r requirements.txt\n",
    "```"
   ]
  },
  {
   "cell_type": "markdown",
   "id": "10eec10c",
   "metadata": {
    "id": "10eec10c"
   },
   "source": [
    "#### ✅ Verifying Package Installation\n",
    "```bash\n",
    "> $ pip list\n",
    "```"
   ]
  },
  {
   "cell_type": "markdown",
   "id": "f34a3cc1",
   "metadata": {},
   "source": [
    "#### Package Versioning & Compatibility\n",
    "##### Why versions matter:\n",
    "1. Libraries evolve.\n",
    "2. New versions may break your code or introduce bugs.\n",
    "3. Older versions may not work with newer Python versions.\n",
    "\n",
    "##### Solution:\n",
    "1. Use ==version in requirements.txt\n",
    "\n",
    "2. Freeze your environment with:\n",
    "```bash\n",
    "> $ pip freeze > requirements.txt\n",
    "```\n",
    "This creates a snapshot of your current setup so others can replicate it."
   ]
  },
  {
   "cell_type": "markdown",
   "id": "872f9e34",
   "metadata": {},
   "source": [
    "#### ⚠️ Common Installation Issues & Fixes\n",
    "\n",
    "| Issue                                    | Cause / Solution                                     |\n",
    "| ---------------------------------------- | ---------------------------------------------------- |\n",
    "| `Permission denied`                      | Use `--user` or run with `sudo` (Linux/Mac)          |\n",
    "| `pip: command not found`                 | Python not added to `PATH` / `pip` not installed     |\n",
    "| Version mismatch / dependency conflicts  | Use virtual environments to isolate dependencies     |\n"
   ]
  },
  {
   "cell_type": "markdown",
   "id": "a392fba9-1c49-4f87-a5ea-a93ab820af6d",
   "metadata": {},
   "source": [
    "***"
   ]
  },
  {
   "cell_type": "markdown",
   "id": "fdfefcbb",
   "metadata": {
    "id": "fdfefcbb"
   },
   "source": [
    "### 🧪 Verifying Setup\n",
    "We will run the below script to confirm the installation is successful"
   ]
  },
  {
   "cell_type": "code",
   "execution_count": 2,
   "id": "b6c42cfe",
   "metadata": {
    "id": "b6c42cfe"
   },
   "outputs": [
    {
     "name": "stdout",
     "output_type": "stream",
     "text": [
      "Python version: 3.11.12\n",
      "Running on: Linux 5.15.0-139-generic\n",
      "\n",
      "Successfully made HTTP request!\n",
      "Random GitHub Zen: Responsive is better than fast.\n",
      "\n",
      "Simple calculation test:\n",
      "Sum of [1, 2, 3, 4, 5] = 15\n"
     ]
    }
   ],
   "source": [
    "import requests\n",
    "import sys\n",
    "import platform\n",
    "\n",
    "def check_environment():\n",
    "    # Basic Python version check\n",
    "    print(f\"Python version: {sys.version.split()[0]}\")\n",
    "    print(f\"Running on: {platform.system()} {platform.release()}\")\n",
    "    \n",
    "    # Test requests library\n",
    "    try:\n",
    "        response = requests.get(\"https://api.github.com/zen\")\n",
    "        if response.status_code == 200:\n",
    "            print(\"\\nSuccessfully made HTTP request!\")\n",
    "            print(f\"Random GitHub Zen: {response.text}\")\n",
    "        else:\n",
    "            print(f\"HTTP request failed with status code: {response.status_code}\")\n",
    "    except requests.exceptions.RequestException as e:\n",
    "        print(f\"Error making HTTP request: {e}\")\n",
    "    \n",
    "    # Simple calculation\n",
    "    numbers = [1, 2, 3, 4, 5]\n",
    "    result = sum(numbers)\n",
    "    print(f\"\\nSimple calculation test:\")\n",
    "    print(f\"Sum of {numbers} = {result}\")\n",
    "\n",
    "if __name__ == \"__main__\":\n",
    "    check_environment()"
   ]
  },
  {
   "cell_type": "markdown",
   "id": "aaf878e3",
   "metadata": {
    "id": "aaf878e3"
   },
   "source": [
    "## ✅ Day 1 Summary"
   ]
  },
  {
   "cell_type": "markdown",
   "id": "098586ee",
   "metadata": {
    "id": "098586ee"
   },
   "source": [
    "\n",
    "You now have:\n",
    "\n",
    "- Git and GitHub access\n",
    "- Python 3.11+ installed and working\n",
    "- Virtual environments set up\n",
    "- Course packages installed via pip\n",
    "\n"
   ]
  }
 ],
 "metadata": {
  "colab": {
   "provenance": []
  },
  "kernelspec": {
   "display_name": "demo",
   "language": "python",
   "name": "python3"
  },
  "language_info": {
   "codemirror_mode": {
    "name": "ipython",
    "version": 3
   },
   "file_extension": ".py",
   "mimetype": "text/x-python",
   "name": "python",
   "nbconvert_exporter": "python",
   "pygments_lexer": "ipython3",
   "version": "3.11.3"
  }
 },
 "nbformat": 4,
 "nbformat_minor": 5
}
