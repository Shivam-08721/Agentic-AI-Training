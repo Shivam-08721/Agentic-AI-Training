{
 "cells": [
  {
   "cell_type": "markdown",
   "id": "cdc13869-f3aa-428e-9335-e8468f85c372",
   "metadata": {},
   "source": [
    "\n",
    "# **Day 1 - Git Setup**\n",
    "Welcome to Day 1 of our pre-workshop. we'll set up Git on **Ubuntu** and **Windows**, and get you ready for the course.\n"
   ]
  },
  {
   "cell_type": "markdown",
   "id": "fe79a941-caf3-423b-8031-cb7804c678c3",
   "metadata": {},
   "source": [
    "## 🌱 GitHub and Version Control Basics"
   ]
  },
  {
   "cell_type": "markdown",
   "id": "696987b1-1039-453a-b536-f49877896f56",
   "metadata": {},
   "source": [
    "What is Version Control?\n",
    "\n",
    "Version Control lets you:\n",
    "    Track changes in your code.\n",
    "    Revert to previous versions if something breaks.\n",
    "    Collaborate with others without overwriting each other's work.\n",
    "\n",
    "Git is the most popular version control tool.\n",
    "\n",
    "GitHub is a cloud platform where we store Git repositories online.\n",
    "\n",
    "#### We'll use Git to download course materials and manage code changes.\n"
   ]
  },
  {
   "cell_type": "markdown",
   "id": "4b0ae804-a7fa-4c1e-8e55-b10c9df1c9e8",
   "metadata": {},
   "source": [
    "##### 🛠️ Installing Git\n",
    "✅ On Ubuntu:\n",
    "\n",
    "``` bash\n",
    "> $ sudo apt install git\n",
    "```\n",
    "\n",
    "✅ On Windows:\n",
    "\n",
    "* Download Git for Windows: https://git-scm.com/download/win\n",
    "* Install with default settings (you get Git Bash and Git GUI)"
   ]
  },
  {
   "cell_type": "code",
   "execution_count": 4,
   "id": "bc303105-f9fc-4c53-8305-1b76910e4120",
   "metadata": {},
   "outputs": [
    {
     "name": "stdout",
     "output_type": "stream",
     "text": [
      "Collecting bs4\n",
      "  Downloading bs4-0.0.2-py2.py3-none-any.whl (1.2 kB)\n",
      "Requirement already satisfied: beautifulsoup4 in c:\\users\\santhosh\\virtual_envs\\demo\\lib\\site-packages (from bs4) (4.13.4)\n",
      "Requirement already satisfied: soupsieve>1.2 in c:\\users\\santhosh\\virtual_envs\\demo\\lib\\site-packages (from beautifulsoup4->bs4) (2.7)\n",
      "Requirement already satisfied: typing-extensions>=4.0.0 in c:\\users\\santhosh\\virtual_envs\\demo\\lib\\site-packages (from beautifulsoup4->bs4) (4.13.2)\n",
      "Installing collected packages: bs4\n",
      "Successfully installed bs4-0.0.2\n"
     ]
    },
    {
     "name": "stderr",
     "output_type": "stream",
     "text": [
      "\n",
      "[notice] A new release of pip available: 22.3.1 -> 25.1.1\n",
      "[notice] To update, run: python.exe -m pip install --upgrade pip\n"
     ]
    }
   ],
   "source": [
    "!pip install bs4"
   ]
  },
  {
   "cell_type": "code",
   "execution_count": 7,
   "id": "0eb440c9-efd9-4ecb-976a-02a1c0e271b5",
   "metadata": {},
   "outputs": [
    {
     "data": {
      "text/plain": [
       "[\"'apt' is not recognized as an internal or external command,\",\n",
       " 'operable program or batch file.']"
      ]
     },
     "execution_count": 7,
     "metadata": {},
     "output_type": "execute_result"
    }
   ],
   "source": [
    "!! apt update"
   ]
  },
  {
   "cell_type": "markdown",
   "id": "375c3921-62a1-4f16-8104-f39a3816dd60",
   "metadata": {},
   "source": [
    "#### Clone a GitHub Repo\n",
    "\n",
    "- Create a folder for git and goto that folder in command prompt.\n",
    "\n",
    "\n",
    "```bash\n",
    "> $ git clone https://github.com/{username}/{repo-name}.git\n",
    "# username - Account user name create in Git\n",
    "# repo-name - Repository name \n",
    "```\n",
    "\n",
    "⏬ This creates a local folder named repo-name and downloads the full code to your local machine.."
   ]
  },
  {
   "cell_type": "markdown",
   "id": "59d0902c-611b-4158-8b3b-08a1cb4a196e",
   "metadata": {},
   "source": [
    "***"
   ]
  },
  {
   "cell_type": "markdown",
   "id": "264713d5-a996-4d83-bb9c-5ac211b5f9d3",
   "metadata": {},
   "source": [
    "### Git commands that Interact with Remote Repositories:\n",
    "\n",
    "##### ✅ 1. Clone a GitHub Repo\n",
    "\n",
    "Create a folder for git and goto that folder in command prompt.\n",
    "\n",
    "This downloads the full code to your local machine.\n",
    "```bash\n",
    "> $ git clone https://github.com/{username}/{repo-name}.git\n",
    "# username - Account user name create in Git\n",
    "# repo-name - Repository name \n",
    "```\n",
    "\n",
    "⏬ This creates a local folder named repo-name.\n",
    "\n",
    "##### ✅ 2. Pull the Latest Changes\n",
    "\n",
    "To  get the updated files from Repository\n",
    "\n",
    "```bash\n",
    "> $ git pull\n",
    "\n",
    "> $ git pull origin {branch-name}\n",
    "```\n",
    "- Note ⚠️: Git pull required credentials to take pull from repository to local\n",
    "\n",
    "### Git commands that Inspect the Repository:\n",
    "\n",
    "##### ✅ 3. List branches in your Git repository.\n",
    "Lists your local branches\n",
    "```bash\n",
    "> $ git branch \n",
    "\n",
    "> $ git branch -a\n",
    "# Lists all branches, including both your local branches and the remote-tracking branches.\n",
    "```\n",
    "\n",
    "- Note ⚠️:  The currently active branch is usually highlighted (often in green) and marked with an asterisk **\"*\"**.\n",
    "\n",
    "##### ✅ 4. Switch Between Versions (Branches)\n",
    "\n",
    "Branches can be used to maintain different version or functionaility building. You can switch to a different feature or version of the project using this command.\n",
    "\n",
    "```bash\n",
    "> $ git checkout {branch-name}\n",
    "```\n",
    "\n",
    "##### ✅ 5. Show Status local repository\n",
    "\n",
    "Displays the state of the working directory and the staging area. Shows tracked, untracked, and modified files.\n",
    "\n",
    "```bash\n",
    "> $ git status \n",
    "```\n",
    "\n",
    "##### ✅ 6. Show difference in files\n",
    "\n",
    "Shows the differences between the working directory and the staging area\n",
    "\n",
    "```bash\n",
    "> $ git diff \n",
    "\n",
    "> $ git diff <file name>\n",
    "```\n",
    "\n",
    "##### ✅ 7. Commit history\n",
    "Shows the commit history of the current branch.\n",
    "```bash\n",
    "> $ git log \n",
    "```\n",
    "\n",
    "### Git commands that Modify the Repository:\n",
    "\n",
    "##### ✅ 8. Create new branch\n",
    "\n",
    "Branches can be used to maintain different version or functionaility building\n",
    "```bash\n",
    "> $ git checkout -b {new-branch}\n",
    "# You can switch to a different feature or version of the project using this command.\n",
    "```\n",
    "\n",
    "##### ✅ 9. Add changes to staging\n",
    "\n",
    "Stages the specified file(s) for the next commit\n",
    "```bash\n",
    "> $ git add .\n",
    "> $ git add -A\n",
    "> $ git add <file>\n",
    "```\n",
    "\n",
    "##### ✅ 10. Commit the staged file with Description\n",
    "\n",
    "```bash\n",
    "> $ git commit -m \"<message>\"\n",
    "```\n",
    "\n",
    "##### ✅ 11. Push local changes to remote repository\n",
    "\n",
    "```bash\n",
    "> $ git push\n",
    "\n",
    "> $ git push origin {branch-name}\n",
    "#Push changes to specific branch\n",
    "```\n",
    "\n",
    "\n",
    "\n",
    "\n"
   ]
  },
  {
   "cell_type": "markdown",
   "id": "e8ee15d3-b2b1-4775-a1dc-8ad38469a1a6",
   "metadata": {},
   "source": [
    "### How to create a merge 2 branches\n",
    "\n",
    "##### ✅1. Checkout the Target Branch:\n",
    "\n",
    "- First, switch to the branch you want to merge into. This is often your main development branch (e.g., main, master).\n",
    "\n",
    "```bash\n",
    "> $ git checkout <target_branch_name>\n",
    "```\n",
    "\n",
    "- For example, if you want to merge a feature branch into main:\n",
    "\n",
    "```bash\n",
    "> $ git checkout main\n",
    "```\n",
    "\n",
    "##### ✅2. Merge the Source Branch:\n",
    "\n",
    "- Next, use the git merge command followed by the name of the branch you want to merge (feature-x) into the currently checked-out branch.\n",
    "\n",
    "```bash\n",
    "> $ git merge <source_branch_name>\n",
    "```\n",
    "- To merge the feature-x branch into your currently checked-out main branch:\n",
    "\n",
    "```bash\n",
    "> $ git merge feature-x\n",
    "```\n",
    "\n",
    "##### ✅3. Stage and commit the changes with message:\n",
    "\n",
    "```bash\n",
    "> $ git add .\n",
    "```\n",
    "\n",
    "```bash\n",
    "> $ git commit -m \"<message>\"\n",
    "```\n",
    "\n",
    "##### ✅4. Push the changes to repository:\n",
    "\n",
    "```bash\n",
    "> $ git push\n",
    "```\n",
    "\n",
    "##### ✅5. Check the created branch:\n",
    "\n",
    "```bash\n",
    "> $ git branch\n",
    "```"
   ]
  },
  {
   "cell_type": "markdown",
   "id": "18a95add-11bc-460c-9cfe-1d54b6548a47",
   "metadata": {},
   "source": [
    "#### 🔧 Git Basics: Common Commands\n",
    "\n",
    "| Command                 | Use                                                                                                |\n",
    "| :---------------------- | :------------------------------------------------------------------------------------------------- |\n",
    "| `git clone <repository>` | Creates a copy of a remote repository on your local machine.                                      |\n",
    "| `git add <file(s)>`     | Stages the specified file(s) for the next commit. Use `git add .` to stage all changes.           |\n",
    "| `git commit -m \"<message>\"` | Records the staged changes to the repository's history with a descriptive message.              |\n",
    "| `git status`            | Displays the state of the working directory and the staging area. Shows tracked, untracked, and modified files. |\n",
    "| `git log`               | Shows the commit history of the current branch.                                                     |\n",
    "| `git show <commit>`     | Displays detailed information about a specific commit (author, date, message, changes).            |\n",
    "| `git diff`              | Shows the differences between the working directory and the staging area.                          |\n",
    "| `git checkout <branch>` | Switches to the specified branch.                                                                 |\n",
    "| `git checkout -b <new-branch>` | Creates a new branch and immediately switches to it.                                         |\n",
    "| `git branch`            | Lists all the branches in your repository. The current branch is marked with an asterisk (*).       |\n",
    "| `git branch -d <branch>` | Deletes the specified branch (only if it has been fully merged).                                  |\n",
    "| `git merge <branch>`    | Integrates the changes from the specified branch into the currently active branch.                  |\n",
    "| `git push <remote> <branch>` | Sends your local commits on the specified branch to the remote repository.                      |\n",
    "| `git pull <remote> <branch>` | Fetches changes from the remote repository and merges them into your current local branch.      |\n",
    "| `git fetch <remote>`    | Downloads commits and objects from the remote repository but does not integrate them into your local branches. |\n",
    "| `git reset <file(s)>`   | Unstages the specified file(s), but keeps the changes in your working directory.                   |\n",
    "| `git reset --hard <commit>` | Resets your staging area, working directory, and commit history to the specified commit. **Use with caution as this can lead to data loss.** |\n",
    "| `git revert <commit>`   | Creates a new commit that undoes the changes made in the specified commit. Preserves history.    |\n",
    "| `.gitignore`            | A file that specifies intentionally untracked files that Git should ignore.                         |"
   ]
  },
  {
   "cell_type": "markdown",
   "id": "495087fc-da35-40c0-a2f7-28de39a94ef9",
   "metadata": {},
   "source": [
    "\n",
    "### 📁 Gitignore\n",
    "\n",
    "The `.gitignore` file tells Git which files NOT to track — e.g., API keys, virtual environments, etc.\n",
    "Sometimes we have passwords, security keys or temporary files we don’t want to upload to GitHub.\n",
    "\n",
    "Add lines like:\n",
    "\n",
    "```\n",
    ".env\n",
    "venv/\n",
    "*.log\n",
    "my_secret_folder/\n",
    "my_sensitive_file.txt\n",
    "temp_*\n",
    "**/outputs\n",
    "**/*.pyc\n",
    "logs/*.txt\n",
    "```"
   ]
  },
  {
   "cell_type": "markdown",
   "id": "292c4b94-1a0e-4438-86a6-5db2bc90e8bd",
   "metadata": {},
   "source": [
    "***"
   ]
  },
  {
   "cell_type": "markdown",
   "id": "6efc0376-f04c-4bd8-9b27-9a67fb176da0",
   "metadata": {},
   "source": [
    "## sample .gitignore file\n",
    "\n"
   ]
  },
  {
   "cell_type": "code",
   "execution_count": null,
   "id": "019adc6a-72fe-4c2f-b0f8-b3d9ce6bde38",
   "metadata": {},
   "outputs": [],
   "source": [
    "# OS generated files\n",
    ".DS_Store\n",
    "Thumbs.db\n",
    "\n",
    "# Compiled Python files\n",
    "*.pyc\n",
    "__pycache__/\n",
    "\n",
    "# Virtual environment\n",
    "venv/\n",
    "env/\n",
    ".venv/\n",
    "\n",
    "# Log files\n",
    "*.log\n",
    "\n",
    "# Temporary files\n",
    "temp_*\n",
    "*.tmp\n",
    "\n",
    "\n",
    "# Build artifacts\n",
    "build/\n",
    "dist/\n",
    "\n",
    "# IDE specific files\n",
    ".idea/\n",
    ".vscode/\n",
    "*.swp\n",
    "*.swo\n",
    "\n",
    "# Ignore a specific sensitive file\n",
    "sensitive_config.ini\n",
    "\n",
    "# But don't ignore this specific important log file\n",
    "!important_log.txt"
   ]
  }
 ],
 "metadata": {
  "kernelspec": {
   "display_name": "Python 3 (ipykernel)",
   "language": "python",
   "name": "python3"
  },
  "language_info": {
   "codemirror_mode": {
    "name": "ipython",
    "version": 3
   },
   "file_extension": ".py",
   "mimetype": "text/x-python",
   "name": "python",
   "nbconvert_exporter": "python",
   "pygments_lexer": "ipython3",
   "version": "3.12.4"
  }
 },
 "nbformat": 4,
 "nbformat_minor": 5
}
