{
 "cells": [
  {
   "cell_type": "code",
   "execution_count": null,
   "id": "7acaaf2d-826e-4c69-9276-1fa9ce178b08",
   "metadata": {},
   "outputs": [],
   "source": [
    "! cd {local_folder.value}\\{repository_name.value} && echo \"DATABASE_URL=sqlite:///db.sqlite3\" > .env\n",
    "! cd {local_folder.value}\\{repository_name.value} && echo \"API_KEY=supersecretkey123\" >> .env\n",
    "! cd {local_folder.value}\\{repository_name.value} && echo \"INFO: Application started\" > app.log\n",
    "! cd {local_folder.value}\\{repository_name.value} && mkdir output && echo \"Generated report data\" > output/report.txt\n",
    "! cd {local_folder.value}\\{repository_name.value} && echo \"print('App is running')\" > main.py"
   ]
  },
  {
   "cell_type": "code",
   "execution_count": null,
   "id": "b43bbf73-4545-4e3e-b827-7afaffd7024f",
   "metadata": {},
   "outputs": [],
   "source": [
    "import os\n",
    "gitignore_path = os.path.join(f\"{local_folder.value}\\{repository_name.value}\", \".gitignore\")\n",
    "\n",
    "# Check if .gitignore exists, if not create it\n",
    "if not os.path.exists(gitignore_path):\n",
    "    with open(gitignore_path, \"w\") as f:\n",
    "        f.write(\"# Ignore environment variables\\n\")\n",
    "        f.write(\".env\\n\")\n",
    "        f.write(\"\\n\")\n",
    "        f.write(\"# Ignore log files\\n\")\n",
    "        f.write(\"*.log\\n\")\n",
    "        f.write(\"\\n\")\n",
    "        f.write(\"# Ignore output folder\\n\")\n",
    "        f.write(\"output/\\n\")\n",
    "        f.write(\"\\n\")"
   ]
  }
 ],
 "metadata": {
  "kernelspec": {
   "display_name": "Python 3 (ipykernel)",
   "language": "python",
   "name": "python3"
  },
  "language_info": {
   "codemirror_mode": {
    "name": "ipython",
    "version": 3
   },
   "file_extension": ".py",
   "mimetype": "text/x-python",
   "name": "python",
   "nbconvert_exporter": "python",
   "pygments_lexer": "ipython3",
   "version": "3.11.3"
  }
 },
 "nbformat": 4,
 "nbformat_minor": 5
}
