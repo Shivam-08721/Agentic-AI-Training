{
 "cells": [
  {
   "cell_type": "markdown",
   "id": "666ea0cb-0749-4dc9-8bd7-f108110dcc75",
   "metadata": {},
   "source": [
    "# Introduction to Git and Git Commands\n",
    "\n",
    "## What is Git?\n",
    "- Git is a distributed version control system used for tracking changes\n",
    "- It is designed for coordinating work among developers in source code during software development.\n",
    "- Git is essentially a content tracker. It takes snapshots of your files at different points in time, allowing you to revert to any previous version if needed. "
   ]
  },
  {
   "cell_type": "markdown",
   "id": "9fb9b2fe-ab0d-4349-8cab-7faffd491b4d",
   "metadata": {},
   "source": [
    "## 🔧 Git Basics: Common Commands\n",
    "\n",
    "| Command                 | Use                                                                                                |\n",
    "| :---------------------- | :------------------------------------------------------------------------------------------------- |\n",
    "| `git clone <repository>` | Creates a copy of a remote repository on your local machine.                                      |\n",
    "| `git add <file(s)>`     | Stages the specified file(s) for the next commit. Use `git add .` to stage all changes.           |\n",
    "| `git commit -m \"<message>\"` | Records the staged changes to the repository's history with a descriptive message.              |\n",
    "| `git status`            | Displays the state of the working directory and the staging area. Shows tracked, untracked, and modified files. |\n",
    "| `git log`               | Shows the commit history of the current branch.                                                     |\n",
    "| `git show <commit>`     | Displays detailed information about a specific commit (author, date, message, changes).            |\n",
    "| `git diff`              | Shows the differences between the working directory and the staging area.                          |\n",
    "| `git checkout <branch>` | Switches to the specified branch.                                                                 |\n",
    "| `git checkout -b <new-branch>` | Creates a new branch and immediately switches to it.                                         |\n",
    "| `git branch`            | Lists all the branches in your repository. The current branch is marked with an asterisk (*).       |\n",
    "| `git branch -d <branch>` | Deletes the specified branch (only if it has been fully merged).                                  |\n",
    "| `git merge <branch>`    | Integrates the changes from the specified branch into the currently active branch.                  |\n",
    "| `git push <remote> <branch>` | Sends your local commits on the specified branch to the remote repository.                      |\n",
    "| `git pull <remote> <branch>` | Fetches changes from the remote repository and merges them into your current local branch.      |\n",
    "| `git fetch <remote>`    | Downloads commits and objects from the remote repository but does not integrate them into your local branches. |\n",
    "| `git reset <file(s)>`   | Unstages the specified file(s), but keeps the changes in your working directory.                   |\n",
    "| `git reset --hard <commit>` | Resets your staging area, working directory, and commit history to the specified commit. **Use with caution as this can lead to data loss.** |\n",
    "| `git revert <commit>`   | Creates a new commit that undoes the changes made in the specified commit. Preserves history.    |\n",
    "| `.gitignore`            | A file that specifies intentionally untracked files that Git should ignore.                         |"
   ]
  },
  {
   "cell_type": "markdown",
   "id": "d1d094b6-6d9c-4505-8187-aad9661e7d91",
   "metadata": {},
   "source": [
    "## Git hands-on\n",
    "- In this jupyter notebook, we will explore git commands like pull, push, add, commit, restore and other basic commands along with .gitignore"
   ]
  },
  {
   "cell_type": "markdown",
   "id": "420dd7e3",
   "metadata": {},
   "source": [
    "### 🔨 Hands-on Git Exercise\n",
    "\n",
    "Let's go through a practical exercise to understand Git workflow. Follow these steps in order:\n",
    "\n",
    "- Simple change commit process\n",
    "\n",
    "- New branch creation and merging 2 branches\n",
    "\n",
    "- Make a change and stash, stash pop and restore the changes\n",
    "\n",
    "Note: \n",
    "We can execute actual git commands (git add, git pull etc) in command prompt. \n",
    "For Hands on purpose, we are running commands in jupyter notebook. Hence, we need to pass the directory of the repo on each git command **\" cd  C:\\Users\\santhosh\\local_repo\"**"
   ]
  },
  {
   "cell_type": "markdown",
   "id": "b3d7e779-8527-4b16-a829-e4a65309f2d8",
   "metadata": {},
   "source": [
    "***"
   ]
  },
  {
   "cell_type": "markdown",
   "id": "1a1597ff-abb7-476b-9c10-99f74ae93b2e",
   "metadata": {},
   "source": [
    "#### Simple change commit process\n",
    "In this exercise, \n",
    "- we are installing dependency, defining pre-requsite variables like clone folder path, git repository URL. \n",
    "- creating a folder to clone the course repository.\n",
    "- perform git operations like status, diff add, commit, push,"
   ]
  },
  {
   "cell_type": "markdown",
   "id": "32e4465a-8764-4bbc-9193-6b16ba2e5adb",
   "metadata": {},
   "source": [
    "##### Step 1: Installing dependency"
   ]
  },
  {
   "cell_type": "code",
   "execution_count": null,
   "id": "328e707d-9c54-460b-b254-3ee08c9f2deb",
   "metadata": {},
   "outputs": [],
   "source": [
    "! pip install ipywidgets -q"
   ]
  },
  {
   "cell_type": "markdown",
   "id": "a448a4f6-dcbc-4226-ab06-558eed519bc0",
   "metadata": {},
   "source": [
    "##### Step 2: Import statments for dependency"
   ]
  },
  {
   "cell_type": "code",
   "execution_count": null,
   "id": "310d2466-0fb8-49e3-8fe4-2319a782476d",
   "metadata": {},
   "outputs": [],
   "source": [
    "import ipywidgets as widgets\n",
    "from IPython.display import display\n",
    "import platform"
   ]
  },
  {
   "cell_type": "markdown",
   "id": "5b7bdbe5-8439-4d08-82f8-53166ea86e52",
   "metadata": {},
   "source": [
    "##### Step 3: Declartion common variable\n",
    "- local_folder\n",
    "    - where to clone Course repository.\n",
    "- repository_URL\n",
    "    - Git repository URL\n",
    "- repository_name\n",
    "    - Name of folder where git repository cloned\n",
    "- new_branch_name\n",
    "    - Name of branch we gonna create for Merge exercise\n",
    " \n",
    "We are using widgets to store the variables and access it throughout all exercise."
   ]
  },
  {
   "cell_type": "code",
   "execution_count": null,
   "id": "967f03ec-25cc-4228-bbba-09330dc0f10c",
   "metadata": {
    "jupyter": {
     "source_hidden": true
    }
   },
   "outputs": [],
   "source": [
    "# Note: No need worry about widgets, please pass the respective values\n",
    "local_folder = widgets.Text(\n",
    "    value='',   \n",
    "    description='local folder name',\n",
    "    layout=widgets.Layout(width='90%'),\n",
    "    place_holder = \"plae\",\n",
    "    style={'description_width': 'initial'}\n",
    ")\n",
    "\n",
    "repository_URL = widgets.Text(\n",
    "    value='',  \n",
    "    description='Repository URL',\n",
    "    layout=widgets.Layout(width='90%'),\n",
    "    style={'description_width': 'initial'}\n",
    ")\n",
    "\n",
    "repository_name = widgets.Text(\n",
    "    value='',  \n",
    "    description='Repository name',\n",
    "    layout=widgets.Layout(width='90%'),\n",
    "    disabled = True,\n",
    "    style={'description_width': 'initial'}\n",
    "\n",
    ")\n",
    "\n",
    "sep = '\\\\' if platform.system() == 'Windows' else '/'\n",
    "\n",
    "separator = widgets.Text(\n",
    "    value=sep,  \n",
    "    description='Separator',\n",
    "    layout=widgets.Layout(width='90%'),\n",
    "    style={'description_width': 'initial'}\n",
    "\n",
    ")\n",
    "# Function to update the second widget based on the first widget's value\n",
    "def update_last_folder(change):\n",
    "    full_path = change.new\n",
    "    if full_path:\n",
    "        last_folder = full_path.split('/')[-1].split('.')[0]\n",
    "        repository_name.value = last_folder\n",
    "    else:\n",
    "        repository_name.value = ''\n",
    "\n",
    "# Observe changes in the 'value' of the first widget and call the update function\n",
    "repository_URL.observe(update_last_folder, names='value')\n",
    "\n",
    "# Display the widget in the notebook\n",
    "display(local_folder)\n",
    "display(separator)\n",
    "display(repository_URL)\n",
    "display(repository_name)\n"
   ]
  },
  {
   "cell_type": "markdown",
   "id": "10167de2",
   "metadata": {},
   "source": [
    "##### Step 5: Create a Repository (if not created, please follow the steps mentioned in git installation doc)\n",
    "\n",
    "* First, create a new repository on GitHub:\n",
    "   - Go to github.com, log in, and create a new empty repository.\n",
    "   - Click the '+' button and select 'New repository'\n",
    "   - Give it a name (e.g., my-git-practice).\n",
    "   - Important: Do NOT check \"Add a README file\", \"Add .gitignore\", or \"Choose a license\". We want an empty repository.\n",
    "   - Make it public.\n",
    "   - Click 'Create repository'\n",
    "   - Once created, GitHub will show you the repository's URL. Copy the HTTPS URL (it will look something like https://github.com/<your_username>/my-git-practice.git.\n",
    "   - Copy and paste it in the below cell and populate the fields and populate respective fields\n",
    "\n"
   ]
  },
  {
   "cell_type": "markdown",
   "id": "e2efae9b-ac67-4b1f-ab9b-56d840075a84",
   "metadata": {},
   "source": [
    "##### Step 6: Set git User name and email globally if not already done, else continue to step 7"
   ]
  },
  {
   "cell_type": "markdown",
   "id": "fd5b8663-93cd-4d9c-b746-73ff6c8ae55d",
   "metadata": {},
   "source": [
    "* Open command prompt and enter below code to set git User email in gitconfig for global access\n",
    "> git config --global user.email \"\""
   ]
  },
  {
   "cell_type": "markdown",
   "id": "f979e1f6-d017-4e62-89da-ca26280d842e",
   "metadata": {},
   "source": [
    "* Enter below code to set git User name in gitconfig for global access\n",
    "> git config --global user.name \"\""
   ]
  },
  {
   "cell_type": "markdown",
   "id": "3ccaa1e4-aaf0-4f8f-8881-edef2cda040d",
   "metadata": {},
   "source": [
    "##### Step 7: Create a folder to Clone your repository:"
   ]
  },
  {
   "cell_type": "code",
   "execution_count": null,
   "id": "9613b615-18fb-4378-93db-8e2c00c6d179",
   "metadata": {},
   "outputs": [],
   "source": [
    "! mkdir  {local_folder.value}\n",
    "! echo \"local_folder name - $local_folder.value\""
   ]
  },
  {
   "cell_type": "markdown",
   "id": "f3834a27-f9e3-4922-b8dd-1c13dc59fd92",
   "metadata": {},
   "source": [
    "##### Step 8: **\"git clone `<git repository url>`\"** command is used to clone repository\n"
   ]
  },
  {
   "cell_type": "code",
   "execution_count": null,
   "id": "4c85dbb5-4ef4-4675-9d72-5a176ece148a",
   "metadata": {},
   "outputs": [],
   "source": [
    "! cd  {local_folder.value} && git clone {repository_URL.value}\n",
    "! echo \"repository cloned to local_folder - $local_folder.value and repository folder name is  $repository_name.value\""
   ]
  },
  {
   "cell_type": "markdown",
   "id": "af6dcdbf-d5e3-4af1-afea-36e5a5997e07",
   "metadata": {},
   "source": [
    "##### Step 9: **\"git status\"** to check the current status of the repository \n",
    "- Shows the current state of your working directory and staging area."
   ]
  },
  {
   "cell_type": "code",
   "execution_count": null,
   "id": "3e69f4d9-1242-4f4e-97cd-28ab30b3f75c",
   "metadata": {},
   "outputs": [],
   "source": [
    "! cd  {local_folder.value}{separator.value}{repository_name.value} && git status"
   ]
  },
  {
   "cell_type": "markdown",
   "id": "ac4f805d-621e-4bfc-a861-885544ced073",
   "metadata": {},
   "source": [
    "##### Step 10: **\"git branch\"** Lists local branches only. **\"*\"** indicates the currently active branch."
   ]
  },
  {
   "cell_type": "code",
   "execution_count": null,
   "id": "5e3bf9f0-d2b7-49fe-8ddd-3023b692ad7f",
   "metadata": {},
   "outputs": [],
   "source": [
    "! cd  {local_folder.value}{separator.value}{repository_name.value} && git branch"
   ]
  },
  {
   "cell_type": "markdown",
   "id": "8a0e2faf-fa92-4406-b6fa-7eb6c0c098f7",
   "metadata": {},
   "source": [
    "##### Step 11: **\"git branch -a\"** to lists all branches in local branches and remote-tracking branches"
   ]
  },
  {
   "cell_type": "code",
   "execution_count": null,
   "id": "d81c8550-715a-4dad-8924-658ae2cae59e",
   "metadata": {},
   "outputs": [],
   "source": [
    "! cd  {local_folder.value}{separator.value}{repository_name.value} && git branch -a"
   ]
  },
  {
   "cell_type": "markdown",
   "id": "b93487bc-ddf5-4453-8fdf-00076ab07db5",
   "metadata": {},
   "source": [
    "##### Step 12: Create a new file "
   ]
  },
  {
   "cell_type": "code",
   "execution_count": null,
   "id": "71168e9e-4576-49f3-bc19-b1c346e062c1",
   "metadata": {},
   "outputs": [],
   "source": [
    "! cd  {local_folder.value}{separator.value}{repository_name.value} && echo This is a sample file created > test_file.txt\n",
    "! echo \" test_file.txt created\""
   ]
  },
  {
   "cell_type": "markdown",
   "id": "e0d675f2-3760-4db3-9a83-bcd0a73876a4",
   "metadata": {},
   "source": [
    "##### Step 13:  **\"git status\"** to Check the current status after creating a file\n",
    "- Shows the current state of your working directory and staging area."
   ]
  },
  {
   "cell_type": "code",
   "execution_count": null,
   "id": "b76d0a77-ead3-41d9-8fe2-7e72ac23007c",
   "metadata": {},
   "outputs": [],
   "source": [
    "! cd  {local_folder.value}{separator.value}{repository_name.value} && git status"
   ]
  },
  {
   "cell_type": "markdown",
   "id": "312e798b-b509-4adc-8a8b-34e3ea715499",
   "metadata": {},
   "source": [
    "##### Step 14: **\"git add .\"** to add the change to the staging area"
   ]
  },
  {
   "cell_type": "code",
   "execution_count": null,
   "id": "3bf7bc2c-e419-49d6-b6b6-cd318af1779d",
   "metadata": {},
   "outputs": [],
   "source": [
    "! cd  {local_folder.value}{separator.value}{repository_name.value} && git add .\n",
    "! echo \"Adding change files to staging\""
   ]
  },
  {
   "cell_type": "markdown",
   "id": "c9e5aa23-7eec-41a2-ac38-575ed0d7636b",
   "metadata": {},
   "source": [
    "##### Step 15: **\"git commit -m `<commit message>`\"**\n",
    "- Saves the staged changes permanently into the local repository's history with a descriptive message."
   ]
  },
  {
   "cell_type": "code",
   "execution_count": null,
   "id": "4f3a743b-2240-4312-929c-2466146cd4bd",
   "metadata": {},
   "outputs": [],
   "source": [
    "! cd  {local_folder.value}{separator.value}{repository_name.value} && git commit -m \"adding sample file\"\n",
    "! echo \"Commiting stage files with commit message\""
   ]
  },
  {
   "cell_type": "markdown",
   "id": "64caa42c-8fde-4809-b8a9-3fc57a89f3c8",
   "metadata": {},
   "source": [
    "##### Step 16: **\"git push\"** to push the changes to the repo\n",
    "- Sends your committed changes from your local repository to a specified remote repository"
   ]
  },
  {
   "cell_type": "code",
   "execution_count": null,
   "id": "41d1399a-4cdd-4160-8831-f5b1825e6950",
   "metadata": {},
   "outputs": [],
   "source": [
    "! cd {local_folder.value}{separator.value}{repository_name.value} && git push\n",
    "! echo \"Change files pushed to the repository\""
   ]
  },
  {
   "cell_type": "markdown",
   "id": "452b83d8-efa0-4a1a-99b1-0b1832f6245d",
   "metadata": {},
   "source": [
    "Note: You may have to provide token or sign in with browser for git push/pull action"
   ]
  },
  {
   "cell_type": "markdown",
   "id": "cccd4d03-bff9-4ce4-b8dc-375649950e3a",
   "metadata": {},
   "source": [
    "##### Step 15: Now check the repository, a new file name  \"test_file.txt\" will be created"
   ]
  },
  {
   "cell_type": "markdown",
   "id": "679daec9-ded4-472d-bc62-2a8ca3ba5254",
   "metadata": {},
   "source": [
    "***"
   ]
  },
  {
   "cell_type": "markdown",
   "id": "b06e4098-cdee-4d52-8acb-2e092a0e9050",
   "metadata": {},
   "source": [
    "#### New branch creation and merging 2 branches\n",
    "In this exercise, we are going to,\n",
    "- Create a new branch from the main branch.\n",
    "- Make changes in test_file.txt.\n",
    "- Push the changes from the new branch to the remote repository.\n",
    "- Merge the created branch into the main branch."
   ]
  },
  {
   "cell_type": "markdown",
   "id": "95b01f42-1867-476f-8e59-bd27f24b6561",
   "metadata": {},
   "source": [
    "##### Step 1: Enter the branch name you wat to create"
   ]
  },
  {
   "cell_type": "code",
   "execution_count": null,
   "id": "8c15274b-9ddb-44ea-af8e-4e4ec0f0bb3f",
   "metadata": {
    "jupyter": {
     "source_hidden": true
    }
   },
   "outputs": [],
   "source": [
    "new_branch_name = widgets.Text(\n",
    "    value='',  \n",
    "    description='New Branch Name',\n",
    "    layout=widgets.Layout(width='90%'),\n",
    "    style={'description_width': 'initial'}\n",
    "\n",
    ")\n",
    "\n",
    "display(new_branch_name)"
   ]
  },
  {
   "cell_type": "markdown",
   "id": "6507878c-0197-45a5-bbed-0561e5a8300c",
   "metadata": {},
   "source": [
    "##### Step 2: Create a new branch from main branch\n",
    "- **\"git checkout -b `<new branch name>`\"**, with this command we are create new branch in local branch from main branch"
   ]
  },
  {
   "cell_type": "code",
   "execution_count": null,
   "id": "1cce17ae-796b-4ff3-9924-36904fb18f69",
   "metadata": {},
   "outputs": [],
   "source": [
    "! cd  {local_folder.value}{separator.value}{repository_name.value} && git checkout -b {new_branch_name.value}\n",
    "! echo \"New branch $new_branch_name.value created successfully\""
   ]
  },
  {
   "cell_type": "markdown",
   "id": "6bf496b9-aae9-47b9-9690-2341d9b2aa36",
   "metadata": {},
   "source": [
    "##### Step 3: **\"git branch -a\"** to lists all branches in local branches and remote-tracking branches\n",
    "- we can see the branch created and  **\"*\"** indicates the currently active branch "
   ]
  },
  {
   "cell_type": "code",
   "execution_count": null,
   "id": "5eaf20a4-6538-4dfe-aba8-a5a170cc1185",
   "metadata": {},
   "outputs": [],
   "source": [
    "! cd  {local_folder.value}{separator.value}{repository_name.value} && git branch -a"
   ]
  },
  {
   "cell_type": "markdown",
   "id": "53a9bf13-f35f-43dc-b5f4-acee0d04805e",
   "metadata": {},
   "source": [
    "##### Step 4: Editing **\"test_file.txt\"** file and add some lines to the file"
   ]
  },
  {
   "cell_type": "code",
   "execution_count": null,
   "id": "03faab1b-4aa1-4e16-8989-27214fcf304c",
   "metadata": {},
   "outputs": [],
   "source": [
    "! cd  {local_folder.value}{separator.value}{repository_name.value} && echo This is the second line >> test_file.txt\n",
    "! echo \"Changes made to test_file.txt\""
   ]
  },
  {
   "cell_type": "markdown",
   "id": "e1028406-aa7b-45e1-a883-206031eb8861",
   "metadata": {},
   "source": [
    "##### Step 5: **\"git status\"** to check the current status after editing a file"
   ]
  },
  {
   "cell_type": "code",
   "execution_count": null,
   "id": "52a0ffd4-9c03-41b8-9929-38f90eee412c",
   "metadata": {},
   "outputs": [],
   "source": [
    "! cd  {local_folder.value}{separator.value}{repository_name.value} && git status"
   ]
  },
  {
   "cell_type": "markdown",
   "id": "cf2c9640-b42f-4ead-bd31-625f64a05020",
   "metadata": {},
   "source": [
    "##### Step 6: **\"git diff\"** to check the difference after editing a file\n",
    "- Shows the differences (changes) between various versions of your files."
   ]
  },
  {
   "cell_type": "code",
   "execution_count": null,
   "id": "da6a45bd-0e6f-4cd2-b377-01ec47f58d9d",
   "metadata": {},
   "outputs": [],
   "source": [
    "! cd {local_folder.value}{separator.value}{repository_name.value} && git diff"
   ]
  },
  {
   "cell_type": "markdown",
   "id": "34b1bb2e-ba88-4250-b62a-411083f74191",
   "metadata": {},
   "source": [
    "##### Step 8: **\"git add .\"** to add the change to the created branch staging area"
   ]
  },
  {
   "cell_type": "code",
   "execution_count": null,
   "id": "498d116b-e975-451f-9dc7-3f33c20d36b9",
   "metadata": {},
   "outputs": [],
   "source": [
    "! cd {local_folder.value}{separator.value}{repository_name.value} && git add .\n",
    "! echo \"Adding change files to staging\""
   ]
  },
  {
   "cell_type": "markdown",
   "id": "bd29bc66-a073-4beb-a9e9-32facc18197a",
   "metadata": {},
   "source": [
    "##### Step 9: **\"git commit -m `<commit message>`\"** to stage the file\n",
    "- Saves the staged changes permanently into the local repository's history with a descriptive message."
   ]
  },
  {
   "cell_type": "code",
   "execution_count": null,
   "id": "82213fc9-cc4d-4cb7-a0b6-861128493d27",
   "metadata": {},
   "outputs": [],
   "source": [
    "! cd  {local_folder.value}{separator.value}{repository_name.value} && git commit -m \"Changes from feature-branch branch\"\n",
    "! echo \"Commiting change files with commit message\""
   ]
  },
  {
   "cell_type": "markdown",
   "id": "93eead62-2f08-41f1-b07c-083de79c0655",
   "metadata": {},
   "source": [
    "##### Step 10: **\"git push origin `<new branch anme>`\"** to push the changes to the \"feature-branch\""
   ]
  },
  {
   "cell_type": "code",
   "execution_count": null,
   "id": "66ea5d53-2238-4090-a6a3-37422a755f55",
   "metadata": {},
   "outputs": [],
   "source": [
    "! cd {local_folder.value}{separator.value}{repository_name.value} && git push origin {new_branch_name.value}\n",
    "! echo \"Changes pushed to new branch $new_branch_name\""
   ]
  },
  {
   "cell_type": "markdown",
   "id": "0af64c5e-c37d-4ab0-8260-eb2ad6b5ff13",
   "metadata": {},
   "source": [
    "##### Step 11: check the git repository, a new branch will be created. Switch to that branch and check test_file.txt got updated"
   ]
  },
  {
   "cell_type": "markdown",
   "id": "02b9417d-a659-497f-93b0-a6ff083c6898",
   "metadata": {},
   "source": [
    "##### Step 12:  **\"git checkout `< branch name>`\"** to switch to main branch\n",
    "- Primarily used to switch branches or restore files.\n",
    "- Switches your working directory and HEAD to the specified branch."
   ]
  },
  {
   "cell_type": "code",
   "execution_count": null,
   "id": "2594b86e-a24e-4ea2-8bc9-0a7fb1e17796",
   "metadata": {},
   "outputs": [],
   "source": [
    "! cd  {local_folder.value}{separator.value}{repository_name.value} && git checkout main"
   ]
  },
  {
   "cell_type": "markdown",
   "id": "b16f6e68-1524-4b85-9917-e43305d9ba0e",
   "metadata": {},
   "source": [
    "##### Step 13: **\"git status\"** to Check the current status after checkout to main branch\n",
    "- Since, we moved from new branch to main branch, we dont see the change made in the new branch"
   ]
  },
  {
   "cell_type": "code",
   "execution_count": null,
   "id": "564eceb5-6d99-4209-bfad-d750a2077efe",
   "metadata": {},
   "outputs": [],
   "source": [
    "! cd {local_folder.value}{separator.value}{repository_name.value} && git status"
   ]
  },
  {
   "cell_type": "markdown",
   "id": "147e285a-f681-4538-abd3-1ca6739de4bb",
   "metadata": {},
   "source": [
    "##### Step 14: **\"git diff\"** to check the difference after checkout to main branch"
   ]
  },
  {
   "cell_type": "code",
   "execution_count": null,
   "id": "9232be2d-1bfa-4511-9d6d-2d2f48dd47fc",
   "metadata": {},
   "outputs": [],
   "source": [
    "! cd  {local_folder.value}{separator.value}{repository_name.value} && git diff"
   ]
  },
  {
   "cell_type": "markdown",
   "id": "5271dca5-728d-4cd4-a8f0-b5acac097887",
   "metadata": {},
   "source": [
    "##### Step 15: Merge new feature-branch branch with main branch\n",
    "- **\"git merge `<new branch name>`\"** is to merge new branch changes to main branch"
   ]
  },
  {
   "cell_type": "code",
   "execution_count": null,
   "id": "32b7ed9a-93f5-460a-a78b-552e2f9fbd20",
   "metadata": {},
   "outputs": [],
   "source": [
    "! cd  {local_folder.value}{separator.value}{repository_name.value} && git merge {new_branch_name.value}"
   ]
  },
  {
   "cell_type": "markdown",
   "id": "1617a593-b8af-4265-88cf-102925032039",
   "metadata": {},
   "source": [
    "##### Step 16: **\"git status\"** to Check the current status after new branch changes with merge main branch\n",
    "- Now we see the changes we made in test_file.txt"
   ]
  },
  {
   "cell_type": "code",
   "execution_count": null,
   "id": "b6464676-a319-4b79-8d30-8ab48c8161fe",
   "metadata": {},
   "outputs": [],
   "source": [
    "! cd {local_folder.value}{separator.value}{repository_name.value} && git status"
   ]
  },
  {
   "cell_type": "markdown",
   "id": "03fbac99-1990-4fc1-be2c-ce89bae94a72",
   "metadata": {},
   "source": [
    "##### Step 17: **\"git diff\"** to check the difference in file after checkout to main branch"
   ]
  },
  {
   "cell_type": "code",
   "execution_count": null,
   "id": "e6edf8cb-15c7-4480-8634-1c78ca5d64f8",
   "metadata": {
    "scrolled": true
   },
   "outputs": [],
   "source": [
    "! cd {local_folder.value}{separator.value}{repository_name.value} && git diff"
   ]
  },
  {
   "cell_type": "markdown",
   "id": "dcc9a37a-3eff-4042-84d4-8c56e0536d31",
   "metadata": {},
   "source": [
    "##### Step 18: **\"git add .\"** to add the change to the main branch staging area"
   ]
  },
  {
   "cell_type": "code",
   "execution_count": null,
   "id": "9d2696f7-3286-43a8-87ec-4108a43a9860",
   "metadata": {},
   "outputs": [],
   "source": [
    "! cd  {local_folder.value}{separator.value}{repository_name.value} && git add ."
   ]
  },
  {
   "cell_type": "markdown",
   "id": "a43b7b7e-a20e-41c7-9f89-4544a3b33208",
   "metadata": {},
   "source": [
    "##### Step 19: **\"git commit -m `<commit message>`\"** to stage the file\n",
    "- Saves the staged changes permanently into the local repository's history with a descriptive message."
   ]
  },
  {
   "cell_type": "code",
   "execution_count": null,
   "id": "47d49b35-3bdf-43c7-9ba9-39c8a9f568b4",
   "metadata": {},
   "outputs": [],
   "source": [
    "! cd {local_folder.value}{separator.value}{repository_name.value} && git commit -m \"merging $new_branch_name branch with Main\""
   ]
  },
  {
   "cell_type": "markdown",
   "id": "81d93f35-0948-4697-96a9-2d409bc9e3e0",
   "metadata": {},
   "source": [
    "##### Step 20: **\"git push origin main\"** push the merged changes to the repo\n",
    "- we are using **\"origin main\"** to push the change to specific branch"
   ]
  },
  {
   "cell_type": "code",
   "execution_count": null,
   "id": "db0ddc19-3887-4300-a1e7-047ee7887bbd",
   "metadata": {
    "scrolled": true
   },
   "outputs": [],
   "source": [
    "! cd {local_folder.value}{separator.value}{repository_name.value} && git push origin main\n",
    "! echo \"merg $new_branch_name branch with Main is successful\""
   ]
  },
  {
   "cell_type": "markdown",
   "id": "f9e346a0-918d-478a-958a-0e37e47dfee6",
   "metadata": {},
   "source": [
    "##### Step 21: check the main branch in the repository, test_file.txt will get updated"
   ]
  },
  {
   "cell_type": "markdown",
   "id": "4073b094-2d89-4267-8a73-2f442f2fc386",
   "metadata": {},
   "source": [
    "***"
   ]
  },
  {
   "cell_type": "markdown",
   "id": "b86d6845-5042-4c65-820c-26b653ee304f",
   "metadata": {},
   "source": [
    "#### Make change to a file and stash it, pop the stash, and restore\n",
    "**\"git stash:\"**\n",
    "\n",
    "* Temporarily saves your uncommitted changes (both staged and unstaged) to a \"stash stack.\"\n",
    "* Allows you to switch branches or perform other Git operations on a clean working directory.\n",
    "* Useful for quickly saving work-in-progress without creating a commit.\n",
    "\n",
    "**\"git stash pop:\"**\n",
    "\n",
    "* Retrieves the most recent stash from the stash stack.\n",
    "* Applies the changes from that stash to your current working directory.\n",
    "\n",
    "**\"git restore <file_name>\"**\n",
    "* This effectively discards any local modifications you've made to these files "
   ]
  },
  {
   "cell_type": "markdown",
   "id": "c2694e31-8e0c-4988-a27a-93d74b881ce7",
   "metadata": {},
   "source": [
    "##### Step 1: Make a change to the test_file.txt"
   ]
  },
  {
   "cell_type": "code",
   "execution_count": null,
   "id": "d3f79c8c-6c24-456e-96f7-ce2902aeb9eb",
   "metadata": {},
   "outputs": [],
   "source": [
    "! cd  {local_folder.value}{separator.value}{repository_name.value} && echo This is the third line >> test_file.txt"
   ]
  },
  {
   "cell_type": "markdown",
   "id": "b06cc9a2-6364-4bfd-b639-5975e64304b6",
   "metadata": {},
   "source": [
    "##### Step 2: **\"git status\"** to Check the current status after the change in test_file.txt"
   ]
  },
  {
   "cell_type": "code",
   "execution_count": null,
   "id": "056570b2-5173-43fc-b023-3f3e3eb826d8",
   "metadata": {},
   "outputs": [],
   "source": [
    "! cd  {local_folder.value}{separator.value}{repository_name.value} && git status"
   ]
  },
  {
   "cell_type": "markdown",
   "id": "d76a8657-2d19-41e0-8943-59932243f535",
   "metadata": {},
   "source": [
    "##### Step 3: **\"git diff\"** show the differenc after the change in test_file.txt"
   ]
  },
  {
   "cell_type": "code",
   "execution_count": null,
   "id": "5c892df3-a43b-4a02-b816-90d894e64598",
   "metadata": {},
   "outputs": [],
   "source": [
    "! cd {local_folder.value}{separator.value}{repository_name.value} && git diff"
   ]
  },
  {
   "cell_type": "markdown",
   "id": "0a1dcbe4-e86f-4952-8adf-86cf58c6cb0c",
   "metadata": {},
   "source": [
    "##### Step 4: stash the changes\n",
    "- **\"git stash\"** Temporarily saves uncommitted changes (staged and unstaged) to a hidden stack."
   ]
  },
  {
   "cell_type": "code",
   "execution_count": null,
   "id": "4c291c38-14a6-4763-af67-a0dc69899b6d",
   "metadata": {},
   "outputs": [],
   "source": [
    "! cd  {local_folder.value}{separator.value}{repository_name.value} && git stash"
   ]
  },
  {
   "cell_type": "markdown",
   "id": "909fe34b-2c1b-4820-ab55-09f48f6f5744",
   "metadata": {},
   "source": [
    "##### Step 5: **\"git status\"** to Check the current status after stashing the changes\n",
    "- Changes we made will be no longer available"
   ]
  },
  {
   "cell_type": "code",
   "execution_count": null,
   "id": "b1ac4c30-0581-4cc3-b05c-8a43ff49ec63",
   "metadata": {},
   "outputs": [],
   "source": [
    "! cd  {local_folder.value}{separator.value}{repository_name.value} && git status"
   ]
  },
  {
   "cell_type": "markdown",
   "id": "49df6d07-9890-499f-97ab-8143793379a5",
   "metadata": {},
   "source": [
    "##### Step 6: **\"git stash pop\"** to revert back the changes\n",
    "Applies the most recent stash from the stack to your working directory"
   ]
  },
  {
   "cell_type": "code",
   "execution_count": null,
   "id": "10b699a5-f178-41c8-9363-a2c7ce9d6aaf",
   "metadata": {},
   "outputs": [],
   "source": [
    "! cd {local_folder.value}{separator.value}{repository_name.value} && git stash pop"
   ]
  },
  {
   "cell_type": "markdown",
   "id": "a85b6e43-e05e-4bfc-bf87-20de74d88ca7",
   "metadata": {
    "scrolled": true
   },
   "source": [
    "##### Step 7: **\"git status\"** to Check the current status after stashing the changes\n",
    "- Changes we made will be available"
   ]
  },
  {
   "cell_type": "code",
   "execution_count": null,
   "id": "bb7bb465-e393-48d2-b80c-1b30e5fd89dc",
   "metadata": {
    "scrolled": true
   },
   "outputs": [],
   "source": [
    "! cd  {local_folder.value}{separator.value}{repository_name.value} && git diff"
   ]
  },
  {
   "cell_type": "markdown",
   "id": "dbebfaf4-1d56-46de-9fd3-edb6c7e369fa",
   "metadata": {},
   "source": [
    "##### Step 8: **\"git restore `<file>`\"**  Discards local changes in the working directory for a file"
   ]
  },
  {
   "cell_type": "code",
   "execution_count": null,
   "id": "5a74887d-713b-48f8-927d-a2ecc5b002ef",
   "metadata": {},
   "outputs": [],
   "source": [
    "! cd  {local_folder.value}{separator.value}{repository_name.value} && git restore test_file.txt"
   ]
  },
  {
   "cell_type": "markdown",
   "id": "853da5ec-fd55-4e86-b842-7dbade8ae69c",
   "metadata": {},
   "source": [
    "##### Step 9: **\"git status\"** to Check the current status after stashing the changes\n",
    "- Changes would get discarded"
   ]
  },
  {
   "cell_type": "code",
   "execution_count": null,
   "id": "3d7d504e-97e4-4787-9ef4-f742b7b2cbf5",
   "metadata": {},
   "outputs": [],
   "source": [
    "! cd  {local_folder.value}{separator.value}{repository_name.value} && git status"
   ]
  },
  {
   "cell_type": "markdown",
   "id": "bcb53af9-e8e1-4b89-9b56-157e676ddf95",
   "metadata": {},
   "source": [
    "##### Step 10: **\"git diff\"** show the differenc after the change in test_file.txt\n",
    "- No change will be present"
   ]
  },
  {
   "cell_type": "code",
   "execution_count": null,
   "id": "6fb0b677-e56a-4250-bc89-947200af0649",
   "metadata": {},
   "outputs": [],
   "source": [
    "! cd  {local_folder.value}{separator.value}{repository_name.value} && git diff"
   ]
  },
  {
   "cell_type": "markdown",
   "id": "a6ec1d06-c100-4ee0-90cd-59e83297f78c",
   "metadata": {},
   "source": [
    "***"
   ]
  },
  {
   "cell_type": "markdown",
   "id": "6d3bdebf-7732-405f-bcb2-abfb84173e2f",
   "metadata": {},
   "source": [
    "\n",
    "### 📁 Gitignore\n",
    "\n",
    "The `.gitignore` file tells Git which files NOT to track — e.g., API keys, virtual environments, etc.\n",
    "Sometimes we have passwords, security keys or temporary files we don’t want to upload to GitHub.\n",
    "\n",
    "Add lines like:\n",
    "\n",
    "```\n",
    ".env\n",
    "venv/\n",
    "*.log\n",
    "my_secret_folder/\n",
    "my_sensitive_file.txt\n",
    "temp_*\n",
    "**/outputs\n",
    "**/*.pyc\n",
    "logs/*.txt\n",
    "```"
   ]
  },
  {
   "cell_type": "markdown",
   "id": "f67d8cc1-7a5a-401d-a6d5-9ad10241f0cd",
   "metadata": {},
   "source": [
    "####  Gitignore exercise"
   ]
  },
  {
   "cell_type": "markdown",
   "id": "fb45c99b-78b4-45b3-b9c1-52c6639400f9",
   "metadata": {},
   "source": [
    "##### Step 1: Lets create couple of files for gitignore exercise."
   ]
  },
  {
   "cell_type": "markdown",
   "id": "df7b0c89-2077-4005-bc95-81c155f23f44",
   "metadata": {},
   "source": [
    "- Open file explorer, and goto the folder where we cloned your repository and tried git exercise\n",
    "    * example: C:\\Users\\<santhosh>\\local_repo\n",
    "- open notepad and create a text file with below content and save it as **\".env\"**\n",
    "    * **DATABASE_URL=sqlite:///db.sqlite3**\n",
    "    * **API_KEY=supersecretkey123**\n",
    "- open notepad and create a text file with below content and save it as **\"app.log\"**\n",
    "    * **INFO: Application started**\n",
    "- open notepad and create a text file with below content and save it as **\"main.py\"**\n",
    "    * **print('App is running')**\n",
    "- create folder **\"output\"** and create a text file inside the folder with below content and save it as **\"report.txt\"**\n",
    "    * **Generated report data** "
   ]
  },
  {
   "cell_type": "markdown",
   "id": "a2abbb7f-34e9-4262-93fe-6d94b1cad41f",
   "metadata": {},
   "source": [
    "##### Step 2: **\"git status\"** to Check the current status after adding the files\n",
    "- Git is currently tracking all these files and folders, including .env, app.log, and output/."
   ]
  },
  {
   "cell_type": "code",
   "execution_count": null,
   "id": "b38ff168-81d7-4f3e-a250-290dac194807",
   "metadata": {},
   "outputs": [],
   "source": [
    "! cd {local_folder.value}{separator.value}{repository_name.value} && git status"
   ]
  },
  {
   "cell_type": "markdown",
   "id": "49abf8b6-3a46-4740-aa58-68655cc53605",
   "metadata": {},
   "source": [
    "##### Step 3: lets create a .gitignore file\n",
    "- open notepad and create a text file with below content and save it as **\".gitignore\"** where **.env** created.\n",
    "- Note: DONT create inside output folder\n",
    "```\n",
    "# Ignore environment variables**  \n",
    ".env  \n",
    "# Ignore log files**  \n",
    "*.log  \n",
    "# Ignore output folder**  \n",
    "output/**\n",
    "```"
   ]
  },
  {
   "cell_type": "markdown",
   "id": "721f2dae-be88-49e7-b2e6-3cb22e69f1ce",
   "metadata": {},
   "source": [
    "##### Step 4: **\"git status\"** to Check the current status after stashing the changes\n",
    "- Notice that .env, app.log, and output/ are no longer listed as untracked files. Git is now correctly ignoring them! Only main.py (which you want to track) and .gitignore (which you also want to track so Git knows what to ignore) are shown."
   ]
  },
  {
   "cell_type": "code",
   "execution_count": null,
   "id": "8d8eed73-b028-414b-adb5-a564a20fb47a",
   "metadata": {},
   "outputs": [],
   "source": [
    "! cd {local_folder.value}{separator.value}{repository_name.value} && git status"
   ]
  },
  {
   "cell_type": "markdown",
   "id": "fd727e39-6ed9-497c-b60e-6178afd2ebf4",
   "metadata": {},
   "source": [
    "##### Step 5: Adding **\"main.py\"**, **\".gitignore\"** to staging using **\"git add main.py .gitignore\"**"
   ]
  },
  {
   "cell_type": "code",
   "execution_count": null,
   "id": "6f1f4a75-8721-4005-8d71-71eacc4a24a8",
   "metadata": {},
   "outputs": [],
   "source": [
    "! cd {local_folder.value}{separator.value}{repository_name.value} && git add main.py .gitignore"
   ]
  },
  {
   "cell_type": "markdown",
   "id": "e1c5f971-ccd7-4f62-80b1-b94e029b81b2",
   "metadata": {},
   "source": [
    "##### Step 6: **\"git commit -m `<commit message>`\"** to stage the file\n",
    "- Saves the staged changes permanently into the local repository's history with a descriptive message."
   ]
  },
  {
   "cell_type": "code",
   "execution_count": null,
   "id": "36b3df6e-9c13-47d7-86e0-75a5dc13d084",
   "metadata": {},
   "outputs": [],
   "source": [
    "! cd {local_folder.value}\\{repository_name.value} && git commit -m \"Initial commit: Add main script and gitignore rules\""
   ]
  },
  {
   "cell_type": "markdown",
   "id": "49164aeb-6c65-4a5c-a9b2-00fa64243031",
   "metadata": {},
   "source": [
    "##### Step 7: push the merged changes to the repo using **\"git push origin main\"**\n",
    "- we are using **\"origin main\"** to push the change to specific branch"
   ]
  },
  {
   "cell_type": "code",
   "execution_count": null,
   "id": "139c58a1-33b0-4233-9309-a4c3caf17608",
   "metadata": {},
   "outputs": [],
   "source": [
    "! cd {local_folder.value}{separator.value}{repository_name.value} && git push origin main"
   ]
  },
  {
   "cell_type": "markdown",
   "id": "b4d0bc65-b2e4-450b-b595-c45047d1c4b4",
   "metadata": {},
   "source": [
    "- Observation: Notice that .env, app.log, and output/ are no longer available in repo. Only main.py (which you want to track) and .gitignore (which you also want to track so Git knows what to ignore) are shown."
   ]
  }
 ],
 "metadata": {
  "kernelspec": {
   "display_name": "Demo_venv",
   "language": "python",
   "name": "demo"
  },
  "language_info": {
   "codemirror_mode": {
    "name": "ipython",
    "version": 3
   },
   "file_extension": ".py",
   "mimetype": "text/x-python",
   "name": "python",
   "nbconvert_exporter": "python",
   "pygments_lexer": "ipython3",
   "version": "3.11.3"
  }
 },
 "nbformat": 4,
 "nbformat_minor": 5
}
