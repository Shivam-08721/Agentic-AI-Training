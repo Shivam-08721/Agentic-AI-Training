{
 "cells": [
  {
   "cell_type": "markdown",
   "id": "274853fc-db49-45ec-a27b-10a3879829eb",
   "metadata": {},
   "source": [
    "# Introduction to Python and Virtual environment\n",
    "\n",
    "## What is Python?\n",
    "- Python is a high-level, interpreted programming language known for its readability and simplicity. \n",
    "- Python's simple syntax makes it an excellent language for beginners to learn programming."
   ]
  },
  {
   "cell_type": "markdown",
   "id": "20cff52f-a602-4cb5-a78d-6ff0b2c37491",
   "metadata": {},
   "source": [
    "***"
   ]
  },
  {
   "cell_type": "markdown",
   "id": "f010c9d8-2297-44d0-940f-c1c6a2e5886d",
   "metadata": {},
   "source": [
    "## What is a Python Virtual Environment?\n",
    "- A virtual environment is an isolated Python environment that allows you to install packages and dependencies for a specific project without affecting other projects or the system-wide Python installation. \n",
    "## Why Use Virtual Environments?\n",
    "- Avoid conflicts, and maintain clean, organized projects."
   ]
  },
  {
   "cell_type": "markdown",
   "id": "af727332-9f2f-4039-9b6d-f31c2e6161e0",
   "metadata": {},
   "source": [
    "***"
   ]
  },
  {
   "cell_type": "markdown",
   "id": "632bc249-8d17-46f2-bfed-fae55e538625",
   "metadata": {},
   "source": [
    "## How to Create and Use Virtual Environments\n",
    "\n",
    "- Create new folder name sample project\n",
    "> mkdir C:\\Users\\santhosh\\sample_project\n",
    "\n",
    "- Move to sample project\n",
    "> cd C:\\Users\\santhosh\\sample_project\n",
    "\n",
    "- Create virtual environment\n",
    "> python -m venv sample_venv\n"
   ]
  },
  {
   "cell_type": "markdown",
   "id": "08c45c99-4175-4663-bfb6-c58cea126234",
   "metadata": {},
   "source": [
    "***"
   ]
  },
  {
   "cell_type": "markdown",
   "id": "776f3055-7c3b-409f-b472-93cea65106e6",
   "metadata": {},
   "source": [
    "## Python Tryouts\n",
    "In this Jupyter notebook, lets try out some python operations like import, arithmetic operations, function call\n",
    "\n",
    "- Select the virtual environment as kernel"
   ]
  },
  {
   "cell_type": "markdown",
   "id": "246bdd95-3689-4a38-beb0-4a07e59edd00",
   "metadata": {},
   "source": [
    "#### What is import Statement\n",
    "\n",
    "- The import statement in Python is used to bring modules or packages into the current namespace.\n",
    "- A module is simply a Python file (.py) containing Python definitions and statements. \n",
    "- A package is a collection of modules in directories.\n",
    "\n",
    "\n",
    "#### Why we use it:\n",
    "- Code Reusability\n",
    "- Modularity"
   ]
  },
  {
   "cell_type": "markdown",
   "id": "10977620-ca4e-4283-8b91-7fda8faf6cbb",
   "metadata": {},
   "source": [
    "#### Imports"
   ]
  },
  {
   "cell_type": "code",
   "execution_count": null,
   "id": "831596e4-f513-4d8c-b640-6f840603ac0f",
   "metadata": {},
   "outputs": [],
   "source": [
    "import sys\n",
    "import pip\n",
    "import requests\n",
    "import os\n",
    "import json\n",
    "from datetime import datetime\n",
    "from glob import glob\n",
    "import sys\n",
    "import platform"
   ]
  },
  {
   "cell_type": "markdown",
   "id": "a2cbe46d-7024-4184-a793-de9fc0a233de",
   "metadata": {},
   "source": [
    "#### Method call"
   ]
  },
  {
   "cell_type": "markdown",
   "id": "dffb3b1a-a701-4777-b895-c24bc57dd204",
   "metadata": {},
   "source": [
    "- In Python, \"methods\" are functions that belong to a class, but the term \"function\" is used for standalone blocks of reusable code. Here, we'll focus on creating and calling functions, as they are the building blocks of methods.\n",
    "\n",
    "- Key Concepts:\n",
    "\n",
    "    * **\"def keyword\"**: Used to define a function.\n",
    "    * **\"Function Name\"**: Follows Python's naming conventions (lowercase, words separated by underscores).\n",
    "    * **\"Parameters (Arguments)\"**: Variables listed inside the parentheses in the function definition. They receive values when the function is called.\n",
    "    * **\"Function Body\"**: The indented block of code that performs the function's task.\n",
    "    * **\"return statement (Optional)\"**: Sends a value back to the caller. If omitted, the function implicitly returns None.\n",
    "\n",
    "\n",
    "- `check_environment()` function serves as a diagnostic tool to verify the basic setup and functionality of a Python development environment. It performs checks on:\n",
    "\n",
    "The Python interpreter version and the operating system.\n",
    "Internet connectivity and the ability to make HTTP requests using the requests library.\n",
    "Basic Python arithmetic capabilities."
   ]
  },
  {
   "cell_type": "code",
   "execution_count": null,
   "id": "be4632b2-b5e0-47d0-a6bc-540fbd68334d",
   "metadata": {},
   "outputs": [],
   "source": [
    "def check_environment():\n",
    "    # Basic Python version check\n",
    "    print(f\"Python version: {sys.version.split()[0]}\")\n",
    "    print(f\"Running on: {platform.system()} {platform.release()}\")\n",
    "    \n",
    "    # Test requests library\n",
    "    try:\n",
    "        response = requests.get(\"https://api.github.com/zen\")\n",
    "        if response.status_code == 200:\n",
    "            print(\"\\nSuccessfully made HTTP request!\")\n",
    "            print(f\"Random GitHub Zen: {response.text}\")\n",
    "        else:\n",
    "            print(f\"HTTP request failed with status code: {response.status_code}\")\n",
    "    except requests.exceptions.RequestException as e:\n",
    "        print(f\"Error making HTTP request: {e}\")\n",
    "    \n",
    "    # Simple calculation\n",
    "    numbers = [1, 2, 3, 4, 5]\n",
    "    result = sum(numbers)\n",
    "    print(f\"\\nSimple calculation test:\")\n",
    "    print(f\"Sum of {numbers} = {result}\")\n",
    "\n",
    "if __name__ == \"__main__\":\n",
    "    check_environment()"
   ]
  },
  {
   "cell_type": "markdown",
   "id": "24550113-e00b-47ff-9a96-3e3d115a3a0e",
   "metadata": {},
   "source": [
    "****"
   ]
  },
  {
   "cell_type": "markdown",
   "id": "23d4bc26-4d42-4be4-881e-8b902a61d891",
   "metadata": {},
   "source": [
    "#### Exception Handling\n",
    "\n",
    "* Exception handling is about gracefully managing unexpected situations or \"exceptions\"/\"error\" that occur during program execution, preventing your program from crashing.\n",
    "\n",
    "* Key Concepts:\n",
    "\n",
    "    - **\"Exception\"**: An event that disrupts the normal flow of a program. Examples: ValueError, FileNotFoundError, ZeroDivisionError, TypeError.\n",
    "    - **\"try block\"**: Contains the code that might raise an exception.\n",
    "    - **\"except block\"**: Contains the code that gets executed if an exception occurs in the try block. You can specify the type of exception to catch.\n",
    "    - **\"else block (Optional)\"**: Contains code that runs only if no exception occurred in the try block.\n",
    "    - **\"finally block (Optional)\"**: Contains code that always runs, regardless of whether an exception occurred or was handled. Useful for cleanup operations (e.g., closing files)."
   ]
  },
  {
   "cell_type": "code",
   "execution_count": null,
   "id": "fb9adedf-c109-430c-a3a8-c758556aa0d2",
   "metadata": {},
   "outputs": [],
   "source": [
    "# Exercise 1: Handling ValueError during Type Conversion\n",
    "def get_valid_integer():\n",
    "    while True:\n",
    "        user_input = input(\"Please enter an integer: \")\n",
    "        try:\n",
    "            number = int(user_input)\n",
    "            return number\n",
    "        except ValueError:\n",
    "            print(\"Invalid input. That's not a whole number. Please try again.\")\n",
    "\n",
    "\n",
    "valid_number = get_valid_integer()\n",
    "print(f\"You entered: {valid_number}\")\n",
    "print(f\"{valid_number} multiplied by 2 is: {valid_number * 2}\")"
   ]
  },
  {
   "cell_type": "markdown",
   "id": "922601fb-9a94-4e88-868b-d9abe03428c8",
   "metadata": {},
   "source": [
    "****"
   ]
  },
  {
   "cell_type": "code",
   "execution_count": null,
   "id": "0bba32ce-ea62-4823-90ef-ff9ffc92225d",
   "metadata": {},
   "outputs": [],
   "source": [
    "# Exercise 2: Handling FileNotFoundError when Reading a File\n",
    "def read_file_safely(filename):\n",
    "    file_content = None\n",
    "    try:\n",
    "        with open(filename, 'r') as file:\n",
    "            file_content = file.readlines()\n",
    "            return file_content\n",
    "    except FileNotFoundError:\n",
    "        print(f\"Error: The file '{filename}' was not found. Please check the path and filename.\")\n",
    "    except PermissionError:\n",
    "        print(f\"Error: Permission denied to read '{filename}'. Check your file permissions.\")\n",
    "    except IOError as e:\n",
    "        print(f\"An unexpected file error occurred with '{filename}': {e}\")\n",
    "    finally:\n",
    "        # 'file' is only defined within the 'try' block if opening succeeded\n",
    "        if 'file' in locals() and not file.closed:\n",
    "            file.close()\n",
    "    return file_content\n",
    "\n",
    "\n",
    "# Create a test file\n",
    "with open(\"test.txt\", \"w\") as f:\n",
    "    f.write(\"Line 1\\n\")\n",
    "    f.write(\"Line 2\\n\")\n",
    "    f.write(\"Line 3\\n\")\n",
    "    f.write(\"Line 4\\n\")\n",
    "    f.write(\"Line 5\\n\")\n",
    "    f.write(\"Line 6\\n\")\n",
    "\n",
    "existing_file_content = read_file_safely(\"test.txt\")\n",
    "if existing_file_content:\n",
    "    print(\"First 5 lines of 'test.txt':\")\n",
    "    for line in existing_file_content[:5]:\n",
    "        print(line.strip())\n",
    "\n",
    "\n"
   ]
  },
  {
   "cell_type": "markdown",
   "id": "6af04062-4066-4f39-a0a3-42cfb9cb15e6",
   "metadata": {},
   "source": [
    "****"
   ]
  },
  {
   "cell_type": "code",
   "execution_count": null,
   "id": "7272e75a-0b70-428c-bf6b-30287df94f3c",
   "metadata": {},
   "outputs": [],
   "source": [
    "# Exercise 3: Handling IndexError when Accessing a List\n",
    "my_list = [\"apple\", \"banana\", \"cherry\"]\n",
    "while True:\n",
    "    index_str = input(f\"Enter an index to access (0 to {len(my_list) - 1}): \")\n",
    "    try:\n",
    "        index = int(index_str)\n",
    "        element = my_list[index]\n",
    "        print(f\"The element at index {index} is: {element}\")\n",
    "        break\n",
    "    except ValueError:\n",
    "        print(\"Invalid input. Please enter a whole number for the index.\")\n",
    "    except IndexError:\n",
    "        print(f\"Error: Invalid index. Valid indices are from 0 to {len(my_list) - 1}.\")\n",
    "\n"
   ]
  },
  {
   "cell_type": "markdown",
   "id": "f0125918-cc5a-4c5b-8e80-6095e763b163",
   "metadata": {},
   "source": [
    "****"
   ]
  },
  {
   "cell_type": "code",
   "execution_count": null,
   "id": "2195adbc-dac3-49a7-a740-de66e4f99e86",
   "metadata": {},
   "outputs": [],
   "source": [
    "# Exercise 4: Handling Multiple Potential Errors\n",
    "def safe_divide(numerator, denominator):\n",
    "    try:\n",
    "        result = numerator / denominator\n",
    "        return result\n",
    "    except ZeroDivisionError:\n",
    "        print(\"Error: Cannot divide by zero.\")\n",
    "        return None\n",
    "    except TypeError:\n",
    "        print(\"Error: Both inputs must be numbers.\")\n",
    "        return None\n",
    "\n",
    "print(f\"10 / 2 = {safe_divide(10, 2)}\")"
   ]
  },
  {
   "cell_type": "code",
   "execution_count": null,
   "id": "005d42b4-3db9-4285-9be6-713823091d22",
   "metadata": {},
   "outputs": [],
   "source": [
    "print(f\"5 / 0 = {safe_divide(5, 0)}\")"
   ]
  },
  {
   "cell_type": "code",
   "execution_count": null,
   "id": "c78a9400-0e90-41cf-9f5b-0f429819e780",
   "metadata": {},
   "outputs": [],
   "source": [
    "print(f\"'abc' / 2 = {safe_divide('abc', 2)}\")"
   ]
  },
  {
   "cell_type": "code",
   "execution_count": null,
   "id": "73fd21c4-bf3b-469f-a0ce-c03d7060e986",
   "metadata": {},
   "outputs": [],
   "source": [
    "print(f\"10 / 'xyz' = {safe_divide(10, 'xyz')}\")"
   ]
  },
  {
   "cell_type": "code",
   "execution_count": null,
   "id": "77443833-8f3d-4fc1-b860-d099b02d36c1",
   "metadata": {},
   "outputs": [],
   "source": [
    "print(f\"7 / 3 = {safe_divide(7, 3)}\")"
   ]
  },
  {
   "cell_type": "markdown",
   "id": "3ce15775-c350-4ef1-99e8-1bd54dda8de8",
   "metadata": {},
   "source": [
    "****"
   ]
  },
  {
   "cell_type": "code",
   "execution_count": null,
   "id": "bb2a499e-ef51-41d8-a369-ad56d7a631ac",
   "metadata": {},
   "outputs": [],
   "source": [
    "# Exercise 5: Creating Custom Exceptions\n",
    "class InsufficientFundsError(ValueError):\n",
    "    pass\n",
    "\n",
    "class BankAccount:\n",
    "    def __init__(self, balance):\n",
    "        self.balance = balance\n",
    "\n",
    "    def withdraw(self, amount):\n",
    "        if amount <= 0:\n",
    "            raise ValueError(\"Withdrawal amount must be positive.\")\n",
    "        if amount > self.balance:\n",
    "            raise InsufficientFundsError(\"Insufficient funds in your account.\")\n",
    "        self.balance -= amount\n",
    "        print(f\"Withdrew {amount}. New balance: {self.balance}\")\n",
    "\n",
    "\n",
    "\n"
   ]
  },
  {
   "cell_type": "code",
   "execution_count": null,
   "id": "60332e3b-140f-4bb9-a709-53dec7a11621",
   "metadata": {},
   "outputs": [],
   "source": [
    "account = BankAccount(100)"
   ]
  },
  {
   "cell_type": "code",
   "execution_count": null,
   "id": "aa9e4a17-6599-4ddd-8418-5829e3ce17dc",
   "metadata": {},
   "outputs": [],
   "source": [
    "try:\n",
    "    account.withdraw(50)\n",
    "    account.withdraw(150)\n",
    "except InsufficientFundsError as e:\n",
    "    print(f\"Withdrawal failed: {e}\")\n",
    "except ValueError as e:\n",
    "    print(f\"Error: {e}\")\n",
    "\n"
   ]
  },
  {
   "cell_type": "code",
   "execution_count": null,
   "id": "51cf5e38-f41d-45e2-9374-b7b8f1fd72bf",
   "metadata": {},
   "outputs": [],
   "source": [
    "try:\n",
    "    account.withdraw(-10)\n",
    "except ValueError as e:\n",
    "    print(f\"Error: {e}\")"
   ]
  },
  {
   "cell_type": "markdown",
   "id": "ea343d58-f213-4780-bc0c-9432c00683da",
   "metadata": {},
   "source": [
    "## Jupyter notebook Features"
   ]
  },
  {
   "cell_type": "markdown",
   "id": "968a780e-d85d-4b9a-99cd-e542ef3d051b",
   "metadata": {},
   "source": [
    "### Markdown"
   ]
  },
  {
   "cell_type": "markdown",
   "id": "3b138564-b0be-4e62-b2ef-9085ba9a0f76",
   "metadata": {},
   "source": [
    "***"
   ]
  },
  {
   "cell_type": "markdown",
   "id": "0a005645-8398-4866-b141-fd9d2bc7ab37",
   "metadata": {},
   "source": [
    "- Use # for headings.\n",
    "# heading 1\n",
    "## heading 2\n",
    "### subtopic"
   ]
  },
  {
   "cell_type": "markdown",
   "id": "7f6328c1-25dc-428e-b64d-240c494ce5b5",
   "metadata": {},
   "source": [
    "*** "
   ]
  },
  {
   "cell_type": "markdown",
   "id": "7cb7a7b2-958a-431f-9f5a-fe5d50050048",
   "metadata": {},
   "source": [
    "- Use * or - for bullet points.\n",
    "    - Apple\n",
    "    - Banana\n"
   ]
  },
  {
   "cell_type": "markdown",
   "id": "eaeca911-a3e7-43cc-ae0a-f7e93d720874",
   "metadata": {},
   "source": [
    "***"
   ]
  },
  {
   "cell_type": "markdown",
   "id": "34dd94ed-275f-4a32-b60a-12e420686df0",
   "metadata": {},
   "source": [
    "- Use **text** for bold and *text* for italic."
   ]
  },
  {
   "cell_type": "markdown",
   "id": "e6422c9f-74bb-4517-85c6-1fcbc1a806fa",
   "metadata": {},
   "source": [
    "### inline commands"
   ]
  },
  {
   "cell_type": "code",
   "execution_count": 4,
   "id": "11a9e008-cc43-488c-9ee6-2e797a1891b4",
   "metadata": {},
   "outputs": [
    {
     "name": "stdout",
     "output_type": "stream",
     "text": [
      "Current Python working directory: C:\\Users\\santhosh\\Ongilstuffs\\git\\weeko\\Courses\\Week0\\Day1\n",
      "\n",
      "Listing current directory contents:\n",
      " Volume in drive C is Windows-SSD\n",
      " Volume Serial Number is B2BF-B1E7\n",
      "\n",
      " Directory of C:\\Users\\santhosh\\Ongilstuffs\\git\\weeko\\Courses\\Week0\\Day1\n",
      "\n",
      "03-06-2025  21:03    <DIR>          .\n",
      "03-06-2025  14:45    <DIR>          ..\n",
      "29-05-2025  11:30    <DIR>          .ipynb_checkpoints\n",
      "03-06-2025  20:57            40,160 git_hands-on.ipynb\n",
      "03-06-2025  14:45    <DIR>          old files\n",
      "03-06-2025  21:03            24,230 python_hands-on.ipynb\n",
      "25-05-2025  12:07             1,923 requirements.txt\n",
      "03-06-2025  20:54                48 test.txt\n",
      "02-06-2025  09:41            44,175 Week 0- Day 1- 01-Agenda.pdf\n",
      "02-06-2025  09:41           201,361 Week 0- Day 1- 02-Git Introduction.pdf\n",
      "03-06-2025  05:54           330,836 Week 0- Day 1- 03-Git Installation.pdf\n",
      "03-06-2025  05:55           442,295 Week 0- Day 1- 04-Python Installation.pdf\n",
      "02-06-2025  09:41           289,541 Week 0- Day 1- 05-virtual environment setup.pdf\n",
      "02-06-2025  09:42           351,946 Week 0- Day 1- 06-Jupyter notebook setup.pdf\n",
      "02-06-2025  09:42           334,927 Week 0- Day 1- 07-Troubleshooting and solutions.pdf\n",
      "              11 File(s)      2,061,442 bytes\n",
      "               4 Dir(s)  175,365,050,368 bytes free\n"
     ]
    }
   ],
   "source": [
    "import os\n",
    "\n",
    "# Get the current working directory using Python\n",
    "print(f\"Current Python working directory: {os.getcwd()}\")\n",
    "\n",
    "# Using an inline command to list directory contents (like 'ls' in Linux/macOS or 'dir' in Windows)\n",
    "print(\"\\nListing current directory contents:\")\n",
    "! dir\n",
    "\n"
   ]
  },
  {
   "cell_type": "code",
   "execution_count": 11,
   "id": "131d494d-ef31-4037-8bb2-7f3ceec399a9",
   "metadata": {},
   "outputs": [
    {
     "name": "stdout",
     "output_type": "stream",
     "text": [
      "\n",
      "Creating a new folder:  C:\\Users\\santhosh\\inline_dir\n",
      "\n",
      "Verifying folder creation:\n"
     ]
    },
    {
     "name": "stderr",
     "output_type": "stream",
     "text": [
      "A subdirectory or file C:\\Users\\santhosh\\inline_dir already exists.\n"
     ]
    },
    {
     "name": "stdout",
     "output_type": "stream",
     "text": [
      " Volume in drive C is Windows-SSD\n",
      " Volume Serial Number is B2BF-B1E7\n",
      "\n",
      " Directory of C:\\Users\\santhosh\\Ongilstuffs\\git\\weeko\\Courses\\Week0\\Day1\n",
      "\n",
      "03-06-2025  21:05    <DIR>          .\n",
      "03-06-2025  14:45    <DIR>          ..\n",
      "29-05-2025  11:30    <DIR>          .ipynb_checkpoints\n",
      "03-06-2025  20:57            40,160 git_hands-on.ipynb\n",
      "03-06-2025  21:04    <DIR>          my_temp_data\n",
      "03-06-2025  14:45    <DIR>          old files\n",
      "03-06-2025  21:05            25,460 python_hands-on.ipynb\n",
      "25-05-2025  12:07             1,923 requirements.txt\n",
      "03-06-2025  20:54                48 test.txt\n",
      "02-06-2025  09:41            44,175 Week 0- Day 1- 01-Agenda.pdf\n",
      "02-06-2025  09:41           201,361 Week 0- Day 1- 02-Git Introduction.pdf\n",
      "03-06-2025  05:54           330,836 Week 0- Day 1- 03-Git Installation.pdf\n",
      "03-06-2025  05:55           442,295 Week 0- Day 1- 04-Python Installation.pdf\n",
      "02-06-2025  09:41           289,541 Week 0- Day 1- 05-virtual environment setup.pdf\n",
      "02-06-2025  09:42           351,946 Week 0- Day 1- 06-Jupyter notebook setup.pdf\n",
      "02-06-2025  09:42           334,927 Week 0- Day 1- 07-Troubleshooting and solutions.pdf\n",
      "              11 File(s)      2,062,672 bytes\n",
      "               5 Dir(s)  175,364,706,304 bytes free\n"
     ]
    }
   ],
   "source": [
    "# Using an inline command to create a directory\n",
    "new_folder_name = \" C:\\\\Users\\\\santhosh\\\\inline_dir\"\n",
    "print(f\"\\nCreating a new folder: {new_folder_name}\")\n",
    "! mkdir {new_folder_name}\n",
    "\n",
    "# Verify creation using an inline command\n",
    "print(f\"\\nVerifying folder creation:\")\n",
    "! dir\n",
    "\n",
    "\n"
   ]
  },
  {
   "cell_type": "markdown",
   "id": "cf980e5b-f130-45d7-a152-aeab5db6f5a2",
   "metadata": {},
   "source": [
    "### Magic commands"
   ]
  },
  {
   "cell_type": "code",
   "execution_count": null,
   "id": "b46466d5-6b3a-4291-8c61-9ce59d581073",
   "metadata": {},
   "outputs": [],
   "source": [
    "# Line Magic: Measure the execution time of a single line\n",
    "print(\"--- Line Magic: %timeit ---\")\n",
    "%timeit [x**2 for x in range(1000)]"
   ]
  },
  {
   "cell_type": "code",
   "execution_count": null,
   "id": "5d31174c-75ef-45e5-a53c-34bb58feb17a",
   "metadata": {},
   "outputs": [],
   "source": [
    "# Cell Magic: Measure the execution time of the entire cell\n",
    "print(\"\\n--- Cell Magic: %%timeit ---\")\n",
    "%%timeit -n 10 -r 5\n",
    "# This code block will be timed\n",
    "total = 0\n",
    "for i in range(1000):\n",
    "    total += i**2"
   ]
  },
  {
   "cell_type": "code",
   "execution_count": 1,
   "id": "dbab5b7b-a5da-41be-aed8-24253e46a97a",
   "metadata": {},
   "outputs": [
    {
     "name": "stdout",
     "output_type": "stream",
     "text": [
      "\n",
      "--- Line Magic: %lsmagic ---\n"
     ]
    },
    {
     "data": {
      "application/json": {
       "cell": {
        "!": "OSMagics",
        "HTML": "Other",
        "SVG": "Other",
        "bash": "Other",
        "capture": "ExecutionMagics",
        "cmd": "Other",
        "code_wrap": "ExecutionMagics",
        "debug": "ExecutionMagics",
        "file": "Other",
        "html": "DisplayMagics",
        "javascript": "DisplayMagics",
        "js": "DisplayMagics",
        "latex": "DisplayMagics",
        "markdown": "DisplayMagics",
        "perl": "Other",
        "prun": "ExecutionMagics",
        "pypy": "Other",
        "python": "Other",
        "python2": "Other",
        "python3": "Other",
        "ruby": "Other",
        "script": "ScriptMagics",
        "sh": "Other",
        "svg": "DisplayMagics",
        "sx": "OSMagics",
        "system": "OSMagics",
        "time": "ExecutionMagics",
        "timeit": "ExecutionMagics",
        "writefile": "OSMagics"
       },
       "line": {
        "alias": "OSMagics",
        "alias_magic": "BasicMagics",
        "autoawait": "AsyncMagics",
        "autocall": "AutoMagics",
        "automagic": "AutoMagics",
        "autosave": "KernelMagics",
        "bookmark": "OSMagics",
        "cd": "OSMagics",
        "clear": "KernelMagics",
        "cls": "KernelMagics",
        "code_wrap": "ExecutionMagics",
        "colors": "BasicMagics",
        "conda": "PackagingMagics",
        "config": "ConfigMagics",
        "connect_info": "KernelMagics",
        "copy": "Other",
        "ddir": "Other",
        "debug": "ExecutionMagics",
        "dhist": "OSMagics",
        "dirs": "OSMagics",
        "doctest_mode": "BasicMagics",
        "echo": "Other",
        "ed": "Other",
        "edit": "KernelMagics",
        "env": "OSMagics",
        "gui": "BasicMagics",
        "hist": "Other",
        "history": "HistoryMagics",
        "killbgscripts": "ScriptMagics",
        "ldir": "Other",
        "less": "KernelMagics",
        "load": "CodeMagics",
        "load_ext": "ExtensionMagics",
        "loadpy": "CodeMagics",
        "logoff": "LoggingMagics",
        "logon": "LoggingMagics",
        "logstart": "LoggingMagics",
        "logstate": "LoggingMagics",
        "logstop": "LoggingMagics",
        "ls": "Other",
        "lsmagic": "BasicMagics",
        "macro": "ExecutionMagics",
        "magic": "BasicMagics",
        "mamba": "PackagingMagics",
        "matplotlib": "PylabMagics",
        "micromamba": "PackagingMagics",
        "mkdir": "Other",
        "more": "KernelMagics",
        "notebook": "BasicMagics",
        "page": "BasicMagics",
        "pastebin": "CodeMagics",
        "pdb": "ExecutionMagics",
        "pdef": "NamespaceMagics",
        "pdoc": "NamespaceMagics",
        "pfile": "NamespaceMagics",
        "pinfo": "NamespaceMagics",
        "pinfo2": "NamespaceMagics",
        "pip": "PackagingMagics",
        "popd": "OSMagics",
        "pprint": "BasicMagics",
        "precision": "BasicMagics",
        "prun": "ExecutionMagics",
        "psearch": "NamespaceMagics",
        "psource": "NamespaceMagics",
        "pushd": "OSMagics",
        "pwd": "OSMagics",
        "pycat": "OSMagics",
        "pylab": "PylabMagics",
        "qtconsole": "KernelMagics",
        "quickref": "BasicMagics",
        "recall": "HistoryMagics",
        "rehashx": "OSMagics",
        "reload_ext": "ExtensionMagics",
        "ren": "Other",
        "rep": "Other",
        "rerun": "HistoryMagics",
        "reset": "NamespaceMagics",
        "reset_selective": "NamespaceMagics",
        "rmdir": "Other",
        "run": "ExecutionMagics",
        "save": "CodeMagics",
        "sc": "OSMagics",
        "set_env": "OSMagics",
        "store": "StoreMagics",
        "sx": "OSMagics",
        "system": "OSMagics",
        "tb": "ExecutionMagics",
        "time": "ExecutionMagics",
        "timeit": "ExecutionMagics",
        "unalias": "OSMagics",
        "unload_ext": "ExtensionMagics",
        "uv": "PackagingMagics",
        "who": "NamespaceMagics",
        "who_ls": "NamespaceMagics",
        "whos": "NamespaceMagics",
        "xdel": "NamespaceMagics",
        "xmode": "BasicMagics"
       }
      },
      "text/plain": [
       "Available line magics:\n",
       "%alias  %alias_magic  %autoawait  %autocall  %automagic  %autosave  %bookmark  %cd  %clear  %cls  %code_wrap  %colors  %conda  %config  %connect_info  %copy  %ddir  %debug  %dhist  %dirs  %doctest_mode  %echo  %ed  %edit  %env  %gui  %hist  %history  %killbgscripts  %ldir  %less  %load  %load_ext  %loadpy  %logoff  %logon  %logstart  %logstate  %logstop  %ls  %lsmagic  %macro  %magic  %mamba  %matplotlib  %micromamba  %mkdir  %more  %notebook  %page  %pastebin  %pdb  %pdef  %pdoc  %pfile  %pinfo  %pinfo2  %pip  %popd  %pprint  %precision  %prun  %psearch  %psource  %pushd  %pwd  %pycat  %pylab  %qtconsole  %quickref  %recall  %rehashx  %reload_ext  %ren  %rep  %rerun  %reset  %reset_selective  %rmdir  %run  %save  %sc  %set_env  %store  %sx  %system  %tb  %time  %timeit  %unalias  %unload_ext  %uv  %who  %who_ls  %whos  %xdel  %xmode\n",
       "\n",
       "Available cell magics:\n",
       "%%!  %%HTML  %%SVG  %%bash  %%capture  %%cmd  %%code_wrap  %%debug  %%file  %%html  %%javascript  %%js  %%latex  %%markdown  %%perl  %%prun  %%pypy  %%python  %%python2  %%python3  %%ruby  %%script  %%sh  %%svg  %%sx  %%system  %%time  %%timeit  %%writefile\n",
       "\n",
       "Automagic is ON, % prefix IS NOT needed for line magics."
      ]
     },
     "execution_count": 1,
     "metadata": {},
     "output_type": "execute_result"
    }
   ],
   "source": [
    "# Line Magic: List all available magic commands\n",
    "print(\"\\n--- Line Magic: %lsmagic ---\")\n",
    "%lsmagic"
   ]
  }
 ],
 "metadata": {
  "kernelspec": {
   "display_name": "Demo_venv",
   "language": "python",
   "name": "demo"
  },
  "language_info": {
   "codemirror_mode": {
    "name": "ipython",
    "version": 3
   },
   "file_extension": ".py",
   "mimetype": "text/x-python",
   "name": "python",
   "nbconvert_exporter": "python",
   "pygments_lexer": "ipython3",
   "version": "3.11.3"
  }
 },
 "nbformat": 4,
 "nbformat_minor": 5
}
