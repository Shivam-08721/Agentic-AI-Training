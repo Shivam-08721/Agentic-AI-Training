{
 "cells": [
  {
   "cell_type": "markdown",
   "metadata": {},
   "source": [
    "# Simple Agent Demonstration\n",
    "\n",
    "This notebook demonstrates a simple \"AI Agent\" behavior using basic text parsing instead of actual AI. We'll focus on the SimpleAgent, which can respond to commands like checking weather, telling time, setting reminders, and performing calculations.\n",
    "\n",
    "Our agent uses the National Weather Service API for weather data, which is free and doesn't require registration."
   ]
  },
  {
   "cell_type": "markdown",
   "metadata": {},
   "source": [
    "## 1. Import the Agent Class"
   ]
  },
  {
   "cell_type": "code",
   "execution_count": 21,
   "metadata": {},
   "outputs": [],
   "source": [
    "from simple_agent import SimpleAgent"
   ]
  },
  {
   "cell_type": "markdown",
   "metadata": {},
   "source": [
    "## 2. SimpleAgent Demonstration\n",
    "\n",
    "Let's instantiate our SimpleAgent class and demonstrate its core functionality through a series of commands. This will showcase how pattern matching and basic response generation create an interactive experience."
   ]
  },
  {
   "cell_type": "code",
   "execution_count": 22,
   "metadata": {},
   "outputs": [
    {
     "name": "stdout",
     "output_type": "stream",
     "text": [
      "Created a SimpleAgent instance\n"
     ]
    }
   ],
   "source": [
    "assistant = SimpleAgent()\n",
    "print(f\"Created a {assistant.name} instance\")"
   ]
  },
  {
   "cell_type": "markdown",
   "metadata": {},
   "source": [
    "## 3. Weather Feature\n",
    "\n",
    "Our agent can retrieve real weather data from the National Weather Service API based on city names."
   ]
  },
  {
   "cell_type": "code",
   "execution_count": 26,
   "metadata": {},
   "outputs": [
    {
     "name": "stdout",
     "output_type": "stream",
     "text": [
      "User: What's the weather like today?\n",
      "Agent: Weather for New York, New York: 61°F, Chance Rain Showers. Wind: E at 14 mph.\n",
      "\n",
      "User: What's the weather like in Chicago?\n",
      "Agent: Weather for Chicago, Illinois: 75°F, Mostly Sunny then Scattered Showers And Thunderstorms. Wind: WSW at 10 to 15 mph.\n",
      "\n",
      "User: Weather in San Francisco\n",
      "Agent: Weather for San Francisco, California: 54°F, Slight Chance Drizzle. Wind: W at 14 mph.\n",
      "\n",
      "User: Weather in Springfield\n",
      "Agent: Weather for New York, New York: 61°F, Chance Rain Showers. Wind: E at 14 mph.\n",
      "\n"
     ]
    }
   ],
   "source": [
    "# Test default weather (New York)\n",
    "print(\"User: What's the weather like today?\")\n",
    "print(f'Agent: {assistant.process_input(\"Whats the weather like today?\")}' + '\\n')\n",
    "\n",
    "# Test weather for specific city\n",
    "print(\"User: What's the weather like in Chicago?\")\n",
    "print(f'Agent: {assistant.process_input(\"Whats the weather like in Chicago?\")}' + '\\n')\n",
    "\n",
    "# Test weather for another city\n",
    "print(\"User: Weather in San Francisco\")\n",
    "print(f'Agent: {assistant.process_input(\"Weather in San Francisco\")}' + '\\n')\n",
    "\n",
    "# Test city not in top 100\n",
    "print(\"User: Weather in Springfield\")\n",
    "print(f'Agent: {assistant.process_input(\"Weather in Springfield\")}' + '\\n')"
   ]
  },
  {
   "cell_type": "markdown",
   "metadata": {},
   "source": [
    "### How the Weather Feature Works\n",
    "\n",
    "1. **Pattern Detection**: The agent uses regex to detect weather requests and extract city names\n",
    "   ```python\n",
    "   location_match = re.search(r\"weather (?:in|for|at) (.+)\", user_input)\n",
    "   ```\n",
    "\n",
    "2. **City Lookup**: Looks up city coordinates in the CSV database\n",
    "   ```python\n",
    "   city_data = self.find_city(location)\n",
    "   ```\n",
    "\n",
    "3. **API Call**: Queries the National Weather Service API using coordinates\n",
    "   - First converts lat/lon to a grid point\n",
    "   - Then gets forecast for that grid point\n",
    "\n",
    "4. **Response Formatting**: Extracts relevant data and formats a human-readable response\n",
    "\n",
    "### Weather Feature Limitations\n",
    "\n",
    "- Only works for US cities in the top 100 population list\n",
    "- Limited pattern recognition (needs \"weather in\", \"weather for\", etc.)\n",
    "- Doesn't understand neighborhoods or points of interest\n",
    "- No ability to request specific data like \"will it rain tomorrow?\"\n",
    "- No context retention (can't follow up \"what about in Dallas?\")"
   ]
  },
  {
   "cell_type": "markdown",
   "metadata": {},
   "source": [
    "## 4. Time Feature\n",
    "\n",
    "The agent can tell the current time."
   ]
  },
  {
   "cell_type": "code",
   "execution_count": 27,
   "metadata": {},
   "outputs": [
    {
     "name": "stdout",
     "output_type": "stream",
     "text": [
      "User: What time is it?\n",
      "Agent: The current time is 18:33.\n",
      "\n",
      "User: Tell me the current time.\n",
      "Agent: The current time is 18:33.\n",
      "\n",
      "User: I need to know the time please.\n",
      "Agent: The current time is 18:33.\n",
      "\n",
      "User: What's the current hour?\n",
      "Agent: I'm sorry, I didn't understand that command. Try asking about weather, time, reminders, or calculations.\n",
      "\n"
     ]
    }
   ],
   "source": [
    "# Test direct time query\n",
    "print(\"User: What time is it?\")\n",
    "print(f\"Agent: {assistant.process_input('What time is it?')}\\n\")\n",
    "\n",
    "# Test indirect time query\n",
    "print(\"User: Tell me the current time.\")\n",
    "print(f\"Agent: {assistant.process_input('Tell me the current time.')}\\n\")\n",
    "\n",
    "# Test with additional words\n",
    "print(\"User: I need to know the time please.\")\n",
    "print(f\"Agent: {assistant.process_input('I need to know the time please.')}\\n\")\n",
    "\n",
    "# Test a query that won't work\n",
    "print(\"User: What's the current hour?\")\n",
    "print(f\"Agent: {assistant.process_input('Whats the current hour?')}\\n\")"
   ]
  },
  {
   "cell_type": "markdown",
   "metadata": {},
   "source": [
    "### How the Time Feature Works\n",
    "\n",
    "1. **Simple Keyword Detection**: The agent checks if the word \"time\" appears anywhere in the input\n",
    "   ```python\n",
    "   elif \"time\" in user_input:\n",
    "       return self.get_time()\n",
    "   ```\n",
    "\n",
    "2. **Time Retrieval**: Uses Python's datetime library to get the current system time\n",
    "   ```python\n",
    "   current_time = datetime.datetime.now().strftime(\"%H:%M\")\n",
    "   ```\n",
    "\n",
    "3. **Response Formatting**: Returns a simple string with the current time\n",
    "\n",
    "### Time Feature Limitations\n",
    "\n",
    "- Very basic keyword matching (just checks if \"time\" appears anywhere)\n",
    "- Only returns time in 24-hour format (no AM/PM)\n",
    "- Doesn't include date information\n",
    "- Doesn't understand synonyms (\"hour\", \"clock\", etc.)\n",
    "- Uses system time only (no time zone handling)\n",
    "- Cannot understand queries about specific times (\"What time is the meeting?\")"
   ]
  },
  {
   "cell_type": "markdown",
   "metadata": {},
   "source": [
    "## 5. Reminder Feature\n",
    "\n",
    "The agent can store simple reminders."
   ]
  },
  {
   "cell_type": "code",
   "execution_count": 28,
   "metadata": {},
   "outputs": [
    {
     "name": "stdout",
     "output_type": "stream",
     "text": [
      "User: Remind me to buy groceries\n",
      "Agent: I've set a reminder for you: buy groceries\n",
      "\n",
      "User: Set a reminder to call mom\n",
      "Agent: What would you like me to remind you about?\n",
      "\n",
      "User: Remind me about the dentist appointment\n",
      "Agent: I've set a reminder for you: about the dentist appointment\n",
      "\n",
      "User: I need a reminder\n",
      "Agent: What would you like me to remind you about?\n",
      "\n",
      "Stored reminders:\n",
      "1. buy groceries\n",
      "2. about the dentist appointment\n"
     ]
    }
   ],
   "source": [
    "# Create a fresh agent instance for demonstration\n",
    "reminder_agent = SimpleAgent()\n",
    "\n",
    "# Test direct reminder\n",
    "print(\"User: Remind me to buy groceries\")\n",
    "print(f\"Agent: {reminder_agent.process_input('Remind me to buy groceries')}\\n\")\n",
    "\n",
    "# Test alternative phrasing\n",
    "print(\"User: Set a reminder to call mom\")\n",
    "print(f\"Agent: {reminder_agent.process_input('Set a reminder to call mom')}\\n\")\n",
    "\n",
    "# Test without \"to\"\n",
    "print(\"User: Remind me about the dentist appointment\")\n",
    "print(f\"Agent: {reminder_agent.process_input('Remind me about the dentist appointment')}\\n\")\n",
    "\n",
    "# Test just the keyword without content\n",
    "print(\"User: I need a reminder\")\n",
    "print(f\"Agent: {reminder_agent.process_input('I need a reminder')}\\n\")\n",
    "\n",
    "# Show all stored reminders\n",
    "print(\"Stored reminders:\")\n",
    "for i, reminder in enumerate(reminder_agent.reminders, 1):\n",
    "    print(f\"{i}. {reminder}\")"
   ]
  },
  {
   "cell_type": "markdown",
   "metadata": {},
   "source": [
    "### How the Reminder Feature Works\n",
    "\n",
    "1. **Keyword and Pattern Detection**: Checks for keywords \"reminder\" or \"remind\" and extracts content\n",
    "   ```python\n",
    "   elif \"reminder\" in user_input or \"remind\" in user_input:\n",
    "       match = re.search(r\"remind (?:me )?(?:to )?(.+)\", user_input)\n",
    "   ```\n",
    "\n",
    "2. **Content Extraction**: Uses regex to identify what to remember\n",
    "   - Tries to extract content after \"remind me to\", \"remind to\", or just \"remind\"\n",
    "   - If no content is found, asks the user what to remind them about\n",
    "\n",
    "3. **Storage**: Adds the reminder to a simple array in the agent's memory\n",
    "   ```python\n",
    "   self.reminders.append(reminder_text)\n",
    "   ```\n",
    "\n",
    "### Reminder Feature Limitations\n",
    "\n",
    "- No persistence (reminders are lost when the agent is restarted)\n",
    "- No scheduling (can't set reminders for specific times)\n",
    "- No notification mechanism\n",
    "- Can't modify or delete existing reminders\n",
    "- Can't list all reminders (unless you access the array directly)\n",
    "- Limited natural language understanding (specific phrasing required)\n",
    "- No prioritization or categorization of reminders"
   ]
  },
  {
   "cell_type": "markdown",
   "metadata": {},
   "source": [
    "## 6. Calculation Feature\n",
    "\n",
    "The agent can perform basic mathematical calculations."
   ]
  },
  {
   "cell_type": "code",
   "execution_count": 29,
   "metadata": {},
   "outputs": [
    {
     "name": "stdout",
     "output_type": "stream",
     "text": [
      "User: Calculate 5 + 3\n",
      "Agent: The result of 5+3 is 8.\n",
      "\n",
      "User: What is 7 * 6?\n",
      "Agent: The result of 7*6 is 42.\n",
      "\n",
      "User: 100 / 4\n",
      "Agent: The result of 100/4 is 25.0.\n",
      "\n",
      "User: Calculate 25   -  10\n",
      "Agent: The result of 25-10 is 15.\n",
      "\n",
      "User: Calculate 10 / 0\n",
      "Agent: Sorry, I couldn't calculate that. Error: division by zero\n",
      "\n",
      "User: Calculate the square root of 16\n",
      "Agent: I couldn't find a valid math expression. Try something like 'calculate 5 + 3'.\n",
      "\n"
     ]
    }
   ],
   "source": [
    "# Test basic addition\n",
    "print(\"User: Calculate 5 + 3\")\n",
    "print(f\"Agent: {assistant.process_input('Calculate 5 + 3')}\\n\")\n",
    "\n",
    "# Test multiplication\n",
    "print(\"User: What is 7 * 6?\")\n",
    "print(f\"Agent: {assistant.process_input('What is 7 * 6?')}\\n\")\n",
    "\n",
    "# Test division\n",
    "print(\"User: 100 / 4\")\n",
    "print(f\"Agent: {assistant.process_input('100 / 4')}\\n\")\n",
    "\n",
    "# Test with spaces\n",
    "print(\"User: Calculate 25   -  10\")\n",
    "print(f\"Agent: {assistant.process_input('Calculate 25   -  10')}\\n\")\n",
    "\n",
    "# Test division by zero (error case)\n",
    "print(\"User: Calculate 10 / 0\")\n",
    "print(f\"Agent: {assistant.process_input('Calculate 10 / 0')}\\n\")\n",
    "\n",
    "# Test invalid expression\n",
    "print(\"User: Calculate the square root of 16\")\n",
    "print(f\"Agent: {assistant.process_input('Calculate the square root of 16')}\\n\")"
   ]
  },
  {
   "cell_type": "markdown",
   "metadata": {},
   "source": [
    "### How the Calculation Feature Works\n",
    "\n",
    "1. **Pattern Detection**: Checks for keyword \"calculate\" or common math operators\n",
    "   ```python\n",
    "   elif \"calculate\" in user_input or any(op in user_input for op in ['+', '-', '*', '/']):\n",
    "   ```\n",
    "\n",
    "2. **Expression Extraction**: Uses regex to find a numeric expression\n",
    "   ```python\n",
    "   math_expr = re.search(r'(\\d+\\s*[\\+\\-\\*/]\\s*\\d+)', expression)\n",
    "   ```\n",
    "\n",
    "3. **Evaluation**: Uses Python's `eval()` function to calculate the result\n",
    "   ```python\n",
    "   result = eval(expr)\n",
    "   ```\n",
    "\n",
    "4. **Error Handling**: Catches and reports any exceptions during evaluation\n",
    "\n",
    "### Calculation Feature Limitations\n",
    "\n",
    "- Only supports basic operations (+, -, *, /)\n",
    "- Only handles single operations (no complex expressions like \"5 + 3 * 2\")\n",
    "- No support for functions (sqrt, sin, cos, etc.)\n",
    "- Limited natural language understanding (can't parse \"square root of 16\")\n",
    "- Only works with integers and floating-point numbers (no fractions)\n",
    "- Uses `eval()` which can be unsafe in production environments\n",
    "- No memory of previous calculations\n",
    "- No support for unit conversions or currency calculations"
   ]
  },
  {
   "cell_type": "markdown",
   "metadata": {},
   "source": [
    "## 7. City Database\n",
    "\n",
    "Let's examine the city database our agent uses for weather lookups."
   ]
  },
  {
   "cell_type": "code",
   "execution_count": 30,
   "metadata": {},
   "outputs": [
    {
     "name": "stdout",
     "output_type": "stream",
     "text": [
      "Database contains 98 cities\n"
     ]
    },
    {
     "data": {
      "text/html": [
       "<div>\n",
       "<style scoped>\n",
       "    .dataframe tbody tr th:only-of-type {\n",
       "        vertical-align: middle;\n",
       "    }\n",
       "\n",
       "    .dataframe tbody tr th {\n",
       "        vertical-align: top;\n",
       "    }\n",
       "\n",
       "    .dataframe thead th {\n",
       "        text-align: right;\n",
       "    }\n",
       "</style>\n",
       "<table border=\"1\" class=\"dataframe\">\n",
       "  <thead>\n",
       "    <tr style=\"text-align: right;\">\n",
       "      <th></th>\n",
       "      <th>city</th>\n",
       "      <th>state</th>\n",
       "      <th>latitude</th>\n",
       "      <th>longitude</th>\n",
       "    </tr>\n",
       "  </thead>\n",
       "  <tbody>\n",
       "    <tr>\n",
       "      <th>0</th>\n",
       "      <td>New York</td>\n",
       "      <td>New York</td>\n",
       "      <td>40.7128</td>\n",
       "      <td>-74.0060</td>\n",
       "    </tr>\n",
       "    <tr>\n",
       "      <th>1</th>\n",
       "      <td>Los Angeles</td>\n",
       "      <td>California</td>\n",
       "      <td>34.0522</td>\n",
       "      <td>-118.2437</td>\n",
       "    </tr>\n",
       "    <tr>\n",
       "      <th>2</th>\n",
       "      <td>Chicago</td>\n",
       "      <td>Illinois</td>\n",
       "      <td>41.8781</td>\n",
       "      <td>-87.6298</td>\n",
       "    </tr>\n",
       "    <tr>\n",
       "      <th>3</th>\n",
       "      <td>Houston</td>\n",
       "      <td>Texas</td>\n",
       "      <td>29.7604</td>\n",
       "      <td>-95.3698</td>\n",
       "    </tr>\n",
       "    <tr>\n",
       "      <th>4</th>\n",
       "      <td>Phoenix</td>\n",
       "      <td>Arizona</td>\n",
       "      <td>33.4484</td>\n",
       "      <td>-112.0740</td>\n",
       "    </tr>\n",
       "    <tr>\n",
       "      <th>5</th>\n",
       "      <td>Philadelphia</td>\n",
       "      <td>Pennsylvania</td>\n",
       "      <td>39.9526</td>\n",
       "      <td>-75.1652</td>\n",
       "    </tr>\n",
       "    <tr>\n",
       "      <th>6</th>\n",
       "      <td>San Antonio</td>\n",
       "      <td>Texas</td>\n",
       "      <td>29.4241</td>\n",
       "      <td>-98.4936</td>\n",
       "    </tr>\n",
       "    <tr>\n",
       "      <th>7</th>\n",
       "      <td>San Diego</td>\n",
       "      <td>California</td>\n",
       "      <td>32.7157</td>\n",
       "      <td>-117.1611</td>\n",
       "    </tr>\n",
       "    <tr>\n",
       "      <th>8</th>\n",
       "      <td>Dallas</td>\n",
       "      <td>Texas</td>\n",
       "      <td>32.7767</td>\n",
       "      <td>-96.7970</td>\n",
       "    </tr>\n",
       "    <tr>\n",
       "      <th>9</th>\n",
       "      <td>San Jose</td>\n",
       "      <td>California</td>\n",
       "      <td>37.3382</td>\n",
       "      <td>-121.8863</td>\n",
       "    </tr>\n",
       "  </tbody>\n",
       "</table>\n",
       "</div>"
      ],
      "text/plain": [
       "           city         state  latitude  longitude\n",
       "0      New York      New York   40.7128   -74.0060\n",
       "1   Los Angeles    California   34.0522  -118.2437\n",
       "2       Chicago      Illinois   41.8781   -87.6298\n",
       "3       Houston         Texas   29.7604   -95.3698\n",
       "4       Phoenix       Arizona   33.4484  -112.0740\n",
       "5  Philadelphia  Pennsylvania   39.9526   -75.1652\n",
       "6   San Antonio         Texas   29.4241   -98.4936\n",
       "7     San Diego    California   32.7157  -117.1611\n",
       "8        Dallas         Texas   32.7767   -96.7970\n",
       "9      San Jose    California   37.3382  -121.8863"
      ]
     },
     "execution_count": 30,
     "metadata": {},
     "output_type": "execute_result"
    }
   ],
   "source": [
    "import pandas as pd\n",
    "\n",
    "# Load and display the city database\n",
    "cities_df = pd.read_csv('top_100_us_cities.csv')\n",
    "print(f\"Database contains {len(cities_df)} cities\")\n",
    "cities_df.head(10)"
   ]
  },
  {
   "cell_type": "markdown",
   "metadata": {},
   "source": [
    "## 8. Overall Agent Architecture\n",
    "\n",
    "### Pattern Matching Flow\n",
    "\n",
    "The SimpleAgent follows this high-level flow:\n",
    "\n",
    "1. **Preprocessing**: Convert user input to lowercase and strip whitespace\n",
    "2. **Intent Detection**: Use simple keyword matching to determine the user's intent\n",
    "3. **Pattern Extraction**: Use regular expressions to extract relevant details\n",
    "4. **Action Execution**: Call the appropriate function based on the detected intent\n",
    "5. **Response Formatting**: Format the result into a human-readable response\n",
    "\n",
    "### Agent State\n",
    "\n",
    "The agent maintains minimal state:\n",
    "- A list of reminders\n",
    "- A database of cities and coordinates\n",
    "- Default city and state\n",
    "\n",
    "### Key Limitations of Rule-Based Agents\n",
    "\n",
    "1. **Rigid Pattern Matching**: Only understands specific phrasings\n",
    "2. **No Context Memory**: Can't remember previous interactions\n",
    "3. **Limited Language Understanding**: No concept of synonyms, implications, or variations\n",
    "4. **No Learning**: Doesn't improve from interactions\n",
    "5. **Feature Isolation**: Each feature works in isolation without integration\n",
    "6. **Brittle Error Handling**: Unexpected inputs often result in unhelpful responses"
   ]
  },
  {
   "cell_type": "markdown",
   "metadata": {},
   "source": [
    "## 9. Try It Yourself\n",
    "\n",
    "You can use the following cells to experiment with the agent directly:"
   ]
  },
  {
   "cell_type": "code",
   "execution_count": 31,
   "metadata": {},
   "outputs": [],
   "source": [
    "# Create a fresh instance of the agent\n",
    "interactive_agent = SimpleAgent()\n",
    "# Give it a custom name\n",
    "interactive_agent.name = \"PythonAssistant\""
   ]
  },
  {
   "cell_type": "code",
   "execution_count": 32,
   "metadata": {},
   "outputs": [
    {
     "name": "stdout",
     "output_type": "stream",
     "text": [
      "User: Time\n",
      "Agent: The current time is 18:34.\n"
     ]
    }
   ],
   "source": [
    "# Test the agent with your own input\n",
    "user_input = \"Time\"  # Change this to test different commands\n",
    "print(f\"User: {user_input}\")\n",
    "print(f\"Agent: {interactive_agent.process_input(user_input)}\")"
   ]
  },
  {
   "cell_type": "markdown",
   "metadata": {},
   "source": [
    "## 10. Ideas for Extension\n",
    "\n",
    "This simple agent could be extended in many ways:\n",
    "\n",
    "1. **Better Weather Feature**:\n",
    "   - Add support for future forecasts (\"weather tomorrow\")\n",
    "   - Add geocoding for more locations\n",
    "   - Include more weather details (humidity, pressure, etc.)\n",
    "\n",
    "2. **Enhanced Time Feature**:\n",
    "   - Add support for time zones\n",
    "   - Include date information\n",
    "   - Support different time formats (12h/24h)\n",
    "\n",
    "3. **Improved Reminder System**:\n",
    "   - Add time-based reminders\n",
    "   - Implement persistence (save to file)\n",
    "   - Add commands to list, modify, and delete reminders\n",
    "\n",
    "4. **Advanced Calculator**:\n",
    "   - Support complex expressions and parentheses\n",
    "   - Add mathematical functions\n",
    "   - Implement unit conversions\n",
    "\n",
    "5. **General Improvements**:\n",
    "   - Add more robust natural language understanding\n",
    "   - Implement context tracking\n",
    "   - Add a simple machine learning component for pattern recognition\n",
    "   \n",
    "6. **Voice Integration**:\n",
    "   - Add speech recognition for voice input\n",
    "   - Implement text-to-speech for spoken responses\n",
    "   - Support wake words for hands-free activation"
   ]
  },
  {
   "cell_type": "markdown",
   "metadata": {},
   "source": [
    "## Conclusion\n",
    "\n",
    "This simple demonstration shows how basic pattern matching and API integration can create the illusion of intelligence. While real AI systems use much more sophisticated techniques like machine learning, these rule-based approaches can still be effective for narrow, well-defined tasks.\n",
    "\n",
    "The code in this notebook provides a foundation that you can build upon to create more sophisticated rule-based agents."
   ]
  }
 ],
 "metadata": {
  "kernelspec": {
   "display_name": "Python 3 (ipykernel)",
   "language": "python",
   "name": "python3"
  },
  "language_info": {
   "codemirror_mode": {
    "name": "ipython",
    "version": 3
   },
   "file_extension": ".py",
   "mimetype": "text/x-python",
   "name": "python",
   "nbconvert_exporter": "python",
   "pygments_lexer": "ipython3",
   "version": "3.11.13"
  }
 },
 "nbformat": 4,
 "nbformat_minor": 4
}
