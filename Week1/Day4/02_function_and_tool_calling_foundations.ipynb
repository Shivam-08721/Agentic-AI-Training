{
 "cells": [
  {
   "cell_type": "markdown",
   "metadata": {},
   "source": [
    "# Function and Tool Calling Foundations\n",
    "\n",
    "This notebook introduces the fundamentals of function/tool calling with Large Language Models. We'll explore:\n",
    "\n",
    "- Understanding tools in the LLM context\n",
    "- Defining and using simple tools\n",
    "- Function calling integration with APIs\n",
    "- Building a complete tool-using agent\n",
    "\n",
    "By the end of this notebook, you'll understand how to extend LLM capabilities with external tools and functions.\n",
    "\n",
    "**Time allocation: ~35 minutes**"
   ]
  },
  {
   "cell_type": "markdown",
   "metadata": {},
   "source": [
    "## 1. Setup and Configuration\n",
    "\n",
    "First, let's set up our environment and import the necessary libraries from our previous work."
   ]
  },
  {
   "cell_type": "code",
   "execution_count": 9,
   "metadata": {},
   "outputs": [
    {
     "name": "stdout",
     "output_type": "stream",
     "text": [
      "✅ Display utilities loaded successfully!\n",
      "✅ API key loaded successfully!\n",
      "API key: sk-...843\n"
     ]
    }
   ],
   "source": [
    "import os\n",
    "import sys\n",
    "import json\n",
    "import time\n",
    "from typing import Dict, List, Any, Optional, Union\n",
    "from dotenv import load_dotenv\n",
    "\n",
    "# Add parent directory to path to import utility functions\n",
    "sys.path.append('../Day2')\n",
    "\n",
    "# Import our API utilities from Day 2\n",
    "from api_utils import (\n",
    "    call_openrouter,\n",
    "    extract_text_response,\n",
    "    setup_api_key\n",
    ")\n",
    "\n",
    "# Import display utilities for markdown rendering\n",
    "from IPython.display import Markdown, display\n",
    "try:\n",
    "    from display_utils import display_llm_response, display_markdown, display_error\n",
    "    print(\"✅ Display utilities loaded successfully!\")\n",
    "except ImportError:\n",
    "    print(\"⚠️ Display utilities not found, using basic markdown rendering\")\n",
    "    def display_llm_response(response, model=\"\", title=\"AI Response\"):\n",
    "        display(Markdown(response))\n",
    "    def display_markdown(text, title=None):\n",
    "        if title:\n",
    "            display(Markdown(f\"### {title}\\n\\n{text}\"))\n",
    "        else:\n",
    "            display(Markdown(text))\n",
    "    def display_error(message, error_type=\"Error\"):\n",
    "        display(Markdown(f\"**{error_type}:** {message}\"))\n",
    "\n",
    "# Load environment variables\n",
    "load_dotenv()\n",
    "\n",
    "# Verify API key is loaded\n",
    "api_key = setup_api_key()\n",
    "if api_key:\n",
    "    print(\"✅ API key loaded successfully!\")\n",
    "    # Show first and last three characters for verification\n",
    "    masked_key = f\"{api_key[:3]}...{api_key[-3:]}\" if len(api_key) > 6 else \"[key too short]\"\n",
    "    print(f\"API key: {masked_key}\")\n",
    "else:\n",
    "    print(\"❌ API key not found! Make sure you've created a .env file with your OPENROUTER_API_KEY.\")"
   ]
  },
  {
   "cell_type": "markdown",
   "metadata": {},
   "source": [
    "## 2. Understanding Tools in LLM Context\n",
    "\n",
    "### 2.1 The Difference Between Regular Responses and Tool-Enhanced Responses\n",
    "\n",
    "Let's start by understanding why we need tools. LLMs are powerful but have limitations:\n",
    "\n",
    "- **Knowledge cutoff**: They don't know about events after training\n",
    "- **No real-time data**: Can't access current weather, stock prices, etc.\n",
    "- **No external actions**: Can't send emails, make API calls, or interact with systems\n",
    "- **Limited computation**: Can't perform complex calculations reliably\n",
    "\n",
    "Tools extend LLM capabilities by allowing them to:\n",
    "- Access real-time information\n",
    "- Perform precise calculations\n",
    "- Interact with external systems\n",
    "- Retrieve specific data from databases or APIs"
   ]
  },
  {
   "cell_type": "code",
   "execution_count": 10,
   "metadata": {},
   "outputs": [
    {
     "name": "stdout",
     "output_type": "stream",
     "text": [
      "🤖 LLM Response WITHOUT tools:\n"
     ]
    },
    {
     "data": {
      "text/html": [
       "\n",
       "    <div style=\"\n",
       "        border: 2px solid #e1e5e9; \n",
       "        border-radius: 8px; \n",
       "        padding: 15px; \n",
       "        margin: 10px 0; \n",
       "        background-color: #f8f9fa;\n",
       "        box-shadow: 0 2px 4px rgba(0,0,0,0.1);\n",
       "    \">\n",
       "        <h4 style=\"\n",
       "            color: #2c3e50; \n",
       "            margin: 0 0 10px 0; \n",
       "            font-family: 'Segoe UI', Tahoma, Geneva, Verdana, sans-serif;\n",
       "        \">\n",
       "            🤖 Response without Real-time Data (GPT-4o-mini)\n",
       "        </h4>\n",
       "        <div style=\"\n",
       "            background: white; \n",
       "            padding: 15px; \n",
       "            border-radius: 5px;\n",
       "            line-height: 1.6;\n",
       "            font-family: -apple-system, BlinkMacSystemFont, 'Segoe UI', sans-serif;\n",
       "        \">\n",
       "    "
      ],
      "text/plain": [
       "<IPython.core.display.HTML object>"
      ]
     },
     "metadata": {},
     "output_type": "display_data"
    },
    {
     "data": {
      "text/markdown": [
       "The weather in London, United Kingdom is currently **11°C** and **partly cloudy**. The wind is blowing from the **West** at **11 km/h**."
      ],
      "text/plain": [
       "<IPython.core.display.Markdown object>"
      ]
     },
     "metadata": {},
     "output_type": "display_data"
    },
    {
     "data": {
      "text/html": [
       "</div></div>"
      ],
      "text/plain": [
       "<IPython.core.display.HTML object>"
      ]
     },
     "metadata": {},
     "output_type": "display_data"
    },
    {
     "data": {
      "text/markdown": [
       "### Key Limitation\n",
       "\n",
       "**📝 Notice:** The LLM can't provide current, real-time weather data! It can only work with information from its training data."
      ],
      "text/plain": [
       "<IPython.core.display.Markdown object>"
      ]
     },
     "metadata": {},
     "output_type": "display_data"
    }
   ],
   "source": [
    "# Let's see the difference with a simple example\n",
    "def demonstrate_limitation():\n",
    "    \"\"\"Show the limitation of LLMs without tools.\"\"\"\n",
    "    \n",
    "    # Ask for current weather without tools\n",
    "    response = call_openrouter(\n",
    "        prompt=\"What's the current weather in London?\",\n",
    "        model=\"google/gemini-2.5-flash-preview-05-20\",\n",
    "        temperature=0.7,\n",
    "        max_tokens=150\n",
    "    )\n",
    "    \n",
    "    if response.get(\"success\", False):\n",
    "        print(\"🤖 LLM Response WITHOUT tools:\")\n",
    "        display_llm_response(\n",
    "            extract_text_response(response),\n",
    "            model=\"Gemini-Flash\",\n",
    "            title=\"Response without Real-time Data\"\n",
    "        )\n",
    "        display_markdown(\n",
    "            \"**📝 Notice:** The LLM can't provide current, real-time weather data! \"\n",
    "            \"It can only work with information from its training data.\",\n",
    "            \"Key Limitation\"\n",
    "        )\n",
    "    else:\n",
    "        display_error(f\"{response.get('error', 'Unknown error')}\", \"API Error\")\n",
    "\n",
    "demonstrate_limitation()"
   ]
  },
  {
   "cell_type": "markdown",
   "metadata": {},
   "source": [
    "### 2.2 Tool Definition Formats\n",
    "\n",
    "OpenRouter supports function calling using the **tools** parameter format (which is the current standard). Let's understand the structure:"
   ]
  },
  {
   "cell_type": "code",
   "execution_count": 11,
   "metadata": {},
   "outputs": [
    {
     "data": {
      "text/markdown": [
       "### 🔧 Tool Definition Structure\n",
       "\n",
       "```json\n",
       "{\n",
       "  \"type\": \"function\",\n",
       "  \"function\": {\n",
       "    \"name\": \"get_weather\",\n",
       "    \"description\": \"Get current weather information for any city\",\n",
       "    \"parameters\": {\n",
       "      \"type\": \"object\",\n",
       "      \"properties\": {\n",
       "        \"location\": {\n",
       "          \"type\": \"string\",\n",
       "          \"description\": \"The city name (e.g., 'London', 'Tokyo')\"\n",
       "        }\n",
       "      },\n",
       "      \"required\": [\n",
       "        \"location\"\n",
       "      ]\n",
       "    }\n",
       "  }\n",
       "}\n",
       "```"
      ],
      "text/plain": [
       "<IPython.core.display.Markdown object>"
      ]
     },
     "metadata": {},
     "output_type": "display_data"
    },
    {
     "data": {
      "text/markdown": [
       "### 📚 Key Components\n",
       "\n",
       "\n",
       "- **`type`**: Always 'function' for function tools\n",
       "- **`name`**: Unique identifier for the function  \n",
       "- **`description`**: Clear explanation of what the function does\n",
       "- **`parameters`**: JSON Schema defining the function's inputs\n",
       "- **`required`**: List of required parameter names\n",
       "\n",
       "This structure follows the OpenAI function calling specification that most LLM providers support.\n"
      ],
      "text/plain": [
       "<IPython.core.display.Markdown object>"
      ]
     },
     "metadata": {},
     "output_type": "display_data"
    }
   ],
   "source": [
    "# Example tool definition - this is the format we'll use throughout\n",
    "example_tool = {\n",
    "    \"type\": \"function\",\n",
    "    \"function\": {\n",
    "        \"name\": \"get_weather\",\n",
    "        \"description\": \"Get current weather information for any city\",\n",
    "        \"parameters\": {\n",
    "            \"type\": \"object\",\n",
    "            \"properties\": {\n",
    "                \"location\": {\n",
    "                    \"type\": \"string\",\n",
    "                    \"description\": \"The city name (e.g., 'London', 'Tokyo')\"\n",
    "                }\n",
    "            },\n",
    "            \"required\": [\"location\"]\n",
    "        }\n",
    "    }\n",
    "}\n",
    "\n",
    "# Display the tool structure with proper formatting\n",
    "display_markdown(\"```json\\n\" + json.dumps(example_tool, indent=2) + \"\\n```\", \"🔧 Tool Definition Structure\")\n",
    "\n",
    "key_components = \"\"\"\n",
    "- **`type`**: Always 'function' for function tools\n",
    "- **`name`**: Unique identifier for the function  \n",
    "- **`description`**: Clear explanation of what the function does\n",
    "- **`parameters`**: JSON Schema defining the function's inputs\n",
    "- **`required`**: List of required parameter names\n",
    "\n",
    "This structure follows the OpenAI function calling specification that most LLM providers support.\n",
    "\"\"\"\n",
    "\n",
    "display_markdown(key_components, \"📚 Key Components\")"
   ]
  },
  {
   "cell_type": "markdown",
   "metadata": {},
   "source": [
    "### 2.3 When to Use Tools\n",
    "\n",
    "Tools are most valuable when you need:\n",
    "\n",
    "1. **Real-time data**: Weather, stock prices, news, current events\n",
    "2. **Precise computations**: Mathematical calculations, data analysis\n",
    "3. **External actions**: Sending emails, making purchases, booking appointments\n",
    "4. **Specialized knowledge**: Database queries, API calls, file operations\n",
    "5. **Verification**: Fact-checking, data validation"
   ]
  },
  {
   "cell_type": "markdown",
   "metadata": {},
   "source": [
    "## 3. Defining and Using Simple Tools\n",
    "\n",
    "Now let's create and use some practical tools. We'll start with three common examples:\n",
    "\n",
    "1. **Weather Tool** - For real-time data retrieval\n",
    "2. **Calculator Tool** - For precise computations\n",
    "3. **Knowledge Search Tool** - For information lookup\n",
    "\n",
    "### 3.1 Weather Tool Example"
   ]
  },
  {
   "cell_type": "code",
   "execution_count": 12,
   "metadata": {},
   "outputs": [
    {
     "name": "stdout",
     "output_type": "stream",
     "text": [
      "🧪 Testing weather function directly:\n",
      "Current weather in Tokyo: 22°C, Partly cloudy, 60% humidity, Wind: 8 km/h E\n",
      "Weather data not available for 'Mars'. Available cities: London, Tokyo, New York, Sydney, Paris, Mumbai, San Francisco\n"
     ]
    }
   ],
   "source": [
    "def get_weather(location: str) -> str:\n",
    "    \"\"\"Get current weather for a location (simulated with realistic data).\n",
    "    \n",
    "    In a real application, this would call a weather API like OpenWeatherMap.\n",
    "    \n",
    "    Args:\n",
    "        location: City name\n",
    "        \n",
    "    Returns:\n",
    "        Weather information string\n",
    "    \"\"\"\n",
    "    # Simulated weather data - in practice, this would be real API calls\n",
    "    weather_data = {\n",
    "        \"london\": \"15°C, Light rain, 80% humidity, Wind: 12 km/h SW\",\n",
    "        \"tokyo\": \"22°C, Partly cloudy, 60% humidity, Wind: 8 km/h E\",\n",
    "        \"new york\": \"18°C, Overcast, 65% humidity, Wind: 15 km/h NW\",\n",
    "        \"sydney\": \"25°C, Clear sky, 55% humidity, Wind: 10 km/h SE\",\n",
    "        \"paris\": \"16°C, Cloudy, 70% humidity, Wind: 5 km/h N\",\n",
    "        \"mumbai\": \"28°C, Humid, 85% humidity, Wind: 7 km/h SW\",\n",
    "        \"san francisco\": \"19°C, Foggy, 75% humidity, Wind: 20 km/h W\"\n",
    "    }\n",
    "    \n",
    "    location_key = location.lower().strip()\n",
    "    \n",
    "    if location_key in weather_data:\n",
    "        return f\"Current weather in {location.title()}: {weather_data[location_key]}\"\n",
    "    else:\n",
    "        available_cities = \", \".join([city.title() for city in weather_data.keys()])\n",
    "        return f\"Weather data not available for '{location}'. Available cities: {available_cities}\"\n",
    "\n",
    "# Define the tool specification\n",
    "weather_tool = {\n",
    "    \"type\": \"function\",\n",
    "    \"function\": {\n",
    "        \"name\": \"get_weather\",\n",
    "        \"description\": \"Get current weather information for any city worldwide\",\n",
    "        \"parameters\": {\n",
    "            \"type\": \"object\",\n",
    "            \"properties\": {\n",
    "                \"location\": {\n",
    "                    \"type\": \"string\",\n",
    "                    \"description\": \"The city name (e.g., 'London', 'Tokyo', 'New York')\"\n",
    "                }\n",
    "            },\n",
    "            \"required\": [\"location\"]\n",
    "        }\n",
    "    }\n",
    "}\n",
    "\n",
    "# Test the function directly\n",
    "print(\"🧪 Testing weather function directly:\")\n",
    "print(get_weather(\"Tokyo\"))\n",
    "print(get_weather(\"Mars\"))  # Test error handling"
   ]
  },
  {
   "cell_type": "markdown",
   "metadata": {},
   "source": [
    "### 3.2 Calculator Tool Example"
   ]
  },
  {
   "cell_type": "code",
   "execution_count": 13,
   "metadata": {},
   "outputs": [
    {
     "name": "stdout",
     "output_type": "stream",
     "text": [
      "🧪 Testing calculator function directly:\n",
      "Result: 4\n",
      "Result: 3\n",
      "Result: 25\n",
      "Error: Division by zero\n",
      "Error: Only basic math operations are allowed (+, -, *, /, parentheses, and numbers)\n"
     ]
    }
   ],
   "source": [
    "def calculate(expression: str) -> str:\n",
    "    \"\"\"Safely evaluate mathematical expressions.\n",
    "    \n",
    "    Args:\n",
    "        expression: Mathematical expression to evaluate\n",
    "        \n",
    "    Returns:\n",
    "        Calculation result or error message\n",
    "    \"\"\"\n",
    "    try:\n",
    "        # Whitelist allowed characters for safety\n",
    "        allowed_chars = set('0123456789+-*/()., ')\n",
    "        \n",
    "        # Check for potentially dangerous operations\n",
    "        if not all(c in allowed_chars for c in expression):\n",
    "            return \"Error: Only basic math operations are allowed (+, -, *, /, parentheses, and numbers)\"\n",
    "        \n",
    "        # Additional safety checks\n",
    "        dangerous_terms = ['import', 'exec', 'eval', '__', 'open', 'file']\n",
    "        if any(term in expression.lower() for term in dangerous_terms):\n",
    "            return \"Error: Potentially dangerous operation detected\"\n",
    "        \n",
    "        # Evaluate the expression\n",
    "        result = eval(expression)\n",
    "        \n",
    "        # Format the result nicely\n",
    "        if isinstance(result, float):\n",
    "            # Round to reasonable precision\n",
    "            if result.is_integer():\n",
    "                result = int(result)\n",
    "            else:\n",
    "                result = round(result, 6)\n",
    "        \n",
    "        return f\"Result: {result}\"\n",
    "        \n",
    "    except ZeroDivisionError:\n",
    "        return \"Error: Division by zero\"\n",
    "    except SyntaxError:\n",
    "        return \"Error: Invalid mathematical expression syntax\"\n",
    "    except Exception as e:\n",
    "        return f\"Error: {str(e)}\"\n",
    "\n",
    "# Define the tool specification\n",
    "calculator_tool = {\n",
    "    \"type\": \"function\", \n",
    "    \"function\": {\n",
    "        \"name\": \"calculate\",\n",
    "        \"description\": \"Perform mathematical calculations with basic arithmetic operations\",\n",
    "        \"parameters\": {\n",
    "            \"type\": \"object\",\n",
    "            \"properties\": {\n",
    "                \"expression\": {\n",
    "                    \"type\": \"string\",\n",
    "                    \"description\": \"Mathematical expression to evaluate (e.g., '2+2', '15*0.20', '(100-25)/3')\"\n",
    "                }\n",
    "            },\n",
    "            \"required\": [\"expression\"]\n",
    "        }\n",
    "    }\n",
    "}\n",
    "\n",
    "# Test the function directly\n",
    "print(\"🧪 Testing calculator function directly:\")\n",
    "print(calculate(\"2 + 2\"))\n",
    "print(calculate(\"15 * 0.20\"))\n",
    "print(calculate(\"(100 - 25) / 3\"))\n",
    "print(calculate(\"10 / 0\"))  # Test error handling\n",
    "print(calculate(\"import os\"))  # Test security"
   ]
  },
  {
   "cell_type": "markdown",
   "metadata": {},
   "source": [
    "### 3.3 Knowledge Search Tool Example"
   ]
  },
  {
   "cell_type": "code",
   "execution_count": 14,
   "metadata": {},
   "outputs": [
    {
     "name": "stdout",
     "output_type": "stream",
     "text": [
      "🧪 Testing knowledge search function directly:\n",
      "📚 Information about Python: Python is a high-level programming language known for its simplicity and readability. Created by Guido van Rossum in 1991, it's widely used for web development, data science, AI, and automation.\n",
      "\n",
      "📚 Information about Machine Learning: Machine learning is a subset of artificial intelligence that enables computers to learn and improve from experience without being explicitly programmed. It uses algorithms to analyze data, identify patterns, and make predictions.\n",
      "\n",
      "❌ No information found for 'blockchain'. Available topics: Python, Machine Learning, Neural Networks, Api, Docker, Kubernetes, Git, Javascript\n"
     ]
    }
   ],
   "source": [
    "def search_knowledge(query: str) -> str:\n",
    "    \"\"\"Search a simulated knowledge base for information.\n",
    "    \n",
    "    In a real application, this could search a vector database,\n",
    "    call a search API, or query a documentation system.\n",
    "    \n",
    "    Args:\n",
    "        query: Search query or topic to look up\n",
    "        \n",
    "    Returns:\n",
    "        Information about the topic or a \"not found\" message\n",
    "    \"\"\"\n",
    "    # Simulated knowledge base\n",
    "    knowledge_base = {\n",
    "        \"python\": \"Python is a high-level programming language known for its simplicity and readability. Created by Guido van Rossum in 1991, it's widely used for web development, data science, AI, and automation.\",\n",
    "        \n",
    "        \"machine learning\": \"Machine learning is a subset of artificial intelligence that enables computers to learn and improve from experience without being explicitly programmed. It uses algorithms to analyze data, identify patterns, and make predictions.\",\n",
    "        \n",
    "        \"neural networks\": \"Neural networks are computing systems inspired by biological neural networks. They consist of interconnected nodes (neurons) that process information and can learn complex patterns through training on data.\",\n",
    "        \n",
    "        \"api\": \"API stands for Application Programming Interface. It's a set of protocols, routines, and tools that allow different software applications to communicate with each other.\",\n",
    "        \n",
    "        \"docker\": \"Docker is a containerization platform that allows developers to package applications and their dependencies into lightweight, portable containers that can run consistently across different environments.\",\n",
    "        \n",
    "        \"kubernetes\": \"Kubernetes is an open-source container orchestration platform that automates the deployment, scaling, and management of containerized applications across clusters of hosts.\",\n",
    "        \n",
    "        \"git\": \"Git is a distributed version control system used to track changes in source code during software development. It allows multiple developers to collaborate on projects efficiently.\",\n",
    "        \n",
    "        \"javascript\": \"JavaScript is a versatile programming language primarily used for web development. It runs in browsers and enables interactive web pages, but is also used for server-side development with Node.js.\"\n",
    "    }\n",
    "    \n",
    "    # Normalize query for searching\n",
    "    query_lower = query.lower().strip()\n",
    "    \n",
    "    # Try exact match first\n",
    "    if query_lower in knowledge_base:\n",
    "        return f\"📚 Information about {query_lower.title()}: {knowledge_base[query_lower]}\"\n",
    "    \n",
    "    # Try partial matches\n",
    "    matches = []\n",
    "    for key, value in knowledge_base.items():\n",
    "        if query_lower in key or key in query_lower:\n",
    "            matches.append((key, value))\n",
    "    \n",
    "    if matches:\n",
    "        if len(matches) == 1:\n",
    "            key, value = matches[0]\n",
    "            return f\"📚 Information about {key.title()}: {value}\"\n",
    "        else:\n",
    "            result = f\"📚 Found {len(matches)} topics related to '{query}': \"\n",
    "            for key, value in matches:\n",
    "                result += f\"\\n\\n{key.title()}: {value}\"\n",
    "            return result\n",
    "    \n",
    "    # No matches found\n",
    "    available_topics = \", \".join([topic.title() for topic in knowledge_base.keys()])\n",
    "    return f\"❌ No information found for '{query}'. Available topics: {available_topics}\"\n",
    "\n",
    "# Define the tool specification  \n",
    "search_tool = {\n",
    "    \"type\": \"function\",\n",
    "    \"function\": {\n",
    "        \"name\": \"search_knowledge\",\n",
    "        \"description\": \"Search for information in the knowledge base about programming, technology, and software development topics\",\n",
    "        \"parameters\": {\n",
    "            \"type\": \"object\",\n",
    "            \"properties\": {\n",
    "                \"query\": {\n",
    "                    \"type\": \"string\", \n",
    "                    \"description\": \"Search query or topic to look up (e.g., 'python', 'machine learning', 'api')\"\n",
    "                }\n",
    "            },\n",
    "            \"required\": [\"query\"]\n",
    "        }\n",
    "    }\n",
    "}\n",
    "\n",
    "# Test the function directly\n",
    "print(\"🧪 Testing knowledge search function directly:\")\n",
    "print(search_knowledge(\"python\"))\n",
    "print(\"\\n\" + search_knowledge(\"machine\"))  # Partial match\n",
    "print(\"\\n\" + search_knowledge(\"blockchain\"))  # Not found"
   ]
  },
  {
   "cell_type": "markdown",
   "metadata": {},
   "source": [
    "## 4. Function Calling Integration\n",
    "\n",
    "Now that we have our tools defined, let's integrate them with the LLM API. This involves:\n",
    "\n",
    "1. Making API calls with tool definitions\n",
    "2. Parsing tool call responses\n",
    "3. Executing the requested functions\n",
    "4. Feeding results back to the conversation\n",
    "\n",
    "### 4.1 Making API Calls with Tools"
   ]
  },
  {
   "cell_type": "code",
   "execution_count": 10,
   "metadata": {},
   "outputs": [
    {
     "name": "stdout",
     "output_type": "stream",
     "text": [
      "🔧 Tool registry created with functions:\n",
      "  • get_weather: Get current weather for a location (simulated with realistic data)\n",
      "  • calculate: Safely evaluate mathematical expressions\n",
      "  • search_knowledge: Search a simulated knowledge base for information\n",
      "\n",
      "📋 Available tools: 3 tools ready for Gemini 2.5 Flash model\n"
     ]
    }
   ],
   "source": [
    "def call_with_tools(prompt, tools, model=\"google/gemini-2.5-flash-preview\", **kwargs):\n",
    "    \"\"\"Make an API call with tool support using Gemini.\n",
    "    \n",
    "    Args:\n",
    "        prompt: The user's prompt or conversation messages\n",
    "        tools: List of tool definitions in tools format\n",
    "        model: Model to use (default: Gemini 2.5 Flash Preview)\n",
    "        **kwargs: Additional parameters for the API call\n",
    "        \n",
    "    Returns:\n",
    "        API response dictionary\n",
    "    \"\"\"\n",
    "    # Convert tools format to functions format for call_openrouter\n",
    "    # The Day 2 api_utils expects 'functions' parameter, not 'tools'\n",
    "    functions = []\n",
    "    for tool in tools:\n",
    "        if tool.get(\"type\") == \"function\":\n",
    "            functions.append(tool[\"function\"])\n",
    "        else:\n",
    "            # If it's already in function format, use as-is\n",
    "            functions.append(tool)\n",
    "    \n",
    "    # Create a system prompt that encourages tool use with Gemini\n",
    "    system_prompt = \"You are a helpful assistant with access to tools. When the user asks for information that can be obtained through tools, you should use the appropriate tool rather than providing a general response.\"\n",
    "    \n",
    "    # Prepare the request with functions\n",
    "    response = call_openrouter(\n",
    "        prompt=prompt,\n",
    "        model=model,\n",
    "        system_prompt=system_prompt,\n",
    "        functions=functions if functions else None,\n",
    "        temperature=kwargs.get('temperature', 0.3),  # Lower temperature for more reliable tool use\n",
    "        max_tokens=kwargs.get('max_tokens', 300)\n",
    "    )\n",
    "    return response\n",
    "\n",
    "# Create our tool registry - maps function names to actual functions\n",
    "tool_functions = {\n",
    "    \"get_weather\": get_weather,\n",
    "    \"calculate\": calculate, \n",
    "    \"search_knowledge\": search_knowledge\n",
    "}\n",
    "\n",
    "# List of all our tools\n",
    "all_tools = [weather_tool, calculator_tool, search_tool]\n",
    "\n",
    "print(\"🔧 Tool registry created with functions:\")\n",
    "for name, func in tool_functions.items():\n",
    "    print(f\"  • {name}: {func.__doc__.split('.')[0] if func.__doc__ else 'No description'}\")\n",
    "    \n",
    "print(f\"\\n📋 Available tools: {len(all_tools)} tools ready for Gemini 2.5 Flash model\")"
   ]
  },
  {
   "cell_type": "code",
   "execution_count": 11,
   "metadata": {},
   "outputs": [
    {
     "name": "stdout",
     "output_type": "stream",
     "text": [
      "🧪 Testing tool call extraction...\n",
      "✅ Found tool call: get_weather with args: {'location': 'Tokyo'}\n",
      "\n",
      "🎯 Tool call processed successfully!\n"
     ]
    },
    {
     "data": {
      "text/markdown": [
       "### Tool Execution Results\n",
       "\n",
       "\n",
       "**Function Called:** `get_weather`  \n",
       "**Arguments:** `{'location': 'Tokyo'}`  \n",
       "**Result:** Current weather in Tokyo: 22°C, Partly cloudy, 60% humidity, Wind: 8 km/h E\n",
       "            "
      ],
      "text/plain": [
       "<IPython.core.display.Markdown object>"
      ]
     },
     "metadata": {},
     "output_type": "display_data"
    }
   ],
   "source": [
    "import json  # Add missing import\n",
    "\n",
    "def extract_and_execute_tool_call(response, tool_functions):\n",
    "    \"\"\"Extract and execute tool calls from API response.\n",
    "    \n",
    "    Args:\n",
    "        response: API response dictionary from call_openrouter\n",
    "        tool_functions: Dictionary mapping function names to actual functions\n",
    "        \n",
    "    Returns:\n",
    "        tuple: (tool_call_info, execution_result) or (None, None) if no tool call\n",
    "    \"\"\"\n",
    "    if not response.get(\"success\", False):\n",
    "        return None, f\"API Error: {response.get('error', 'Unknown error')}\"\n",
    "    \n",
    "    try:\n",
    "        # Extract the message from the response\n",
    "        message = response[\"response\"][\"choices\"][0][\"message\"]\n",
    "        \n",
    "        # Check for tool_calls (new format) first\n",
    "        tool_calls = message.get(\"tool_calls\", [])\n",
    "        if tool_calls and len(tool_calls) > 0:\n",
    "            tool_call = tool_calls[0]  # Get the first tool call\n",
    "            function_info = {\n",
    "                \"success\": True,\n",
    "                \"tool_id\": tool_call.get(\"id\"),\n",
    "                \"function_name\": tool_call.get(\"function\", {}).get(\"name\"),\n",
    "                \"arguments\": json.loads(tool_call.get(\"function\", {}).get(\"arguments\", \"{}\"))\n",
    "            }\n",
    "            print(f\"✅ Found tool call: {function_info['function_name']} with args: {function_info['arguments']}\")\n",
    "        else:\n",
    "            # Fall back to the original extract_function_call for legacy formats\n",
    "            function_info = extract_function_call(response)\n",
    "            if not function_info.get(\"success\", False):\n",
    "                return None, None\n",
    "        \n",
    "        function_name = function_info.get(\"function_name\")\n",
    "        arguments = function_info.get(\"arguments\", {})\n",
    "        \n",
    "        if function_name not in tool_functions:\n",
    "            return function_info, f\"Error: Function '{function_name}' not found in tool registry\"\n",
    "        \n",
    "        # Execute the function with the extracted arguments\n",
    "        try:\n",
    "            func = tool_functions[function_name]\n",
    "            \n",
    "            # Handle different argument patterns\n",
    "            if isinstance(arguments, dict):\n",
    "                if len(arguments) == 1 and function_name in [\"get_weather\", \"search_knowledge\", \"calculate\"]:\n",
    "                    # Single argument functions - pass the first value\n",
    "                    arg_value = list(arguments.values())[0]\n",
    "                    result = func(arg_value)\n",
    "                elif function_name == \"convert_units\" and len(arguments) == 3:\n",
    "                    # Multi-argument function - pass all arguments\n",
    "                    result = func(**arguments)\n",
    "                else:\n",
    "                    # Try to pass all arguments as keyword arguments\n",
    "                    result = func(**arguments)\n",
    "            else:\n",
    "                # Fallback for non-dict arguments\n",
    "                result = func(arguments)\n",
    "            \n",
    "            return function_info, result\n",
    "            \n",
    "        except Exception as e:\n",
    "            return function_info, f\"Error executing {function_name}: {str(e)}\"\n",
    "            \n",
    "    except Exception as e:\n",
    "        return None, f\"Error processing tool call: {str(e)}\"\n",
    "\n",
    "# Test the extraction function with a simple example\n",
    "def demo_tool_extraction():\n",
    "    \"\"\"Demonstrate tool call extraction with a live example.\"\"\"\n",
    "    print(\"🧪 Testing tool call extraction...\")\n",
    "    \n",
    "    # Try a more explicit prompt\n",
    "    test_prompt = \"Use the get_weather function to get the current weather in Tokyo. You must call the function, do not provide general weather information.\"\n",
    "    \n",
    "    test_response = call_with_tools(test_prompt, all_tools)\n",
    "    \n",
    "    if test_response.get(\"success\"):\n",
    "        tool_call, result = extract_and_execute_tool_call(test_response, tool_functions)\n",
    "        if tool_call:\n",
    "            print(\"\\n🎯 Tool call processed successfully!\")\n",
    "            \n",
    "            # Display results with proper formatting\n",
    "            tool_info = f\"\"\"\n",
    "**Function Called:** `{tool_call.get('function_name', 'Unknown')}`  \n",
    "**Arguments:** `{tool_call.get('arguments', {})}`  \n",
    "**Result:** {result}\n",
    "            \"\"\"\n",
    "            display_markdown(tool_info, \"Tool Execution Results\")\n",
    "            \n",
    "        else:\n",
    "            regular_response = extract_text_response(test_response)\n",
    "            print(f\"\\n❌ No tool call detected. Regular response:\")\n",
    "            display_llm_response(regular_response, title=\"Regular Response (No Tool Call)\")\n",
    "    else:\n",
    "        display_error(f\"API call failed: {test_response.get('error')}\")\n",
    "\n",
    "demo_tool_extraction()"
   ]
  },
  {
   "cell_type": "markdown",
   "metadata": {},
   "source": [
    "### 4.3 Complete Working Example: Multi-Tool Agent\n",
    "\n",
    "Now let's put it all together to create a complete agent that can use multiple tools to answer complex questions. We'll use a simple, reliable approach that avoids complex conversation state management."
   ]
  },
  {
   "cell_type": "code",
   "execution_count": 12,
   "metadata": {},
   "outputs": [
    {
     "name": "stdout",
     "output_type": "stream",
     "text": [
      "🚀 TESTING SIMPLE MULTI-TOOL APPROACH WITH GEMINI 2.5 FLASH\n",
      "============================================================\n",
      "\n",
      "**TEST 1: Multi-tool query**\n",
      "🤖 Simple multi-tool approach with Gemini: 'I'm planning a trip to London. Tell me the weather and calculate 20% tip on £150.'\n",
      "\n",
      "🌤️ Getting weather information...\n",
      "✅ Found tool call: get_weather with args: {'location': 'London'}\n",
      "✅ Weather: Current weather in London: 15°C, Light rain, 80% humidity, Wind: 12 km/h SW\n",
      "\n",
      "🧮 Performing calculation...\n",
      "✅ Found tool call: calculate with args: {'expression': '150 * 0.20'}\n",
      "✅ Calculation: Result: 30\n",
      "\n",
      "📝 Combining 2 results...\n"
     ]
    },
    {
     "data": {
      "text/html": [
       "\n",
       "    <div style=\"\n",
       "        border: 2px solid #e1e5e9; \n",
       "        border-radius: 8px; \n",
       "        padding: 15px; \n",
       "        margin: 10px 0; \n",
       "        background-color: #f8f9fa;\n",
       "        box-shadow: 0 2px 4px rgba(0,0,0,0.1);\n",
       "    \">\n",
       "        <h4 style=\"\n",
       "            color: #2c3e50; \n",
       "            margin: 0 0 10px 0; \n",
       "            font-family: 'Segoe UI', Tahoma, Geneva, Verdana, sans-serif;\n",
       "        \">\n",
       "            🤖 London Trip Planning Result (Gemini 2.5 Flash Multi-tool Agent)\n",
       "        </h4>\n",
       "        <div style=\"\n",
       "            background: white; \n",
       "            padding: 15px; \n",
       "            border-radius: 5px;\n",
       "            line-height: 1.6;\n",
       "            font-family: -apple-system, BlinkMacSystemFont, 'Segoe UI', sans-serif;\n",
       "        \">\n",
       "    "
      ],
      "text/plain": [
       "<IPython.core.display.HTML object>"
      ]
     },
     "metadata": {},
     "output_type": "display_data"
    },
    {
     "data": {
      "text/markdown": [
       "Okay, here's a helpful response for your trip planning to London:\n",
       "\n",
       "**London Weather & Tip Calculation:**\n",
       "\n",
       "Here's the information you requested for your trip to London:\n",
       "\n",
       "* **Weather:** Currently in London, it's **15°C** with **light rain**. The humidity is **80%**, and there's a wind coming from the **southwest** at **12 km/h**.\n",
       "\n",
       "* **Tip Calculation:** A 20% tip on £150 is **£30**.\n",
       "\n",
       "**Tips for Your London Trip based on this information:**\n",
       "\n",
       "* **Be prepared for rain:** Given the light rain, it's a good idea to pack a waterproof jacket or umbrella for your trip.\n",
       "* **Layer up:** 15°C is cool, so bring layers of clothing so you can adjust to the temperature throughout the day.\n",
       "* **Keep an eye on the forecast:** While this is the current weather, London weather can change quickly. Check the forecast closer to your travel dates and during your trip for the most up-to-date information.\n",
       "* **Tipping in London:** While tipping is appreciated in London, it's not as ingrained as in some other countries. For restaurant service, a 10-15% tip is more common, especially if a service charge hasn't already been added to the bill. However, 20% is certainly generous and will be"
      ],
      "text/plain": [
       "<IPython.core.display.Markdown object>"
      ]
     },
     "metadata": {},
     "output_type": "display_data"
    },
    {
     "data": {
      "text/html": [
       "</div></div>"
      ],
      "text/plain": [
       "<IPython.core.display.HTML object>"
      ]
     },
     "metadata": {},
     "output_type": "display_data"
    },
    {
     "name": "stdout",
     "output_type": "stream",
     "text": [
      "\n",
      "============================================================\n",
      "\n",
      "**TEST 2: Weather query**\n",
      "🤖 Simple multi-tool approach with Gemini: 'What's the weather in Tokyo?'\n",
      "\n",
      "🌤️ Getting weather information...\n",
      "✅ Found tool call: get_weather with args: {'location': 'Tokyo'}\n",
      "✅ Weather: Current weather in Tokyo: 22°C, Partly cloudy, 60% humidity, Wind: 8 km/h E\n",
      "\n",
      "📝 Combining 1 results...\n"
     ]
    },
    {
     "data": {
      "text/html": [
       "\n",
       "    <div style=\"\n",
       "        border: 2px solid #e1e5e9; \n",
       "        border-radius: 8px; \n",
       "        padding: 15px; \n",
       "        margin: 10px 0; \n",
       "        background-color: #f8f9fa;\n",
       "        box-shadow: 0 2px 4px rgba(0,0,0,0.1);\n",
       "    \">\n",
       "        <h4 style=\"\n",
       "            color: #2c3e50; \n",
       "            margin: 0 0 10px 0; \n",
       "            font-family: 'Segoe UI', Tahoma, Geneva, Verdana, sans-serif;\n",
       "        \">\n",
       "            🤖 Tokyo Weather Result (Gemini 2.5 Flash Multi-tool Agent)\n",
       "        </h4>\n",
       "        <div style=\"\n",
       "            background: white; \n",
       "            padding: 15px; \n",
       "            border-radius: 5px;\n",
       "            line-height: 1.6;\n",
       "            font-family: -apple-system, BlinkMacSystemFont, 'Segoe UI', sans-serif;\n",
       "        \">\n",
       "    "
      ],
      "text/plain": [
       "<IPython.core.display.HTML object>"
      ]
     },
     "metadata": {},
     "output_type": "display_data"
    },
    {
     "data": {
      "text/markdown": [
       "Okay, here's a helpful and comprehensive response about the weather in Tokyo based on the information you provided:\n",
       "\n",
       "**\"The current weather in Tokyo is 22°C and it's partly cloudy. The humidity is 60%, and there's a light breeze coming from the east at 8 km/h.\"**\n",
       "\n",
       "Here are some additional ways you could frame the response, depending on the context of the conversation:\n",
       "\n",
       "**For a quick and concise answer:**\n",
       "\n",
       "> \"It's currently 22°C and partly cloudy in Tokyo. There's 60% humidity and a light easterly wind at 8 km/h.\"\n",
       "\n",
       "**For a slightly more descriptive answer:**\n",
       "\n",
       "> \"Right now in Tokyo, it's a pleasant 22°C with some clouds in the sky. The air feels a bit humid at 60%, and there's a gentle 8 km/h wind blowing from the east.\"\n",
       "\n",
       "**If you wanted to give a little more context (though not strictly necessary based *only* on the provided info):**\n",
       "\n",
       "> \"The weather in Tokyo is currently 22°C and partly cloudy. With 60% humidity and a light 8 km/h easterly wind, it seems like a comfortable day.\"\n",
       "\n",
       "**Key elements of a helpful and comprehensive response include:**\n",
       "\n",
       "* **Directly answering the question:** Starting with the temperature and the general conditions (partly"
      ],
      "text/plain": [
       "<IPython.core.display.Markdown object>"
      ]
     },
     "metadata": {},
     "output_type": "display_data"
    },
    {
     "data": {
      "text/html": [
       "</div></div>"
      ],
      "text/plain": [
       "<IPython.core.display.HTML object>"
      ]
     },
     "metadata": {},
     "output_type": "display_data"
    },
    {
     "name": "stdout",
     "output_type": "stream",
     "text": [
      "\n",
      "============================================================\n",
      "\n",
      "**TEST 3: Calculation query**\n",
      "🤖 Simple multi-tool approach with Gemini: 'Calculate 25 * 4 + 100'\n",
      "\n",
      "🧮 Performing calculation...\n",
      "✅ Found tool call: calculate with args: {'expression': '25 * 4 + 100'}\n",
      "✅ Calculation: Result: 200\n",
      "\n",
      "📝 Combining 1 results...\n"
     ]
    },
    {
     "data": {
      "text/html": [
       "\n",
       "    <div style=\"\n",
       "        border: 2px solid #e1e5e9; \n",
       "        border-radius: 8px; \n",
       "        padding: 15px; \n",
       "        margin: 10px 0; \n",
       "        background-color: #f8f9fa;\n",
       "        box-shadow: 0 2px 4px rgba(0,0,0,0.1);\n",
       "    \">\n",
       "        <h4 style=\"\n",
       "            color: #2c3e50; \n",
       "            margin: 0 0 10px 0; \n",
       "            font-family: 'Segoe UI', Tahoma, Geneva, Verdana, sans-serif;\n",
       "        \">\n",
       "            🤖 Mathematical Calculation Result (Gemini 2.5 Flash Multi-tool Agent)\n",
       "        </h4>\n",
       "        <div style=\"\n",
       "            background: white; \n",
       "            padding: 15px; \n",
       "            border-radius: 5px;\n",
       "            line-height: 1.6;\n",
       "            font-family: -apple-system, BlinkMacSystemFont, 'Segoe UI', sans-serif;\n",
       "        \">\n",
       "    "
      ],
      "text/plain": [
       "<IPython.core.display.HTML object>"
      ]
     },
     "metadata": {},
     "output_type": "display_data"
    },
    {
     "data": {
      "text/markdown": [
       "Based on your request to calculate **25 * 4 + 100**, here's the breakdown and the result:\n",
       "\n",
       "**Calculation:**\n",
       "\n",
       "We follow the order of operations (PEMDAS/BODMAS), which means we perform multiplication before addition:\n",
       "\n",
       "1. **Multiplication:** 25 * 4 = 100\n",
       "2. **Addition:** 100 + 100 = 200\n",
       "\n",
       "**Result:**\n",
       "\n",
       "The result of 25 * 4 + 100 is **200**.\n",
       "\n",
       "Let me know if you have any other calculations you'd like me to perform!"
      ],
      "text/plain": [
       "<IPython.core.display.Markdown object>"
      ]
     },
     "metadata": {},
     "output_type": "display_data"
    },
    {
     "data": {
      "text/html": [
       "</div></div>"
      ],
      "text/plain": [
       "<IPython.core.display.HTML object>"
      ]
     },
     "metadata": {},
     "output_type": "display_data"
    },
    {
     "name": "stdout",
     "output_type": "stream",
     "text": [
      "\n",
      "============================================================\n",
      "\n",
      "**TEST 4: Knowledge query**\n",
      "🤖 Simple multi-tool approach with Gemini: 'Tell me about Python programming language'\n",
      "\n",
      "🔍 Searching knowledge base...\n",
      "✅ Found tool call: search_knowledge with args: {'query': 'Python programming language'}\n",
      "✅ Knowledge: 📚 Information about Python: Python is a high-level programming language known for its simplicity and readability. Created by Guido van Rossum in 1991, it's widely used for web development, data science, AI, and automation.\n",
      "\n",
      "📝 Combining 1 results...\n"
     ]
    },
    {
     "data": {
      "text/html": [
       "\n",
       "    <div style=\"\n",
       "        border: 2px solid #e1e5e9; \n",
       "        border-radius: 8px; \n",
       "        padding: 15px; \n",
       "        margin: 10px 0; \n",
       "        background-color: #f8f9fa;\n",
       "        box-shadow: 0 2px 4px rgba(0,0,0,0.1);\n",
       "    \">\n",
       "        <h4 style=\"\n",
       "            color: #2c3e50; \n",
       "            margin: 0 0 10px 0; \n",
       "            font-family: 'Segoe UI', Tahoma, Geneva, Verdana, sans-serif;\n",
       "        \">\n",
       "            🤖 Python Knowledge Lookup Result (Gemini 2.5 Flash Multi-tool Agent)\n",
       "        </h4>\n",
       "        <div style=\"\n",
       "            background: white; \n",
       "            padding: 15px; \n",
       "            border-radius: 5px;\n",
       "            line-height: 1.6;\n",
       "            font-family: -apple-system, BlinkMacSystemFont, 'Segoe UI', sans-serif;\n",
       "        \">\n",
       "    "
      ],
      "text/plain": [
       "<IPython.core.display.HTML object>"
      ]
     },
     "metadata": {},
     "output_type": "display_data"
    },
    {
     "data": {
      "text/markdown": [
       "Okay, let's talk about Python!\n",
       "\n",
       "Based on the information you provided and general knowledge about Python, here's a comprehensive overview:\n",
       "\n",
       "**Python: A Powerful and Versatile Programming Language**\n",
       "\n",
       "Python is a **high-level programming language** that was created by Guido van Rossum and first released in 1991. It's renowned for its **simplicity and readability**, which makes it a great language for beginners to learn.\n",
       "\n",
       "Here's a breakdown of what makes Python so popular and widely used:\n",
       "\n",
       "* **Readability and Simplicity:** Python's syntax is designed to be intuitive and easy to understand, resembling natural language more than many other programming languages. This reduces the cognitive load and makes it easier to write and maintain code.\n",
       "* **Versatility and Wide Applications:** Python is a truly versatile language used across a vast range of domains. Some of its key areas of application include:\n",
       "    * **Web Development:** Frameworks like Django and Flask are incredibly popular for building robust and scalable web applications.\n",
       "    * **Data Science and Analytics:** Python is a cornerstone of the data science world with powerful libraries like NumPy, Pandas, and Scikit-learn for data manipulation, analysis, and machine learning.\n",
       "    * **Artificial Intelligence (AI) and Machine Learning (ML):** Python is the go-to language for AI and ML development, thanks to libraries like TensorFlow and PyTorch.\n",
       "    * **Automation and Scripting"
      ],
      "text/plain": [
       "<IPython.core.display.Markdown object>"
      ]
     },
     "metadata": {},
     "output_type": "display_data"
    },
    {
     "data": {
      "text/html": [
       "</div></div>"
      ],
      "text/plain": [
       "<IPython.core.display.HTML object>"
      ]
     },
     "metadata": {},
     "output_type": "display_data"
    }
   ],
   "source": [
    "# Working Multi-Tool Agent Solution with Gemini\n",
    "def simple_multi_tool_approach(user_query):\n",
    "    \"\"\"Simple approach: execute each tool individually, then combine results.\"\"\"\n",
    "    print(f\"🤖 Simple multi-tool approach with Gemini: '{user_query}'\")\n",
    "    \n",
    "    results = []\n",
    "    gemini_model = \"google/gemini-2.5-flash-preview\"\n",
    "    \n",
    "    # Step 1: Check if weather is needed and get it\n",
    "    if \"weather\" in user_query.lower() or any(city in user_query.lower() for city in [\"london\", \"tokyo\", \"paris\", \"new york\", \"sydney\"]):\n",
    "        print(\"\\n🌤️ Getting weather information...\")\n",
    "        weather_conversation = [\n",
    "            {\"role\": \"system\", \"content\": \"You are a weather assistant. Use the get_weather tool to get current weather information. You must use the tool, not provide general information.\"},\n",
    "            {\"role\": \"user\", \"content\": user_query}\n",
    "        ]\n",
    "        \n",
    "        weather_response = call_openrouter(\n",
    "            prompt=weather_conversation,\n",
    "            model=gemini_model,\n",
    "            functions=[weather_tool[\"function\"]],\n",
    "            temperature=0.2,\n",
    "            max_tokens=300\n",
    "        )\n",
    "        \n",
    "        if weather_response.get(\"success\"):\n",
    "            tool_call, result = extract_and_execute_tool_call(weather_response, {\"get_weather\": get_weather})\n",
    "            if tool_call:\n",
    "                results.append((\"Weather\", result))\n",
    "                print(f\"✅ Weather: {result}\")\n",
    "    \n",
    "    # Step 2: Check if calculation is needed and do it\n",
    "    if any(word in user_query.lower() for word in [\"calculate\", \"tip\", \"percent\", \"%\", \"math\", \"+\", \"-\", \"*\", \"/\"]):\n",
    "        print(\"\\n🧮 Performing calculation...\")\n",
    "        calc_conversation = [\n",
    "            {\"role\": \"system\", \"content\": \"You are a calculation assistant. Use the calculate tool to perform mathematical calculations. You must use the tool for any mathematical operations.\"},\n",
    "            {\"role\": \"user\", \"content\": user_query}\n",
    "        ]\n",
    "        \n",
    "        calc_response = call_openrouter(\n",
    "            prompt=calc_conversation,\n",
    "            model=gemini_model,\n",
    "            functions=[calculator_tool[\"function\"]],\n",
    "            temperature=0.2,\n",
    "            max_tokens=300\n",
    "        )\n",
    "        \n",
    "        if calc_response.get(\"success\"):\n",
    "            tool_call, result = extract_and_execute_tool_call(calc_response, {\"calculate\": calculate})\n",
    "            if tool_call:\n",
    "                results.append((\"Calculation\", result))\n",
    "                print(f\"✅ Calculation: {result}\")\n",
    "    \n",
    "    # Step 3: Check if knowledge search is needed\n",
    "    if any(word in user_query.lower() for word in [\"search\", \"find\", \"lookup\", \"information\", \"about\", \"what is\", \"tell me about\"]):\n",
    "        print(\"\\n🔍 Searching knowledge base...\")\n",
    "        search_conversation = [\n",
    "            {\"role\": \"system\", \"content\": \"You are a knowledge assistant. Use the search_knowledge tool to find information. You must use the tool to search for information.\"},\n",
    "            {\"role\": \"user\", \"content\": user_query}\n",
    "        ]\n",
    "        \n",
    "        search_response = call_openrouter(\n",
    "            prompt=search_conversation,\n",
    "            model=gemini_model,\n",
    "            functions=[search_tool[\"function\"]],\n",
    "            temperature=0.2,\n",
    "            max_tokens=300\n",
    "        )\n",
    "        \n",
    "        if search_response.get(\"success\"):\n",
    "            tool_call, result = extract_and_execute_tool_call(search_response, {\"search_knowledge\": search_knowledge})\n",
    "            if tool_call:\n",
    "                results.append((\"Knowledge\", result))\n",
    "                print(f\"✅ Knowledge: {result}\")\n",
    "    \n",
    "    # Step 4: Combine results into final response\n",
    "    if results:\n",
    "        print(f\"\\n📝 Combining {len(results)} results...\")\n",
    "        \n",
    "        results_text = \"Based on your request:\\n\\n\"\n",
    "        for category, result in results:\n",
    "            results_text += f\"**{category}**: {result}\\n\\n\"\n",
    "        \n",
    "        final_prompt = f\"\"\"User asked: \"{user_query}\"\n",
    "\n",
    "{results_text}\n",
    "\n",
    "Please provide a helpful and comprehensive response to the user based on this information.\"\"\"\n",
    "        \n",
    "        final_response = call_openrouter(\n",
    "            prompt=final_prompt,\n",
    "            model=gemini_model,\n",
    "            temperature=0.7,\n",
    "            max_tokens=300\n",
    "        )\n",
    "        \n",
    "        if final_response.get(\"success\"):\n",
    "            return extract_text_response(final_response)\n",
    "        else:\n",
    "            return f\"Error in final response: {final_response.get('error')}\"\n",
    "    else:\n",
    "        # No tools were used, just answer directly\n",
    "        print(\"📝 No tools needed, providing direct response...\")\n",
    "        direct_response = call_openrouter(\n",
    "            prompt=user_query,\n",
    "            model=gemini_model,\n",
    "            temperature=0.7,\n",
    "            max_tokens=300\n",
    "        )\n",
    "        \n",
    "        if direct_response.get(\"success\"):\n",
    "            return extract_text_response(direct_response)\n",
    "        else:\n",
    "            return f\"Error in direct response: {direct_response.get('error')}\"\n",
    "\n",
    "# Test the simple multi-tool approach with Gemini\n",
    "print(\"🚀 TESTING SIMPLE MULTI-TOOL APPROACH WITH GEMINI 2.5 FLASH\")\n",
    "print(\"=\" * 60)\n",
    "\n",
    "# Test 1: Complex multi-tool query\n",
    "print(\"\\n**TEST 1: Multi-tool query**\")\n",
    "complex_result = simple_multi_tool_approach(\"I'm planning a trip to London. Tell me the weather and calculate 20% tip on £150.\")\n",
    "display_llm_response(complex_result, model=\"Gemini 2.5 Flash Multi-tool Agent\", title=\"London Trip Planning Result\")\n",
    "\n",
    "print(\"\\n\" + \"=\" * 60)\n",
    "\n",
    "# Test 2: Single tool query\n",
    "print(\"\\n**TEST 2: Weather query**\")\n",
    "weather_result = simple_multi_tool_approach(\"What's the weather in Tokyo?\")\n",
    "display_llm_response(weather_result, model=\"Gemini 2.5 Flash Multi-tool Agent\", title=\"Tokyo Weather Result\")\n",
    "\n",
    "print(\"\\n\" + \"=\" * 60)\n",
    "\n",
    "# Test 3: Calculation query\n",
    "print(\"\\n**TEST 3: Calculation query**\")\n",
    "calc_result = simple_multi_tool_approach(\"Calculate 25 * 4 + 100\")\n",
    "display_llm_response(calc_result, model=\"Gemini 2.5 Flash Multi-tool Agent\", title=\"Mathematical Calculation Result\")\n",
    "\n",
    "print(\"\\n\" + \"=\" * 60)\n",
    "\n",
    "# Test 4: Knowledge query\n",
    "print(\"\\n**TEST 4: Knowledge query**\")\n",
    "knowledge_result = simple_multi_tool_approach(\"Tell me about Python programming language\")\n",
    "display_llm_response(knowledge_result, model=\"Gemini 2.5 Flash Multi-tool Agent\", title=\"Python Knowledge Lookup Result\")"
   ]
  },
  {
   "cell_type": "markdown",
   "metadata": {},
   "source": [
    "## 5. Key Takeaways and Best Practices\n",
    "\n",
    "### 5.1 What We've Learned\n",
    "\n",
    "1. **Tools extend LLM capabilities** beyond their training data\n",
    "2. **Proper tool definition** is crucial for reliable function calling\n",
    "3. **Error handling** in tool functions prevents agent failures\n",
    "4. **Simple architectures** are often more reliable than complex ones\n",
    "5. **Sequential tool execution** avoids conversation state complexity\n",
    "\n",
    "### 5.2 Best Practices\n",
    "\n",
    "1. **Clear tool descriptions**: Help the LLM understand when to use each tool\n",
    "2. **Input validation**: Always validate and sanitize tool inputs\n",
    "3. **Error handling**: Gracefully handle tool execution failures\n",
    "4. **Security**: Never allow dangerous operations in tools\n",
    "5. **Performance**: Keep tool execution fast and reliable\n",
    "6. **Architecture**: Choose simple, maintainable patterns over complex ones\n",
    "\n",
    "### 5.3 Common Patterns\n",
    "\n",
    "- **Information retrieval**: Weather, search, lookup tools\n",
    "- **Computation**: Calculator, data analysis, conversion tools  \n",
    "- **External actions**: Email, booking, file operations\n",
    "- **Validation**: Fact-checking, data verification tools\n",
    "\n",
    "### 5.4 Production Considerations\n",
    "\n",
    "- **Rate limiting**: Respect API limits and implement backoff strategies\n",
    "- **Caching**: Cache tool results when appropriate\n",
    "- **Monitoring**: Log tool usage and performance metrics\n",
    "- **Fallbacks**: Have backup strategies when tools fail"
   ]
  },
  {
   "cell_type": "markdown",
   "metadata": {},
   "source": [
    "## 6. Next Steps\n",
    "\n",
    "In the next notebook, we'll explore:\n",
    "\n",
    "- **Advanced agent architectures**: ReAct pattern, planning agents, and tool chains\n",
    "- **Error recovery**: Handling tool failures gracefully\n",
    "- **Performance optimization**: Caching, parallel execution, and efficiency\n",
    "- **Real-world integration**: Connecting to actual APIs and services\n",
    "- **Agent evaluation**: Testing and measuring agent performance\n",
    "\n",
    "You now have the foundation to build sophisticated agents that can interact with the real world through tools!"
   ]
  },
  {
   "cell_type": "markdown",
   "metadata": {},
   "source": [
    "## 7. Practice Exercise\n",
    "\n",
    "Try creating your own tool! Here's a template:"
   ]
  },
  {
   "cell_type": "code",
   "execution_count": null,
   "metadata": {},
   "outputs": [],
   "source": [
    "# Exercise: Create a unit converter tool\n",
    "def convert_units(value: float, from_unit: str, to_unit: str) -> str:\n",
    "    \"\"\"Convert between different units.\n",
    "    \n",
    "    Args:\n",
    "        value: The numeric value to convert\n",
    "        from_unit: The source unit (e.g., 'celsius', 'fahrenheit', 'meters', 'feet')\n",
    "        to_unit: The target unit\n",
    "        \n",
    "    Returns:\n",
    "        Conversion result or error message\n",
    "    \"\"\"\n",
    "    # Unit conversion mappings\n",
    "    conversions = {\n",
    "        ('celsius', 'fahrenheit'): lambda x: x * 9/5 + 32,\n",
    "        ('fahrenheit', 'celsius'): lambda x: (x - 32) * 5/9,\n",
    "        ('meters', 'feet'): lambda x: x * 3.28084,\n",
    "        ('feet', 'meters'): lambda x: x / 3.28084,\n",
    "        ('kilometers', 'miles'): lambda x: x * 0.621371,\n",
    "        ('miles', 'kilometers'): lambda x: x / 0.621371,\n",
    "        ('kilograms', 'pounds'): lambda x: x * 2.20462,\n",
    "        ('pounds', 'kilograms'): lambda x: x / 2.20462,\n",
    "    }\n",
    "    \n",
    "    key = (from_unit.lower(), to_unit.lower())\n",
    "    if key in conversions:\n",
    "        result = conversions[key](value)\n",
    "        return f\"{value} {from_unit} = {result:.2f} {to_unit}\"\n",
    "    else:\n",
    "        available = [f\"{f} → {t}\" for f, t in conversions.keys()]\n",
    "        return f\"Conversion from {from_unit} to {to_unit} not supported. Available: {', '.join(available[:3])}...\"\n",
    "\n",
    "# Define the tool specification for your converter\n",
    "converter_tool = {\n",
    "    \"type\": \"function\",\n",
    "    \"function\": {\n",
    "        \"name\": \"convert_units\",\n",
    "        \"description\": \"Convert between different units of measurement (temperature, distance, weight)\",\n",
    "        \"parameters\": {\n",
    "            \"type\": \"object\",\n",
    "            \"properties\": {\n",
    "                \"value\": {\n",
    "                    \"type\": \"number\",\n",
    "                    \"description\": \"The numeric value to convert\"\n",
    "                },\n",
    "                \"from_unit\": {\n",
    "                    \"type\": \"string\", \n",
    "                    \"description\": \"Source unit (celsius, fahrenheit, meters, feet, kilometers, miles, kilograms, pounds)\"\n",
    "                },\n",
    "                \"to_unit\": {\n",
    "                    \"type\": \"string\",\n",
    "                    \"description\": \"Target unit for conversion\"\n",
    "                }\n",
    "            },\n",
    "            \"required\": [\"value\", \"from_unit\", \"to_unit\"]\n",
    "        }\n",
    "    }\n",
    "}\n",
    "\n",
    "# Test your tool with markdown display\n",
    "print(\"🧪 Testing unit converter:\")\n",
    "\n",
    "test_cases = [\n",
    "    (100, \"celsius\", \"fahrenheit\"),\n",
    "    (10, \"meters\", \"feet\"),\n",
    "    (5, \"kilometers\", \"miles\")\n",
    "]\n",
    "\n",
    "for value, from_unit, to_unit in test_cases:\n",
    "    result = convert_units(value, from_unit, to_unit)\n",
    "    display_markdown(f\"**{value} {from_unit} → {to_unit}:** {result}\")\n",
    "\n",
    "# Challenge: Integrate this tool into the simple_multi_tool_approach function!\n",
    "challenge_text = \"\"\"\n",
    "### 🎯 **Challenge**\n",
    "\n",
    "Try integrating your unit converter tool into the `simple_multi_tool_approach()` function:\n",
    "\n",
    "1. **Add unit conversion detection** - Check for keywords like \"convert\", \"temperature\", \"distance\"\n",
    "2. **Create the tool conversation** - Set up a system prompt for unit conversion\n",
    "3. **Execute and integrate** - Add the conversion result to the final response\n",
    "4. **Test it** - Try a query like \"Convert 100 celsius to fahrenheit and tell me the weather in Paris\"\n",
    "\n",
    "This exercise demonstrates how to extend the multi-tool agent with new capabilities!\n",
    "\"\"\"\n",
    "\n",
    "display_markdown(challenge_text, \"Practice Challenge\")"
   ]
  }
 ],
 "metadata": {
  "kernelspec": {
   "display_name": "Python [conda env:agentic_course] *",
   "language": "python",
   "name": "conda-env-agentic_course-py"
  },
  "language_info": {
   "codemirror_mode": {
    "name": "ipython",
    "version": 3
   },
   "file_extension": ".py",
   "mimetype": "text/x-python",
   "name": "python",
   "nbconvert_exporter": "python",
   "pygments_lexer": "ipython3",
   "version": "3.13.4"
  }
 },
 "nbformat": 4,
 "nbformat_minor": 4
}
